{
 "cells": [
  {
   "cell_type": "markdown",
   "metadata": {},
   "source": [
    "# Informe CEV (v.2) - Page 3"
   ]
  },
  {
   "cell_type": "markdown",
   "metadata": {},
   "source": [
    "### Import `PyMuPDF`"
   ]
  },
  {
   "cell_type": "code",
   "execution_count": null,
   "metadata": {
    "execution": {
     "iopub.execute_input": "2022-07-18T14:47:50.653979Z",
     "iopub.status.busy": "2022-07-18T14:47:50.653590Z",
     "iopub.status.idle": "2022-07-18T14:47:50.688352Z",
     "shell.execute_reply": "2022-07-18T14:47:50.688022Z"
    },
    "scrolled": true
   },
   "outputs": [],
   "source": [
    "import pandas as pd\n",
    "import re\n",
    "import pytesseract\n",
    "import fitz  # PyMuPDF"
   ]
  },
  {
   "cell_type": "markdown",
   "metadata": {},
   "source": [
    "### Load the PDF"
   ]
  },
  {
   "cell_type": "code",
   "execution_count": null,
   "metadata": {
    "execution": {
     "iopub.execute_input": "2022-07-18T14:47:50.690282Z",
     "iopub.status.busy": "2022-07-18T14:47:50.690148Z",
     "iopub.status.idle": "2022-07-18T14:47:50.693123Z",
     "shell.execute_reply": "2022-07-18T14:47:50.692800Z"
    }
   },
   "outputs": [],
   "source": [
    "pdf_file_path = '/mnt/c/Users/rober/OneDrive/8_DEVELOPMENT/cev-database-reports/data/raw/9/pdf_files/9_195_1_aa1400a4dbe6c3177ff044edce8b5585fb846445.pdf'\n",
    "pdf_file_path = './1_5_1_c9cbda772da622dd1667027eef1b862a7d7209c8.pdf'\n",
    "pdf_file_path = './1_113_2_0da232073435d32084842b8fd244ecdf37be7c25.pdf'\n",
    "pdf_file_path = '../Informe_CEV_v2.pdf'\n",
    "pdf_file_path = '/mnt/c/Users/rober/OneDrive/8_DEVELOPMENT/cev-database-reports/data/raw/2/pdf_files/2_9_1_a14a0dec57b8c6dbfa82bff0f43fac88612d0728.pdf'\n",
    "pdf_file_path = '/mnt/c/Users/rober/OneDrive/8_DEVELOPMENT/cev-database-reports/data/raw/10/pdf_files/10_143_2_879d7a9abc7928aa518b3cce7cebc6ef0d315b96.pdf'\n",
    "pdf_report = fitz.open(pdf_file_path)\n",
    "page_number = 2  # Page number (starting from 0)\n",
    "page = pdf_report[page_number]"
   ]
  },
  {
   "cell_type": "markdown",
   "metadata": {},
   "source": [
    "## Pagina 2"
   ]
  },
  {
   "cell_type": "code",
   "execution_count": null,
   "metadata": {},
   "outputs": [],
   "source": [
    "def extract_text_from_area(page, area):\n",
    "    \"\"\"\n",
    "    Extract text from a specific area of a PDF page.\n",
    "\n",
    "    Args:\n",
    "    - page (fitz.Page): Page object from which to extract text.\n",
    "    - area (tuple): Tuple containing (x1, y1, x2, y2) coordinates of the area to extract text from.\n",
    "\n",
    "    Returns:\n",
    "    - extracted_text (str): Text extracted from the specified area.\n",
    "    \"\"\"\n",
    "    extracted_text = \"\"\n",
    "    try:\n",
    "        # Clean the page contents to avoid misplaced item insertions\n",
    "        page.clean_contents()\n",
    "\n",
    "        # Pdf Report Dimensions\n",
    "        report_width = 215.9  # mm\n",
    "        report_height = 330.0  # mm\n",
    "\n",
    "        # Get page dimensions\n",
    "        width = page.rect.width\n",
    "        height = page.rect.height\n",
    "\n",
    "        # Normalize the coordinates\n",
    "        x1, y1, x2, y2 = area\n",
    "        rx1, ry1, rx2, ry2 = x1 / report_width, y1 / report_height, x2 / report_width, y2 / report_height\n",
    "\n",
    "        # Define the rectangle area to extract text from\n",
    "        rect = fitz.Rect(rx1 * width, ry1 * height, rx2 * width, ry2 * height)\n",
    "\n",
    "        # Extract text from the specified area\n",
    "        extracted_text = page.get_textbox(rect)\n",
    "    except Exception as e:\n",
    "        print(f\"Error: {e}\")\n",
    "\n",
    "    return extracted_text"
   ]
  },
  {
   "cell_type": "code",
   "execution_count": null,
   "metadata": {},
   "outputs": [],
   "source": [
    "# Código evaluación energética\n",
    "area_coordinates = (62.3, 30.7, 88.1, 35.1)  # Coordinates of the area to extract text from: (x1, y1, x2, y2)\n",
    "extracted_text = extract_text_from_area(page, area_coordinates)\n",
    "codigo_evaluacion = extracted_text\n",
    "codigo_evaluacion\n",
    "\n",
    "df = pd.DataFrame(data=[codigo_evaluacion], columns=['codigo_evaluacion'])\n",
    "df"
   ]
  },
  {
   "cell_type": "markdown",
   "metadata": {},
   "source": [
    "## DISTRIBUCIÓN DEL CONSUMO ENERGÉTICO ARQUITECTURA + EQUIPOS + TIPO DE ENERGÍA"
   ]
  },
  {
   "cell_type": "code",
   "execution_count": null,
   "metadata": {},
   "outputs": [],
   "source": [
    "## Agua caliente sanitaria\n",
    "area_coordinates = (78.1, 73.9, 98.0, 76.7)  # Coordinates of the area to extract text from: (x1, y1, x2, y2)\n",
    "extracted_text = extract_text_from_area(page, area_coordinates)\n",
    "agua_caliente_sanitaria_kwh_m2 = float(extracted_text.replace(',', '.')) if extracted_text.replace(',', '.').replace('.', '', 1).isdigit() else None\n",
    "df['agua_caliente_sanitaria_kwh_m2'] = agua_caliente_sanitaria_kwh_m2\n",
    "df.T"
   ]
  },
  {
   "cell_type": "code",
   "execution_count": null,
   "metadata": {},
   "outputs": [],
   "source": [
    "area_coordinates = (98.7, 73.9, 116.3, 76.7)  # Coordinates of the area to extract text from: (x1, y1, x2, y2)\n",
    "extracted_text = extract_text_from_area(page, area_coordinates)\n",
    "agua_caliente_sanitaria_perc = float(extracted_text.replace(',', '.')) if extracted_text.replace(',', '.').replace('.', '', 1).isdigit() else None\n",
    "df['agua_caliente_sanitaria_perc'] = agua_caliente_sanitaria_perc\n",
    "df.T"
   ]
  },
  {
   "cell_type": "code",
   "execution_count": null,
   "metadata": {},
   "outputs": [],
   "source": [
    "## Iluminación\n",
    "area_coordinates = (79.2, 78.1, 98.3, 81.4)  # Coordinates of the area to extract text from: (x1, y1, x2, y2)\n",
    "extracted_text = extract_text_from_area(page, area_coordinates)\n",
    "iluminacion_kwh_m2 = float(extracted_text.replace(',', '.')) if extracted_text.replace(',', '.').replace('.', '', 1).isdigit() else None\n",
    "df['iluminacion_kwh_m2'] = iluminacion_kwh_m2\n",
    "df.T"
   ]
  },
  {
   "cell_type": "code",
   "execution_count": null,
   "metadata": {},
   "outputs": [],
   "source": [
    "area_coordinates = (98.7, 78.1, 116.3, 81.4)  # Coordinates of the area to extract text from: (x1, y1, x2, y2)\n",
    "extracted_text = extract_text_from_area(page, area_coordinates)\n",
    "iluminacion_per = float(extracted_text.replace(',', '.')) if extracted_text.replace(',', '.').replace('.', '', 1).isdigit() else None\n",
    "df['iluminacion_per'] = iluminacion_per\n",
    "df.T"
   ]
  },
  {
   "cell_type": "code",
   "execution_count": null,
   "metadata": {},
   "outputs": [],
   "source": [
    "# Calefacción\n",
    "area_coordinates = (79.2, 82.2, 98.3, 86.6)  # Coordinates of the area to extract text from: (x1, y1, x2, y2)\n",
    "extracted_text = extract_text_from_area(page, area_coordinates)\n",
    "calefaccion_kwh_m2 = float(extracted_text.replace(',', '.')) if extracted_text.replace(',', '.').replace('.', '', 1).isdigit() else None\n",
    "df['calefaccion_kwh_m2'] = calefaccion_kwh_m2\n",
    "df.T"
   ]
  },
  {
   "cell_type": "code",
   "execution_count": null,
   "metadata": {},
   "outputs": [],
   "source": [
    "area_coordinates = (98.7, 82.2, 116.3, 86.6)  # Coordinates of the area to extract text from: (x1, y1, x2, y2)\n",
    "extracted_text = extract_text_from_area(page, area_coordinates)\n",
    "calefaccion_kwh_per = float(extracted_text.replace(',', '.')) if extracted_text.replace(',', '.').replace('.', '', 1).isdigit() else None\n",
    "df['calefaccion_kwh_per'] = calefaccion_kwh_per\n",
    "df.T"
   ]
  },
  {
   "cell_type": "code",
   "execution_count": null,
   "metadata": {},
   "outputs": [],
   "source": [
    "# Energía renovable no convencional\n",
    "area_coordinates = (79.2, 87.2, 98.3, 91.0)  # Coordinates of the area to extract text from: (x1, y1, x2, y2)\n",
    "extracted_text = extract_text_from_area(page, area_coordinates)\n",
    "ernc_kwh_m2 = float(extracted_text.replace(',', '.')) if extracted_text.replace(',', '.').replace('.', '', 1).isdigit() else None\n",
    "df['energia_renovable_no_convencional_kwh_m2'] = ernc_kwh_m2\n",
    "df.T"
   ]
  },
  {
   "cell_type": "code",
   "execution_count": null,
   "metadata": {},
   "outputs": [],
   "source": [
    "area_coordinates = (98.7, 87.2, 116.3, 91.0)  # Coordinates of the area to extract text from: (x1, y1, x2, y2)\n",
    "extracted_text = extract_text_from_area(page, area_coordinates)\n",
    "ernc_per = float(extracted_text.replace(',', '.')) if extracted_text.replace(',', '.').replace('.', '', 1).isdigit() else None\n",
    "df['energia_renovable_no_convencional_per'] = ernc_per\n",
    "df.T"
   ]
  },
  {
   "cell_type": "code",
   "execution_count": null,
   "metadata": {},
   "outputs": [],
   "source": [
    "# Consumo Total por m²\n",
    "area_coordinates = (118.0, 74.0, 148.0, 86.0)  # Coordinates of the area to extract text from: (x1, y1, x2, y2)\n",
    "extracted_text = extract_text_from_area(page, area_coordinates)\n",
    "consumo_kwh_m2 = float(extracted_text.replace(',', '.')) if extracted_text.replace(',', '.').replace('.', '', 1).isdigit() else None\n",
    "df['consumo_total_kwh_m2'] = consumo_kwh_m2\n",
    "df.T"
   ]
  },
  {
   "cell_type": "code",
   "execution_count": null,
   "metadata": {},
   "outputs": [],
   "source": [
    "# Emisiones de CO2e\n",
    "area_coordinates = (171.5, 69.0, 183.5, 74.2)  # Coordinates of the area to extract text from: (x1, y1, x2, y2)\n",
    "extracted_text = extract_text_from_area(page, area_coordinates)\n",
    "emisiones_kgco2_m2_ano = float(extracted_text.replace(',', '.')) if extracted_text.replace(',', '.').replace('.', '', 1).isdigit() else None\n",
    "df['emisiones_kgco2_m2_ano'] = emisiones_kgco2_m2_ano\n",
    "df.T"
   ]
  },
  {
   "cell_type": "markdown",
   "metadata": {},
   "source": [
    "### Equipos Proyectados"
   ]
  },
  {
   "cell_type": "code",
   "execution_count": null,
   "metadata": {},
   "outputs": [],
   "source": [
    "# Calefacción\n",
    "area_coordinates = (76.6, 101.4, 155.5, 105.3)  # Coordinates of the area to extract text from: (x1, y1, x2, y2)\n",
    "extracted_text = extract_text_from_area(page, area_coordinates)\n",
    "calefaccion_descripcion_proy = extracted_text.strip()\n",
    "df['calefaccion_descripcion_proy'] = calefaccion_descripcion_proy\n",
    "df.T"
   ]
  },
  {
   "cell_type": "code",
   "execution_count": null,
   "metadata": {},
   "outputs": [],
   "source": [
    "area_coordinates = (157.0, 101.4, 196.0, 105.3)  # Coordinates of the area to extract text from: (x1, y1, x2, y2)\n",
    "extracted_text = extract_text_from_area(page, area_coordinates)\n",
    "calefaccion_consumo_proy_kwh = extracted_text.split('\\n')[-1].replace(',', '.')\n",
    "df['calefaccion_consumo_proy_kwh'] = float(calefaccion_consumo_proy_kwh.replace(',', '.')) if calefaccion_consumo_proy_kwh.replace(',', '.').replace('.', '', 1).isdigit() else None\n",
    "df.T"
   ]
  },
  {
   "cell_type": "code",
   "execution_count": null,
   "metadata": {},
   "outputs": [],
   "source": [
    "area_coordinates = (198.0, 101.4, 207.0, 105.3)  # Coordinates of the area to extract text from: (x1, y1, x2, y2)\n",
    "extracted_text = extract_text_from_area(page, area_coordinates)\n",
    "calefaccion_consumo_proy_per = extracted_text.split('\\n')[-1].replace(',', '.')\n",
    "df['calefaccion_consumo_proy_per'] = float(calefaccion_consumo_proy_per) if calefaccion_consumo_proy_per.replace(',', '.').replace('.', '', 1).isdigit() else None\n",
    "df.T"
   ]
  },
  {
   "cell_type": "code",
   "execution_count": null,
   "metadata": {},
   "outputs": [],
   "source": [
    "# Iluminación\n",
    "area_coordinates = (76.6, 106.2, 155.5, 110.0)  # Coordinates of the area to extract text from: (x1, y1, x2, y2)\n",
    "extracted_text = extract_text_from_area(page, area_coordinates)\n",
    "iluminacion_descripcion_proy = extracted_text.split('\\n')[0].strip()\n",
    "df['iluminacion_descripcion_proy'] = iluminacion_descripcion_proy\n",
    "df.T"
   ]
  },
  {
   "cell_type": "code",
   "execution_count": null,
   "metadata": {},
   "outputs": [],
   "source": [
    "area_coordinates = (157.0, 106.2, 196.0, 110.0)  # Coordinates of the area to extract text from: (x1, y1, x2, y2)\n",
    "extracted_text = extract_text_from_area(page, area_coordinates)\n",
    "iluminacion_consumo_proy_kwh = extracted_text.split('\\n')[-1].replace(',', '.')\n",
    "df['iluminacion_consumo_proy_kwh'] = float(iluminacion_consumo_proy_kwh) if iluminacion_consumo_proy_kwh.replace(',', '.').replace('.', '', 1).isdigit() else None\n",
    "df.T"
   ]
  },
  {
   "cell_type": "code",
   "execution_count": null,
   "metadata": {},
   "outputs": [],
   "source": [
    "area_coordinates = (198.0, 106.2, 207.0, 110.0)  # Coordinates of the area to extract text from: (x1, y1, x2, y2)\n",
    "extracted_text = extract_text_from_area(page, area_coordinates)\n",
    "iluminacion_consumo_proy_per = extracted_text.split('\\n')[-1].replace(',', '.')\n",
    "df['iluminacion_consumo_proy_per'] = float(iluminacion_consumo_proy_per) if iluminacion_consumo_proy_per.replace(',', '.').replace('.', '', 1).isdigit() else None\n",
    "df.T"
   ]
  },
  {
   "cell_type": "code",
   "execution_count": null,
   "metadata": {},
   "outputs": [],
   "source": [
    "# Agua Caliente Sanitaria\n",
    "area_coordinates = (76.6, 111.2, 155.5, 115.0)  # Coordinates of the area to extract text from: (x1, y1, x2, y2)\n",
    "extracted_text = extract_text_from_area(page, area_coordinates)\n",
    "acs_descripcion_proy = extracted_text\n",
    "df['agua_caliente_sanitaria_descripcion_proy'] = acs_descripcion_proy\n",
    "df.T"
   ]
  },
  {
   "cell_type": "code",
   "execution_count": null,
   "metadata": {},
   "outputs": [],
   "source": [
    "area_coordinates = (157.0, 111.2, 196.0, 115.0)  # Coordinates of the area to extract text from: (x1, y1, x2, y2)\n",
    "extracted_text = extract_text_from_area(page, area_coordinates)\n",
    "acs_consumo_proy_kwh = extracted_text.split('\\n')[-1].replace(',', '.')\n",
    "df['agua_caliente_sanitaria_consumo_proy_kwh'] = float(acs_consumo_proy_kwh) if acs_consumo_proy_kwh.replace(',', '.').replace('.', '', 1).isdigit() else None\n",
    "df.T"
   ]
  },
  {
   "cell_type": "code",
   "execution_count": null,
   "metadata": {},
   "outputs": [],
   "source": [
    "area_coordinates = (198.0, 111.2, 207.0, 115.0)  # Coordinates of the area to extract text from: (x1, y1, x2, y2)\n",
    "extracted_text = extract_text_from_area(page, area_coordinates)\n",
    "acs_consumo_proy_per = extracted_text.split('\\n')[-1].replace(',', '.')\n",
    "df['agua_caliente_sanitaria_consumo_proy_per'] = float(acs_consumo_proy_per) if acs_consumo_proy_per.replace(',', '.').replace('.', '', 1).isdigit() else None\n",
    "df.T"
   ]
  },
  {
   "cell_type": "code",
   "execution_count": null,
   "metadata": {},
   "outputs": [],
   "source": [
    "# Energía renovable no convencional\n",
    "area_coordinates = (76.6, 115.8, 155.5, 120.0)  # Coordinates of the area to extract text from: (x1, y1, x2, y2)\n",
    "extracted_text = extract_text_from_area(page, area_coordinates)\n",
    "enrc_descripcion_proy = extracted_text.split('\\n')[0].strip()\n",
    "df['energia_renovable_no_convencional_descripcion_proy'] = enrc_descripcion_proy\n",
    "df.T"
   ]
  },
  {
   "cell_type": "code",
   "execution_count": null,
   "metadata": {},
   "outputs": [],
   "source": [
    "area_coordinates = (157.0, 115.8, 196.0, 120.0)  # Coordinates of the area to extract text from: (x1, y1, x2, y2)\n",
    "extracted_text = extract_text_from_area(page, area_coordinates)\n",
    "ernc_consumo_proy_kwh = extracted_text.split('\\n')[-1].replace(',', '.')\n",
    "df['energia_renovable_no_convencional_consumo_proy_kwh'] = float(ernc_consumo_proy_kwh) if ernc_consumo_proy_kwh.replace(',', '.').replace('.', '', 1).isdigit() else None\n",
    "df.T"
   ]
  },
  {
   "cell_type": "code",
   "execution_count": null,
   "metadata": {},
   "outputs": [],
   "source": [
    "area_coordinates = (198.0, 115.8, 207.0, 120.0)  # Coordinates of the area to extract text from: (x1, y1, x2, y2)\n",
    "extracted_text = extract_text_from_area(page, area_coordinates)\n",
    "ernc_consumo_proy_per = extracted_text.split('\\n')[-1].replace(',', '.')\n",
    "df['energia_renovable_no_convencional_consumo_proy_per'] = float(ernc_consumo_proy_per) if ernc_consumo_proy_per.replace(',', '.').replace('.', '', 1).isdigit() else None\n",
    "df.T"
   ]
  },
  {
   "cell_type": "code",
   "execution_count": null,
   "metadata": {},
   "outputs": [],
   "source": [
    "area_coordinates = (157.0, 121.0, 196.0, 125.0)  # Coordinates of the area to extract text from: (x1, y1, x2, y2)\n",
    "extracted_text = extract_text_from_area(page, area_coordinates)\n",
    "consumo_total_proy_kwh = extracted_text.split('\\n')[-1].replace(',', '.')\n",
    "df['consumo_total_requerido_proy_kwh'] = float(consumo_total_proy_kwh) if consumo_total_proy_kwh.replace(',', '.').replace('.', '', 1).isdigit() else None\n",
    "df.T"
   ]
  },
  {
   "cell_type": "markdown",
   "metadata": {},
   "source": [
    "### Equipos de referencia"
   ]
  },
  {
   "cell_type": "code",
   "execution_count": null,
   "metadata": {},
   "outputs": [],
   "source": [
    "# Calefacción\n",
    "area_coordinates = (76.6, 136.1, 155.5, 140.1)  # Coordinates of the area to extract text from: (x1, y1, x2, y2)\n",
    "extracted_text = extract_text_from_area(page, area_coordinates)\n",
    "calefaccion_descripcion_ref = extracted_text.strip()\n",
    "df['calefaccion_descripcion_ref'] = calefaccion_descripcion_ref\n",
    "df.T"
   ]
  },
  {
   "cell_type": "code",
   "execution_count": null,
   "metadata": {},
   "outputs": [],
   "source": [
    "area_coordinates = (157.0, 136.1, 196.0, 140.1)  # Coordinates of the area to extract text from: (x1, y1, x2, y2)\n",
    "extracted_text = extract_text_from_area(page, area_coordinates)\n",
    "calefaccion_consumo_ref_kwh = extracted_text.split('\\n')[-1].replace(',', '.')\n",
    "df['calefaccion_consumo_ref_kwh'] = float(calefaccion_consumo_ref_kwh) if calefaccion_consumo_ref_kwh.replace(',', '.').replace('.', '', 1).isdigit() else None\n",
    "df.T"
   ]
  },
  {
   "cell_type": "code",
   "execution_count": null,
   "metadata": {},
   "outputs": [],
   "source": [
    "area_coordinates = (198.0, 136.1, 207.0, 140.1)  # Coordinates of the area to extract text from: (x1, y1, x2, y2)\n",
    "extracted_text = extract_text_from_area(page, area_coordinates)\n",
    "calefaccion_consumo_ref_per = extracted_text.split('\\n')[-1].replace(',', '.')\n",
    "df['calefaccion_consumo_ref_per'] = float(calefaccion_consumo_ref_per) if calefaccion_consumo_ref_per.replace(',', '.').replace('.', '', 1).isdigit() else None\n",
    "df.T"
   ]
  },
  {
   "cell_type": "code",
   "execution_count": null,
   "metadata": {},
   "outputs": [],
   "source": [
    "# Iluminación\n",
    "area_coordinates = (76.6, 140.7, 155.5, 144.7)  # Coordinates of the area to extract text from: (x1, y1, x2, y2)\n",
    "extracted_text = extract_text_from_area(page, area_coordinates)\n",
    "iluminacion_descripcion_ref = extracted_text.split('\\n')[0].strip()\n",
    "df['iluminacion_descripcion_ref'] = iluminacion_descripcion_ref\n",
    "df.T"
   ]
  },
  {
   "cell_type": "code",
   "execution_count": null,
   "metadata": {},
   "outputs": [],
   "source": [
    "area_coordinates = (157.0, 140.7, 196.0, 144.7)  # Coordinates of the area to extract text from: (x1, y1, x2, y2)\n",
    "extracted_text = extract_text_from_area(page, area_coordinates)\n",
    "iluminacion_consumo_ref_kwh = extracted_text.split('\\n')[-1].replace(',', '.')\n",
    "df['iluminacion_consumo_ref_kwh'] = float(iluminacion_consumo_ref_kwh) if iluminacion_consumo_ref_kwh.replace(',', '.').replace('.', '', 1).isdigit() else None\n",
    "df.T"
   ]
  },
  {
   "cell_type": "code",
   "execution_count": null,
   "metadata": {},
   "outputs": [],
   "source": [
    "area_coordinates = (198.0, 140.7, 207.0, 144.7)  # Coordinates of the area to extract text from: (x1, y1, x2, y2)\n",
    "extracted_text = extract_text_from_area(page, area_coordinates)\n",
    "iluminacion_consumo_ref_per = extracted_text.split('\\n')[-1].replace(',', '.')\n",
    "df['iluminacion_consumo_ref_per'] = float(iluminacion_consumo_ref_per) if iluminacion_consumo_ref_per.replace(',', '.').replace('.', '', 1).isdigit() else None\n",
    "df.T"
   ]
  },
  {
   "cell_type": "code",
   "execution_count": null,
   "metadata": {},
   "outputs": [],
   "source": [
    "# Agua Caliente Sanitaria\n",
    "area_coordinates = (76.6, 145.2, 155.5, 149.2)  # Coordinates of the area to extract text from: (x1, y1, x2, y2)\n",
    "extracted_text = extract_text_from_area(page, area_coordinates)\n",
    "acs_descripcion_ref = extracted_text\n",
    "df['agua_caliente_sanitaria_descripcion_ref'] = acs_descripcion_ref\n",
    "df.T"
   ]
  },
  {
   "cell_type": "code",
   "execution_count": null,
   "metadata": {},
   "outputs": [],
   "source": [
    "area_coordinates = (157.0, 145.2, 196.0, 149.2)  # Coordinates of the area to extract text from: (x1, y1, x2, y2)\n",
    "extracted_text = extract_text_from_area(page, area_coordinates)\n",
    "acs_consumo_ref_kwh = extracted_text.split('\\n')[-1].replace(',', '.')\n",
    "df['agua_caliente_sanitaria_consumo_ref_kwh'] = float(acs_consumo_ref_kwh) if acs_consumo_ref_kwh.replace(',', '.').replace('.', '', 1).isdigit() else None\n",
    "df.T"
   ]
  },
  {
   "cell_type": "code",
   "execution_count": null,
   "metadata": {},
   "outputs": [],
   "source": [
    "area_coordinates = (198.0, 145.2, 207.0, 149.2)  # Coordinates of the area to extract text from: (x1, y1, x2, y2)\n",
    "extracted_text = extract_text_from_area(page, area_coordinates)\n",
    "acs_consumo_ref_per = extracted_text.split('\\n')[-1].replace(',', '.')\n",
    "df['agua_caliente_sanitaria_consumo_ref_per'] = float(acs_consumo_ref_per) if acs_consumo_ref_per.replace(',', '.').replace('.', '', 1).isdigit() else None\n",
    "df.T"
   ]
  },
  {
   "cell_type": "code",
   "execution_count": null,
   "metadata": {},
   "outputs": [],
   "source": [
    "# Energía renovable no convencional\n",
    "area_coordinates = (76.6, 150.8, 155.5, 154.8)  # Coordinates of the area to extract text from: (x1, y1, x2, y2)\n",
    "extracted_text = extract_text_from_area(page, area_coordinates)\n",
    "enrc_descripcion_ref = extracted_text.split('\\n')[0].strip()\n",
    "df['energia_renovable_no_convencional_descripcion_ref'] = enrc_descripcion_ref\n",
    "df.T"
   ]
  },
  {
   "cell_type": "code",
   "execution_count": null,
   "metadata": {},
   "outputs": [],
   "source": [
    "area_coordinates = (157.0, 150.8, 196.0, 154.8)  # Coordinates of the area to extract text from: (x1, y1, x2, y2)\n",
    "extracted_text = extract_text_from_area(page, area_coordinates)\n",
    "ernc_consumo_ref_kwh = extracted_text.split('\\n')[-1].replace(',', '.')\n",
    "df['energia_renovable_no_convencional_consumo_ref_kwh'] = float(ernc_consumo_ref_kwh) if ernc_consumo_ref_kwh.replace(',', '.').replace('.', '', 1).isdigit() else None\n",
    "df.T"
   ]
  },
  {
   "cell_type": "code",
   "execution_count": null,
   "metadata": {},
   "outputs": [],
   "source": [
    "area_coordinates = (198.0, 150.8, 207.0, 154.8)  # Coordinates of the area to extract text from: (x1, y1, x2, y2)\n",
    "extracted_text = extract_text_from_area(page, area_coordinates)\n",
    "ernc_consumo_ref_per = extracted_text.split('\\n')[-1].replace(',', '.')\n",
    "df['energia_renovable_no_convencional_consumo_ref_per'] = float(ernc_consumo_ref_per) if ernc_consumo_ref_per.replace(',', '.').replace('.', '', 1).isdigit() else None\n",
    "df.T"
   ]
  },
  {
   "cell_type": "code",
   "execution_count": null,
   "metadata": {},
   "outputs": [],
   "source": [
    "area_coordinates = (157.0, 156.0, 196.0, 160.0)  # Coordinates of the area to extract text from: (x1, y1, x2, y2)\n",
    "extracted_text = extract_text_from_area(page, area_coordinates)\n",
    "consumo_total_ref_kwh = extracted_text.split('\\n')[-1].replace(',', '.')\n",
    "df['consumo_total_requerido_ref_kwh'] = float(consumo_total_ref_kwh) if consumo_total_ref_kwh.replace(',', '.').replace('.', '', 1).isdigit() else None\n",
    "df.T"
   ]
  },
  {
   "cell_type": "markdown",
   "metadata": {},
   "source": [
    "### REQUERIMIENTOS DE ENERGÍA (kWh/año)"
   ]
  },
  {
   "cell_type": "markdown",
   "metadata": {},
   "source": [
    "#### CONSUMOS SIN INCLUIR ERNC"
   ]
  },
  {
   "cell_type": "code",
   "execution_count": null,
   "metadata": {},
   "outputs": [],
   "source": [
    "area_coordinates = (87.0, 176.0, 104.0, 179.0)  # Coordinates of the area to extract text from: (x1, y1, x2, y2)\n",
    "extracted_text = extract_text_from_area(page, area_coordinates)\n",
    "consumos_sin_incluir_ernc_calef = extracted_text.replace(',', '.')\n",
    "df['consumo_ep_calefaccion_kwh'] = float(consumos_sin_incluir_ernc_calef) if consumos_sin_incluir_ernc_calef.replace(',', '.').replace('.', '', 1).isdigit() else None\n",
    "df.T"
   ]
  },
  {
   "cell_type": "code",
   "execution_count": null,
   "metadata": {},
   "outputs": [],
   "source": [
    "area_coordinates = (87.0, 180.0, 104.0, 183.5)  # Coordinates of the area to extract text from: (x1, y1, x2, y2)\n",
    "extracted_text = extract_text_from_area(page, area_coordinates)\n",
    "consumos_sin_incluir_ernc_acs = extracted_text.replace(',', '.')\n",
    "df['consumo_ep_agua_caliente_sanitaria_kwh'] = float(consumos_sin_incluir_ernc_acs) if consumos_sin_incluir_ernc_acs.replace(',', '.').replace('.', '', 1).isdigit() else None\n",
    "df.T"
   ]
  },
  {
   "cell_type": "code",
   "execution_count": null,
   "metadata": {},
   "outputs": [],
   "source": [
    "area_coordinates = (87.0, 184.0, 104.0, 187.5)  # Coordinates of the area to extract text from: (x1, y1, x2, y2)\n",
    "extracted_text = extract_text_from_area(page, area_coordinates)\n",
    "consumos_sin_incluir_ernc_ilum = extracted_text.replace(',', '.')\n",
    "df['consumo_ep_iluminacion_kwh'] = float(consumos_sin_incluir_ernc_ilum) if consumos_sin_incluir_ernc_ilum.replace(',', '.').replace('.', '', 1).isdigit() else None\n",
    "df.T"
   ]
  },
  {
   "cell_type": "code",
   "execution_count": null,
   "metadata": {},
   "outputs": [],
   "source": [
    "area_coordinates = (87.0, 188.0, 104.0, 191.5)  # Coordinates of the area to extract text from: (x1, y1, x2, y2)\n",
    "extracted_text = extract_text_from_area(page, area_coordinates)\n",
    "consumos_sin_incluir_ernc_vent = extracted_text.replace(',', '.')\n",
    "df['consumo_ep_ventiladores_kwh'] = float(consumos_sin_incluir_ernc_vent) if consumos_sin_incluir_ernc_vent.replace(',', '.').replace('.', '', 1).isdigit() else None\n",
    "df.T"
   ]
  },
  {
   "cell_type": "markdown",
   "metadata": {},
   "source": [
    "#### GENERACIÓN FOTOVOLTAICA EN LA VIVIENDA"
   ]
  },
  {
   "cell_type": "code",
   "execution_count": null,
   "metadata": {},
   "outputs": [],
   "source": [
    "area_coordinates = (87.0, 199.0, 104.0, 202.5)  # Coordinates of the area to extract text from: (x1, y1, x2, y2)\n",
    "extracted_text = extract_text_from_area(page, area_coordinates)\n",
    "generacion_fotovoltaica_ep = extracted_text.replace(',', '.')\n",
    "df['generacion_ep_fotovoltaicos_kwh'] = float(generacion_fotovoltaica_ep) if generacion_fotovoltaica_ep.replace(',', '.').replace('.', '', 1).isdigit() else None\n",
    "df.T"
   ]
  },
  {
   "cell_type": "code",
   "execution_count": null,
   "metadata": {},
   "outputs": [],
   "source": [
    "area_coordinates = (87.0, 203.2, 104.0, 206.0)  # Coordinates of the area to extract text from: (x1, y1, x2, y2)\n",
    "extracted_text = extract_text_from_area(page, area_coordinates)\n",
    "generacion_fotovoltaica_aporte = extracted_text.replace(',', '.')\n",
    "df['aporte_fotovoltaicos_consumos_basicos_kwh'] = float(generacion_fotovoltaica_aporte) if generacion_fotovoltaica_aporte.replace(',', '.').replace('.', '', 1).isdigit() else None\n",
    "df.T"
   ]
  },
  {
   "cell_type": "code",
   "execution_count": null,
   "metadata": {},
   "outputs": [],
   "source": [
    "area_coordinates = (87.0, 206.9, 104.0, 210.2)  # Coordinates of the area to extract text from: (x1, y1, x2, y2)\n",
    "extracted_text = extract_text_from_area(page, area_coordinates)\n",
    "generacion_fotovoltaica_consumo = extracted_text.replace(',', '.')\n",
    "df['diferencia_fotovoltaica_para_consumo_kwh'] = float(generacion_fotovoltaica_consumo) if generacion_fotovoltaica_consumo.replace(',', '.').replace('.', '', 1).isdigit() else None\n",
    "df.T"
   ]
  },
  {
   "cell_type": "markdown",
   "metadata": {},
   "source": [
    "#### DISTRIBUCIÓN DEL APORTE DE SOLAR TÉRMICA"
   ]
  },
  {
   "cell_type": "code",
   "execution_count": null,
   "metadata": {},
   "outputs": [],
   "source": [
    "area_coordinates = (87.0, 218.0, 104.0, 221.0)  # Coordinates of the area to extract text from: (x1, y1, x2, y2)\n",
    "extracted_text = extract_text_from_area(page, area_coordinates)\n",
    "aporte_solar_termica_calef = extracted_text.replace(',', '.')\n",
    "df['aporte_solar_termica_consumos_basicos_kwh'] = float(aporte_solar_termica_calef) if aporte_solar_termica_calef.replace(',', '.').replace('.', '', 1).isdigit() else None\n",
    "df.T"
   ]
  },
  {
   "cell_type": "code",
   "execution_count": null,
   "metadata": {},
   "outputs": [],
   "source": [
    "area_coordinates = (87.0, 222.5, 104.0, 225.5)  # Coordinates of the area to extract text from: (x1, y1, x2, y2)\n",
    "extracted_text = extract_text_from_area(page, area_coordinates)\n",
    "aporte_solar_termica_acs = extracted_text.replace(',', '.')\n",
    "df['aporte_solar_termica_agua_caliente_sanitaria_kwh'] = float(aporte_solar_termica_acs) if aporte_solar_termica_acs.replace(',', '.').replace('.', '', 1).isdigit() else None\n",
    "df.T"
   ]
  },
  {
   "cell_type": "markdown",
   "metadata": {},
   "source": [
    "#### BALANCE GENERAL DE ENERGÍA"
   ]
  },
  {
   "cell_type": "code",
   "execution_count": null,
   "metadata": {},
   "outputs": [],
   "source": [
    "area_coordinates = (192.0, 176.0, 208.0, 179.5)  # Coordinates of the area to extract text from: (x1, y1, x2, y2)\n",
    "extracted_text = extract_text_from_area(page, area_coordinates)\n",
    "balance_general_energia_antes = extracted_text.replace(',', '.')\n",
    "df['total_consumo_ep_antes_fotovoltaica_kwh'] = float(balance_general_energia_antes) if balance_general_energia_antes.replace(',', '.').replace('.', '', 1).isdigit() else None\n",
    "df.T"
   ]
  },
  {
   "cell_type": "code",
   "execution_count": null,
   "metadata": {},
   "outputs": [],
   "source": [
    "area_coordinates = (192.0, 180.0, 208.0, 183.5)  # Coordinates of the area to extract text from: (x1, y1, x2, y2)\n",
    "extracted_text = extract_text_from_area(page, area_coordinates)\n",
    "balance_general_energia_aporte_fv = extracted_text.replace(',', '.')\n",
    "df['aporte_fotovoltaicos_consumos_basicos_kwh_bis'] = float(balance_general_energia_aporte_fv) if balance_general_energia_aporte_fv.replace(',', '.').replace('.', '', 1).isdigit() else None\n",
    "df.T"
   ]
  },
  {
   "cell_type": "code",
   "execution_count": null,
   "metadata": {},
   "outputs": [],
   "source": [
    "area_coordinates = (192.0, 184.3, 208.0, 187.0)  # Coordinates of the area to extract text from: (x1, y1, x2, y2)\n",
    "extracted_text = extract_text_from_area(page, area_coordinates)\n",
    "balance_general_energia_suplir = extracted_text.replace(',', '.')\n",
    "df['consumos_basicos_a_suplir_kwh'] = float(balance_general_energia_suplir) if balance_general_energia_suplir.replace(',', '.').replace('.', '', 1).isdigit() else None\n",
    "df.T"
   ]
  },
  {
   "cell_type": "markdown",
   "metadata": {},
   "source": [
    "#### RESUMEN DE CONSUMOS FINALES DE REFERENCIA Y OBJETO"
   ]
  },
  {
   "cell_type": "code",
   "execution_count": null,
   "metadata": {},
   "outputs": [],
   "source": [
    "area_coordinates = (192.0, 199.0, 208.0, 202.5)  # Coordinates of the area to extract text from: (x1, y1, x2, y2)\n",
    "extracted_text = extract_text_from_area(page, area_coordinates)\n",
    "consumo_total_ep_obj_kwh = extracted_text.replace(',', '.')\n",
    "df['consumo_total_ep_obj_kwh'] = float(consumo_total_ep_obj_kwh) if consumo_total_ep_obj_kwh.replace(',', '.').replace('.', '', 1).isdigit() else None\n",
    "df.T"
   ]
  },
  {
   "cell_type": "code",
   "execution_count": null,
   "metadata": {},
   "outputs": [],
   "source": [
    "area_coordinates = (192.0, 202.8, 208.0, 206.5)  # Coordinates of the area to extract text from: (x1, y1, x2, y2)\n",
    "extracted_text = extract_text_from_area(page, area_coordinates)\n",
    "consumo_total_ep_ref_kwh = extracted_text.replace(',', '.')\n",
    "df['consumo_total_ep_ref_kwh'] = float(consumo_total_ep_ref_kwh) if consumo_total_ep_ref_kwh.replace(',', '.').replace('.', '', 1).isdigit() else None\n",
    "df.T"
   ]
  },
  {
   "cell_type": "code",
   "execution_count": null,
   "metadata": {},
   "outputs": [],
   "source": [
    "area_coordinates = (192.0, 207.0, 208.0, 210.5)  # Coordinates of the area to extract text from: (x1, y1, x2, y2)\n",
    "extracted_text = extract_text_from_area(page, area_coordinates)\n",
    "coeficiente_energetico_c = extracted_text.replace(',', '.')\n",
    "df['coeficiente_energetico_c'] = float(coeficiente_energetico_c) if coeficiente_energetico_c.replace(',', '.').replace('.', '', 1).isdigit() else None\n",
    "df.T"
   ]
  },
  {
   "cell_type": "code",
   "execution_count": null,
   "metadata": {},
   "outputs": [],
   "source": [
    "# Close the PDF document\n",
    "pdf_report.close()"
   ]
  }
 ],
 "metadata": {
  "kernelspec": {
   "display_name": "Python 3 (ipykernel)",
   "language": "python",
   "name": "python3"
  },
  "language_info": {
   "codemirror_mode": {
    "name": "ipython",
    "version": 3
   },
   "file_extension": ".py",
   "mimetype": "text/x-python",
   "name": "python",
   "nbconvert_exporter": "python",
   "pygments_lexer": "ipython3",
   "version": "3.9.7"
  }
 },
 "nbformat": 4,
 "nbformat_minor": 1
}
