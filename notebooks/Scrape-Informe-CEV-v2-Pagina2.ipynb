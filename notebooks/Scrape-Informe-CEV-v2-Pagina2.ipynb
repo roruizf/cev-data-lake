{
 "cells": [
  {
   "cell_type": "markdown",
   "metadata": {},
   "source": [
    "# Informe CEV (v.2) - Page 2"
   ]
  },
  {
   "cell_type": "markdown",
   "metadata": {},
   "source": [
    "### Import `pdfplumber`"
   ]
  },
  {
   "cell_type": "code",
   "execution_count": null,
   "metadata": {
    "execution": {
     "iopub.execute_input": "2022-07-18T14:47:50.653979Z",
     "iopub.status.busy": "2022-07-18T14:47:50.653590Z",
     "iopub.status.idle": "2022-07-18T14:47:50.688352Z",
     "shell.execute_reply": "2022-07-18T14:47:50.688022Z"
    },
    "scrolled": true
   },
   "outputs": [],
   "source": [
    "import pandas as pd\n",
    "import fitz  # PyMuPDF"
   ]
  },
  {
   "cell_type": "markdown",
   "metadata": {},
   "source": [
    "### Load the PDF"
   ]
  },
  {
   "cell_type": "code",
   "execution_count": null,
   "metadata": {
    "execution": {
     "iopub.execute_input": "2022-07-18T14:47:50.690282Z",
     "iopub.status.busy": "2022-07-18T14:47:50.690148Z",
     "iopub.status.idle": "2022-07-18T14:47:50.693123Z",
     "shell.execute_reply": "2022-07-18T14:47:50.692800Z"
    }
   },
   "outputs": [],
   "source": [
    "pdf_file_path = '/mnt/c/Users/rober/OneDrive/8_DEVELOPMENT/cev-database-reports/data/raw/9/pdf_files/9_195_1_aa1400a4dbe6c3177ff044edce8b5585fb846445.pdf'\n",
    "pdf_file_path = './1_5_1_c9cbda772da622dd1667027eef1b862a7d7209c8.pdf'\n",
    "pdf_file_path = './1_113_2_0da232073435d32084842b8fd244ecdf37be7c25.pdf'\n",
    "#pdf_file_path = './Informe_CEV_v2.pdf'\n",
    "pdf_report = fitz.open(pdf_file_path)\n",
    "page_number = 1  # Page number (starting from 0)\n",
    "page = pdf_report[page_number]"
   ]
  },
  {
   "cell_type": "markdown",
   "metadata": {},
   "source": [
    "## Pagina 2"
   ]
  },
  {
   "cell_type": "code",
   "execution_count": null,
   "metadata": {},
   "outputs": [],
   "source": [
    "def extract_text_from_area(page, area):\n",
    "    \"\"\"\n",
    "    Extract text from a specific area of a PDF page.\n",
    "\n",
    "    Args:\n",
    "    - page (fitz.Page): Page object from which to extract text.\n",
    "    - area (tuple): Tuple containing (x1, y1, x2, y2) coordinates of the area to extract text from.\n",
    "\n",
    "    Returns:\n",
    "    - extracted_text (str): Text extracted from the specified area.\n",
    "    \"\"\"\n",
    "    extracted_text = \"\"\n",
    "    try:\n",
    "        # Clean the page contents to avoid misplaced item insertions\n",
    "        page.clean_contents()\n",
    "\n",
    "        # Pdf Report Dimensions\n",
    "        report_width = 215.9  # mm\n",
    "        report_height = 330.0  # mm\n",
    "\n",
    "        # Get page dimensions\n",
    "        width = page.rect.width\n",
    "        height = page.rect.height\n",
    "\n",
    "        # Normalize the coordinates\n",
    "        x1, y1, x2, y2 = area\n",
    "        rx1, ry1, rx2, ry2 = x1 / report_width, y1 / report_height, x2 / report_width, y2 / report_height\n",
    "\n",
    "        # Define the rectangle area to extract text from\n",
    "        rect = fitz.Rect(rx1 * width, ry1 * height, rx2 * width, ry2 * height)\n",
    "\n",
    "        # Extract text from the specified area\n",
    "        extracted_text = page.get_textbox(rect)\n",
    "    except Exception as e:\n",
    "        print(f\"Error: {e}\")\n",
    "\n",
    "    return extracted_text"
   ]
  },
  {
   "cell_type": "markdown",
   "metadata": {},
   "source": [
    "### Seccion 1: Datos vivienda y Evaluación"
   ]
  },
  {
   "cell_type": "markdown",
   "metadata": {},
   "source": [
    "#### Subsection 1: Izquierda"
   ]
  },
  {
   "cell_type": "code",
   "execution_count": null,
   "metadata": {},
   "outputs": [],
   "source": [
    "area_coordinates = (7.8, 46.3, 96.8, 74.2)  # Coordinates of the area to extract text from: (x1, y1, x2, y2)\n",
    "extracted_text = extract_text_from_area(page, area_coordinates)\n",
    "datos_vivienda = extracted_text.splitlines()[-5:]\n",
    "# Swap the elements\n",
    "datos_vivienda[2], datos_vivienda[3] = datos_vivienda[3], datos_vivienda[2]\n",
    "datos_vivienda"
   ]
  },
  {
   "cell_type": "code",
   "execution_count": null,
   "metadata": {},
   "outputs": [],
   "source": [
    "index = ['region', 'comuna', 'direccion', 'rol_vivienda', 'tipo_vivienda']"
   ]
  },
  {
   "cell_type": "code",
   "execution_count": null,
   "metadata": {},
   "outputs": [],
   "source": [
    "_dict = dict(zip(index, datos_vivienda))\n",
    "_dict"
   ]
  },
  {
   "cell_type": "code",
   "execution_count": null,
   "metadata": {},
   "outputs": [],
   "source": [
    "# Convert dictionary to DataFrame\n",
    "df1 = pd.DataFrame.from_dict(_dict, orient='index').T\n",
    "df1.T"
   ]
  },
  {
   "cell_type": "markdown",
   "metadata": {},
   "source": [
    "#### Subsection 2: Derecha"
   ]
  },
  {
   "cell_type": "code",
   "execution_count": null,
   "metadata": {},
   "outputs": [],
   "source": [
    "area_coordinates = (98.6, 46.3, 209.3, 74.2)  # Coordinates of the area to extract text from: (x1, y1, x2, y2)\n",
    "extracted_text = extract_text_from_area(page, area_coordinates)\n",
    "datos_vivienda = extracted_text.splitlines()[-5:]\n",
    "# Swap the elements\n",
    "datos_vivienda[2], datos_vivienda[3] = datos_vivienda[3], datos_vivienda[2]\n",
    "datos_vivienda"
   ]
  },
  {
   "cell_type": "code",
   "execution_count": null,
   "metadata": {},
   "outputs": [],
   "source": [
    "index = ['zona_termica', 'superficie_interior_util_m2', 'solicitado_por', 'evaluado_por', 'codigo_evaluacion']"
   ]
  },
  {
   "cell_type": "code",
   "execution_count": null,
   "metadata": {},
   "outputs": [],
   "source": [
    "_dict = dict(zip(index, datos_vivienda))\n",
    "_dict"
   ]
  },
  {
   "cell_type": "code",
   "execution_count": null,
   "metadata": {},
   "outputs": [],
   "source": [
    "_dict['superficie_interior_util_m2'] = float(_dict['superficie_interior_util_m2'].replace(',', '.'))"
   ]
  },
  {
   "cell_type": "code",
   "execution_count": null,
   "metadata": {},
   "outputs": [],
   "source": [
    "# Convert dictionary to DataFrame\n",
    "df2 = pd.DataFrame.from_dict(_dict, orient='index').T\n",
    "df2.T"
   ]
  },
  {
   "cell_type": "code",
   "execution_count": null,
   "metadata": {},
   "outputs": [],
   "source": [
    "df = pd.concat([df1, df2], axis=1)\n",
    "df.T"
   ]
  },
  {
   "cell_type": "markdown",
   "metadata": {},
   "source": [
    "### Seccion 2: Demanda energética promedio según tipología y zona térmica (kWh/m2 año)"
   ]
  },
  {
   "cell_type": "markdown",
   "metadata": {},
   "source": [
    "#### Subsection: Demanda Energetica para Calefaccion"
   ]
  },
  {
   "cell_type": "code",
   "execution_count": null,
   "metadata": {},
   "outputs": [],
   "source": [
    "area_coordinates = (99.1, 99.1, 135.3, 105.1)  # Coordinates of the area to extract text from: (x1, y1, x2, y2)\n",
    "extracted_text = extract_text_from_area(page, area_coordinates)\n",
    "demanda_calefaccion_kwh_m2_ano = extracted_text.split('\\n')[-1]\n",
    "df['demanda_calefaccion_kwh_m2_ano'] = float(demanda_calefaccion_kwh_m2_ano.replace(',', '.'))\n",
    "df.T"
   ]
  },
  {
   "cell_type": "markdown",
   "metadata": {},
   "source": [
    "#### Subsection: Demanda Energetica para Enfriamiento"
   ]
  },
  {
   "cell_type": "code",
   "execution_count": null,
   "metadata": {},
   "outputs": [],
   "source": [
    "area_coordinates = (99.1, 120.5, 135.3, 126.5)  # Coordinates of the area to extract text from: (x1, y1, x2, y2)\n",
    "extracted_text = extract_text_from_area(page, area_coordinates)\n",
    "demanda_enfriamiento_kwh_m2_ano = extracted_text.split('\\n')[-1]\n",
    "df['demanda_enfriamiento_kwh_m2_ano'] = float(demanda_enfriamiento_kwh_m2_ano.replace(',', '.'))\n",
    "df.T"
   ]
  },
  {
   "cell_type": "markdown",
   "metadata": {},
   "source": [
    "#### Subsection: Demanda Energetica Total"
   ]
  },
  {
   "cell_type": "code",
   "execution_count": null,
   "metadata": {},
   "outputs": [],
   "source": [
    "area_coordinates = (99.1, 137.4, 135.3, 150.4)  # Coordinates of the area to extract text from: (x1, y1, x2, y2)\n",
    "extracted_text = extract_text_from_area(page, area_coordinates)\n",
    "demanda_total_kwh_m2_ano = extracted_text.split('\\n')[-1]\n",
    "df['demanda_total_kwh_m2_ano'] = float(demanda_total_kwh_m2_ano.replace(',', '.'))\n",
    "df.T"
   ]
  },
  {
   "cell_type": "markdown",
   "metadata": {},
   "source": [
    "### Seccion 3"
   ]
  },
  {
   "cell_type": "markdown",
   "metadata": {},
   "source": [
    "### Subsection 1: Demanda Energética Total"
   ]
  },
  {
   "cell_type": "code",
   "execution_count": null,
   "metadata": {},
   "outputs": [],
   "source": [
    "area_coordinates = (39.2, 159.8, 122.8, 166.0)  # Coordinates of the area to extract text from: (x1, y1, x2, y2)\n",
    "extracted_text = extract_text_from_area(page, area_coordinates)\n",
    "demanda_total_bis_kwh_m2_ano = extracted_text.split('\\n')[-1]\n",
    "df['demanda_total_bis_kwh_m2_ano'] = float(demanda_total_bis_kwh_m2_ano.replace(',', '.'))\n",
    "df.T"
   ]
  },
  {
   "cell_type": "markdown",
   "metadata": {},
   "source": [
    "### Subsection 2: Demanda Energética Total de Referencia"
   ]
  },
  {
   "cell_type": "code",
   "execution_count": null,
   "metadata": {},
   "outputs": [],
   "source": [
    "area_coordinates = (16.9, 168.3, 146.2, 173.2)  # Coordinates of the area to extract text from: (x1, y1, x2, y2)\n",
    "extracted_text = extract_text_from_area(page, area_coordinates)\n",
    "demanda_total_referencia_kwh_m2_ano = extracted_text.split('\\n')[-1]\n",
    "df['demanda_total_referencia_kwh_m2_ano'] = float(demanda_total_referencia_kwh_m2_ano.replace(',', '.'))\n",
    "df.T"
   ]
  },
  {
   "cell_type": "markdown",
   "metadata": {},
   "source": [
    "### Porcentaje de Ahorro"
   ]
  },
  {
   "cell_type": "code",
   "execution_count": null,
   "metadata": {},
   "outputs": [],
   "source": [
    "area_coordinates = (152.0, 162.6, 201.5, 168.7)  # Coordinates of the area to extract text from: (x1, y1, x2, y2)\n",
    "extracted_text = extract_text_from_area(page, area_coordinates)\n",
    "porcentaje_ahorro = extracted_text.split('\\n')[-1]\n",
    "df['porcentaje_ahorro'] = float(porcentaje_ahorro.replace(',', '.'))\n",
    "df.T"
   ]
  },
  {
   "cell_type": "markdown",
   "metadata": {},
   "source": [
    "### Seccion 4: Principales características del Diseño de Arquitectura"
   ]
  },
  {
   "cell_type": "markdown",
   "metadata": {},
   "source": [
    "### Muro Principal"
   ]
  },
  {
   "cell_type": "code",
   "execution_count": null,
   "metadata": {},
   "outputs": [],
   "source": [
    "# Muro principal: Descripcion\n",
    "# Define section coordinates\n",
    "area_coordinates = (46.2, 202.2, 184.5, 209.1)  # Coordinates of the area to extract text from: (x1, y1, x2, y2)\n",
    "extracted_text = extract_text_from_area(page, area_coordinates)\n",
    "muro_principal_descripcion = extracted_text.replace('\\n', '')\n",
    "df['muro_principal_descripcion'] = muro_principal_descripcion\n",
    "df.T"
   ]
  },
  {
   "cell_type": "code",
   "execution_count": null,
   "metadata": {},
   "outputs": [],
   "source": [
    "# Muro principal: Exigencia\n",
    "# Define section coordinates\n",
    "area_coordinates = (185.5, 202.2, 209.5, 209.1)  # Coordinates of the area to extract text from: (x1, y1, x2, y2)\n",
    "extracted_text = extract_text_from_area(page, area_coordinates)\n",
    "muro_principal_exigencia = extracted_text.split('\\n')[-1]\n",
    "try:\n",
    "    df['muro_principal_exigencia_W_m2_K'] = float(muro_principal_exigencia.replace('[W/m2K]', '').replace(',', '.'))\n",
    "except ValueError:\n",
    "    df['muro_principal_exigencia_W_m2_K'] = None\n",
    "df.T"
   ]
  },
  {
   "cell_type": "markdown",
   "metadata": {},
   "source": [
    "### Muro Secundario"
   ]
  },
  {
   "cell_type": "code",
   "execution_count": null,
   "metadata": {},
   "outputs": [],
   "source": [
    "# Muro secundario: Descripcion\n",
    "# Define section coordinates\n",
    "area_coordinates = (46.2, 209.2, 184.5, 215.1)  # Coordinates of the area to extract text from: (x1, y1, x2, y2)\n",
    "extracted_text = extract_text_from_area(page, area_coordinates)\n",
    "muro_secundario_descripcion = extracted_text.replace('\\n', '')\n",
    "df['muro_secundario_descripcion'] = muro_secundario_descripcion if muro_secundario_descripcion != '0' else None\n",
    "df.T"
   ]
  },
  {
   "cell_type": "code",
   "execution_count": null,
   "metadata": {},
   "outputs": [],
   "source": [
    "# Muro secundario: Exigencia\n",
    "# Define section coordinates\n",
    "area_coordinates = (185.5, 202.2, 209.5, 209.1)  # Coordinates of the area to extract text from: (x1, y1, x2, y2)\n",
    "extracted_text = extract_text_from_area(page, area_coordinates)\n",
    "muro_secundario_exigencia = extracted_text.split('\\n')[-1]\n",
    "try:\n",
    "    df['muro_secundario_exigencia_W_m2_K'] = float(muro_secundario_exigencia.replace('[W/m2K]', '').replace(',', '.'))\n",
    "except ValueError:\n",
    "    df['muro_secundario_exigencia_W_m2_K'] = None\n",
    "df.T"
   ]
  },
  {
   "cell_type": "markdown",
   "metadata": {},
   "source": [
    "### Piso Principal"
   ]
  },
  {
   "cell_type": "code",
   "execution_count": null,
   "metadata": {},
   "outputs": [],
   "source": [
    "# Piso principal: Descripcion\n",
    "# Define section coordinates\n",
    "area_coordinates = (46.2, 216.4, 184.5, 223.7)  # Coordinates of the area to extract text from: (x1, y1, x2, y2)\n",
    "extracted_text = extract_text_from_area(page, area_coordinates)\n",
    "piso_principal_descripcion = extracted_text.replace('\\n', '')\n",
    "df['piso_principal_descripcion'] = piso_principal_descripcion\n",
    "df.T"
   ]
  },
  {
   "cell_type": "code",
   "execution_count": null,
   "metadata": {},
   "outputs": [],
   "source": [
    "# Piso principal: Exigencia\n",
    "area_coordinates = (185.5, 216.4, 209.5, 223.7)  # Coordinates of the area to extract text from: (x1, y1, x2, y2)\n",
    "extracted_text = extract_text_from_area(page, area_coordinates)\n",
    "piso_principal_exigencia = extracted_text.split('\\n')[-1]\n",
    "try:\n",
    "    df['piso_principal_exigencia_W_m2_K'] = float(piso_principal_exigencia.replace('[W/m2K]', '').replace(',', '.'))\n",
    "except ValueError:\n",
    "    df['piso_principal_exigencia_W_m2_K'] = None\n",
    "df.T"
   ]
  },
  {
   "cell_type": "markdown",
   "metadata": {},
   "source": [
    "### Puerta principal"
   ]
  },
  {
   "cell_type": "code",
   "execution_count": null,
   "metadata": {},
   "outputs": [],
   "source": [
    "# Puerta principal: Descripcion\n",
    "area_coordinates = (46.2, 223.5, 184.5, 230.2)  # Coordinates of the area to extract text from: (x1, y1, x2, y2)\n",
    "extracted_text = extract_text_from_area(page, area_coordinates)\n",
    "puerta_principal_descripcion = extracted_text.replace('\\n', '')\n",
    "df['puerta_principal_descripcion'] = puerta_principal_descripcion\n",
    "df.T"
   ]
  },
  {
   "cell_type": "code",
   "execution_count": null,
   "metadata": {},
   "outputs": [],
   "source": [
    "extracted_text"
   ]
  },
  {
   "cell_type": "code",
   "execution_count": null,
   "metadata": {},
   "outputs": [],
   "source": [
    "# Puerta principal: Exigencia\n",
    "# Define section coordinates\n",
    "area_coordinates  = (185.5, 223.9, 209.5, 230.2)\n",
    "extracted_text = extract_text_from_area(page, area_coordinates)\n",
    "puerta_principal_exigencia = extracted_text.strip()\n",
    "df['puerta_principal_exigencia_W_m2_K'] = puerta_principal_exigencia if puerta_principal_exigencia.isalpha() else None\n",
    "df.T"
   ]
  },
  {
   "cell_type": "markdown",
   "metadata": {},
   "source": [
    "### Techo Principal"
   ]
  },
  {
   "cell_type": "code",
   "execution_count": null,
   "metadata": {},
   "outputs": [],
   "source": [
    "# Techo principal: Descripcion\n",
    "area_coordinates = (46.2, 230.5, 184.5, 237.0)  # Coordinates of the area to extract text from: (x1, y1, x2, y2)\n",
    "extracted_text = extract_text_from_area(page, area_coordinates)\n",
    "techo_principal_descripcion = extracted_text.replace('\\n', '')\n",
    "df['techo_principal_descripcion'] = techo_principal_descripcion\n",
    "df.T"
   ]
  },
  {
   "cell_type": "code",
   "execution_count": null,
   "metadata": {},
   "outputs": [],
   "source": [
    "# Techo principal: Exigencia\n",
    "# Define section coordinates\n",
    "area_coordinates  = (185.5, 230.5, 209.5, 237.2)\n",
    "extracted_text = extract_text_from_area(page, area_coordinates)\n",
    "techo_principal_exigencia = extracted_text.strip()\n",
    "try:\n",
    "    df['techo_principal_exigencia_W_m2_K'] = float(techo_principal_exigencia.replace('[W/m2K]', '').replace(',', '.'))\n",
    "except ValueError:\n",
    "    df['techo_principal_exigencia_W_m2_K'] = None\n",
    "df.T"
   ]
  },
  {
   "cell_type": "markdown",
   "metadata": {},
   "source": [
    "### Techo Secundario"
   ]
  },
  {
   "cell_type": "code",
   "execution_count": null,
   "metadata": {},
   "outputs": [],
   "source": [
    "# Techo secundario: Descripcion\n",
    "area_coordinates = (46.2, 237.2, 184.5, 244.1)  # Coordinates of the area to extract text from: (x1, y1, x2, y2)\n",
    "extracted_text = extract_text_from_area(page, area_coordinates)\n",
    "techo_secundario_descripcion = extracted_text.replace('\\n', '')\n",
    "df['techo_secundario_descripcion'] = techo_secundario_descripcion if techo_secundario_descripcion != '0' else None\n",
    "df.T"
   ]
  },
  {
   "cell_type": "code",
   "execution_count": null,
   "metadata": {},
   "outputs": [],
   "source": [
    "# Techo secundario: Exigencia\n",
    "# Define section coordinates\n",
    "area_coordinates  = (185.5, 237.2, 209.5, 244.1)\n",
    "extracted_text = extract_text_from_area(page, area_coordinates)\n",
    "techo_secundario_exigencia = extracted_text.strip()\n",
    "try:\n",
    "    df['techo_secundario_exigencia_W_m2_K'] = float(techo_secundario_exigencia.replace('[W/m2K]', '').replace(',', '.'))\n",
    "except ValueError:\n",
    "    df['techo_principal_exigencia_W_m2_K'] = None\n",
    "\n",
    "df.T"
   ]
  },
  {
   "cell_type": "markdown",
   "metadata": {},
   "source": [
    "### Superficie vidriada principal"
   ]
  },
  {
   "cell_type": "code",
   "execution_count": null,
   "metadata": {},
   "outputs": [],
   "source": [
    "# Superficie vidriada principal: Descripcion\n",
    "area_coordinates = (46.2, 244.2, 184.5, 251.0)  # Coordinates of the area to extract text from: (x1, y1, x2, y2)\n",
    "extracted_text = extract_text_from_area(page, area_coordinates)\n",
    "superficie_vidriada_principal_descripcion = extracted_text.replace('\\n', '')\n",
    "df['superficie_vidriada_principal_descripcion'] = superficie_vidriada_principal_descripcion\n",
    "df.T"
   ]
  },
  {
   "cell_type": "code",
   "execution_count": null,
   "metadata": {},
   "outputs": [],
   "source": [
    "# Superficie vidriada principal: Exigencia\n",
    "# Define section coordinates\n",
    "area_coordinates  = (185.5, 244.3, 209.5, 251.0)\n",
    "extracted_text = extract_text_from_area(page, area_coordinates)\n",
    "superficie_vidriada_principal_exigencia = extracted_text.strip()\n",
    "df['superficie_vidriada_principal_exigencia'] = superficie_vidriada_principal_exigencia.strip() if superficie_vidriada_principal_exigencia.isalpha() else None\n",
    "df.T"
   ]
  },
  {
   "cell_type": "markdown",
   "metadata": {},
   "source": [
    "### Superficie vidriada secundaria"
   ]
  },
  {
   "cell_type": "code",
   "execution_count": null,
   "metadata": {},
   "outputs": [],
   "source": [
    "# Superficie vidriada secundaria: Descripcion\n",
    "area_coordinates = (46.2, 251.3, 184.5, 258.0)  # Coordinates of the area to extract text from: (x1, y1, x2, y2)\n",
    "extracted_text = extract_text_from_area(page, area_coordinates)\n",
    "superficie_vidriada_secundaria_descripcion = extracted_text.replace('\\n', '')\n",
    "df['superficie_vidriada_secundaria_descripcion'] = superficie_vidriada_secundaria_descripcion if superficie_vidriada_secundaria_descripcion != '0' else None\n",
    "df.T"
   ]
  },
  {
   "cell_type": "code",
   "execution_count": null,
   "metadata": {},
   "outputs": [],
   "source": [
    "# Superficie vidriada secundaria: Exigencia\n",
    "# Define section coordinates\n",
    "area_coordinates  = (185.5, 251.3, 209.5, 258.0)\n",
    "extracted_text = extract_text_from_area(page, area_coordinates)\n",
    "superficie_vidriada_secundaria_exigencia = extracted_text.strip()\n",
    "df['superficie_vidriada_secundaria_exigencia'] = superficie_vidriada_secundaria_exigencia.strip() if superficie_vidriada_secundaria_exigencia.isalpha() else None\n",
    "df.T"
   ]
  },
  {
   "cell_type": "markdown",
   "metadata": {},
   "source": [
    "### Ventilación (RAH)"
   ]
  },
  {
   "cell_type": "code",
   "execution_count": null,
   "metadata": {},
   "outputs": [],
   "source": [
    "# Ventilación (RAH): Descripcion\n",
    "area_coordinates = (46.2, 258.3, 184.5, 265.0)\n",
    "extracted_text = extract_text_from_area(page, area_coordinates)\n",
    "ventilacion_rah_descripcion = extracted_text\n",
    "df['ventilacion_rah_descripcion'] = ventilacion_rah_descripcion.replace('\\n', '').strip()\n",
    "df.T"
   ]
  },
  {
   "cell_type": "code",
   "execution_count": null,
   "metadata": {},
   "outputs": [],
   "source": [
    "# Ventilación (RAH): Exigencia\n",
    "# Define section coordinates\n",
    "area_coordinates = (185.5, 258.3, 209.5, 265.0)\n",
    "extracted_text = extract_text_from_area(page, area_coordinates)\n",
    "ventilacion_rah_exigencia = extracted_text\n",
    "df['ventilacion_rah_exigencia'] = ventilacion_rah_exigencia.strip()\n",
    "df.T"
   ]
  },
  {
   "cell_type": "markdown",
   "metadata": {},
   "source": [
    "### Inﬁltraciones (RAH)"
   ]
  },
  {
   "cell_type": "code",
   "execution_count": null,
   "metadata": {},
   "outputs": [],
   "source": [
    "# Infiltraciones (RAH): Descripcion\n",
    "area_coordinates = (46.2, 265.3, 184.5, 272.0)\n",
    "extracted_text = extract_text_from_area(page, area_coordinates)\n",
    "infiltraciones_rah_descripcion = extracted_text\n",
    "df['infiltraciones_rah_descripcion'] = infiltraciones_rah_descripcion.replace('\\n', '').strip()\n",
    "df.T"
   ]
  },
  {
   "cell_type": "code",
   "execution_count": null,
   "metadata": {
    "scrolled": false
   },
   "outputs": [],
   "source": [
    "# Infiltraciones (RAH): Exigencia\n",
    "area_coordinates = (185.5, 265.3, 209.5, 272.0)\n",
    "extracted_text = extract_text_from_area(page, area_coordinates)\n",
    "infiltraciones_rah_exigencia = extracted_text\n",
    "df['infiltraciones_rah_exigencia'] = infiltraciones_rah_exigencia.replace('\\n', '').strip()\n",
    "df.T"
   ]
  },
  {
   "cell_type": "markdown",
   "metadata": {},
   "source": [
    "### END"
   ]
  }
 ],
 "metadata": {
  "kernelspec": {
   "display_name": "Python 3 (ipykernel)",
   "language": "python",
   "name": "python3"
  },
  "language_info": {
   "codemirror_mode": {
    "name": "ipython",
    "version": 3
   },
   "file_extension": ".py",
   "mimetype": "text/x-python",
   "name": "python",
   "nbconvert_exporter": "python",
   "pygments_lexer": "ipython3",
   "version": "3.9.7"
  }
 },
 "nbformat": 4,
 "nbformat_minor": 1
}
