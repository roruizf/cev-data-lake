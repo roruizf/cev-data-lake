{
 "cells": [
  {
   "cell_type": "markdown",
   "metadata": {},
   "source": [
    "# Informe CEV (v.2) - Page 1"
   ]
  },
  {
   "cell_type": "markdown",
   "metadata": {},
   "source": [
    "### Import `PyMuPDF`"
   ]
  },
  {
   "cell_type": "code",
   "execution_count": null,
   "metadata": {
    "execution": {
     "iopub.execute_input": "2022-07-18T14:47:50.653979Z",
     "iopub.status.busy": "2022-07-18T14:47:50.653590Z",
     "iopub.status.idle": "2022-07-18T14:47:50.688352Z",
     "shell.execute_reply": "2022-07-18T14:47:50.688022Z"
    }
   },
   "outputs": [],
   "source": [
    "import pandas as pd\n",
    "import fitz  # PyMuPDF\n",
    "import sys\n",
    "sys.path.append('/mnt/c/Users/rober/OneDrive/8_DEVELOPMENT/cev-database')\n",
    "from utils.pdf_functs import *\n",
    "import time"
   ]
  },
  {
   "cell_type": "markdown",
   "metadata": {},
   "source": [
    "### Load the PDF"
   ]
  },
  {
   "cell_type": "code",
   "execution_count": null,
   "metadata": {
    "execution": {
     "iopub.execute_input": "2022-07-18T14:47:50.690282Z",
     "iopub.status.busy": "2022-07-18T14:47:50.690148Z",
     "iopub.status.idle": "2022-07-18T14:47:50.693123Z",
     "shell.execute_reply": "2022-07-18T14:47:50.692800Z"
    }
   },
   "outputs": [],
   "source": [
    "pdf_file_path = '/mnt/c/Users/rober/OneDrive/8_DEVELOPMENT/cev-database-reports/data/raw/9/pdf_files/9_195_1_aa1400a4dbe6c3177ff044edce8b5585fb846445.pdf'\n",
    "pdf_file_path = './1_5_1_c9cbda772da622dd1667027eef1b862a7d7209c8.pdf'\n",
    "pdf_file_path = './1_113_2_0da232073435d32084842b8fd244ecdf37be7c25.pdf'\n",
    "pdf_file_path = '/mnt/c/Users/rober/OneDrive/8_DEVELOPMENT/cev-database-reports/data/raw/2/pdf_files/2_9_1_a14a0dec57b8c6dbfa82bff0f43fac88612d0728.pdf'\n",
    "pdf_file_path = '/mnt/c/Users/rober/OneDrive/8_DEVELOPMENT/cev-database-reports/data/raw/3/pdf_files/3_39_2_50209d37d5ad9ff45fb9e40f6d0a379fcec40453.pdf'\n",
    "pdf_file_path = '/mnt/c/Users/rober/OneDrive/8_DEVELOPMENT/cev-database-reports/data/raw/10/pdf_files/10_143_2_879d7a9abc7928aa518b3cce7cebc6ef0d315b96.pdf'\n",
    "#pdf_file_path = './Informe_CEV_v2.pdf'"
   ]
  },
  {
   "cell_type": "markdown",
   "metadata": {},
   "source": [
    "## Pagina 1"
   ]
  },
  {
   "cell_type": "code",
   "execution_count": null,
   "metadata": {},
   "outputs": [],
   "source": [
    "start_time = time.time()\n",
    "informe_v2_pagina1_df = scrape_informe_cev_v2_pagina1(pdf_file_path)\n",
    "end_time = time.time()\n",
    "execution_time = end_time - start_time\n",
    "print(\"Script execution time:\", execution_time, \"seconds\")\n",
    "informe_v2_pagina1_df.T"
   ]
  },
  {
   "cell_type": "markdown",
   "metadata": {},
   "source": [
    "## Pagina 2"
   ]
  },
  {
   "cell_type": "code",
   "execution_count": null,
   "metadata": {},
   "outputs": [],
   "source": [
    "start_time = time.time()\n",
    "informe_v2_pagina2_df = scrape_informe_cev_v2_pagina2(pdf_file_path)\n",
    "end_time = time.time()\n",
    "execution_time = end_time - start_time\n",
    "print(\"Script execution time:\", execution_time, \"seconds\")\n",
    "informe_v2_pagina2_df.T"
   ]
  },
  {
   "cell_type": "markdown",
   "metadata": {},
   "source": [
    "## Pagina 3"
   ]
  },
  {
   "cell_type": "markdown",
   "metadata": {},
   "source": [
    "### Consumos"
   ]
  },
  {
   "cell_type": "code",
   "execution_count": null,
   "metadata": {
    "scrolled": false
   },
   "outputs": [],
   "source": [
    "start_time = time.time()\n",
    "informe_v2_pagina3_consumos_df = scrape_informe_cev_v2_pagina3_consumos(pdf_file_path)\n",
    "end_time = time.time()\n",
    "execution_time = end_time - start_time\n",
    "print(\"Script execution time:\", execution_time, \"seconds\")\n",
    "informe_v2_pagina3_consumos_df.T"
   ]
  },
  {
   "cell_type": "markdown",
   "metadata": {},
   "source": [
    "### Envolvente"
   ]
  },
  {
   "cell_type": "code",
   "execution_count": null,
   "metadata": {},
   "outputs": [],
   "source": [
    "start_time = time.time()\n",
    "informe_v2_pagina3_envolvente_df = scrape_informe_cev_v2_pagina3_envolvente(pdf_file_path)\n",
    "end_time = time.time()\n",
    "execution_time = end_time - start_time\n",
    "print(\"Script execution time:\", execution_time, \"seconds\")\n",
    "informe_v2_pagina3_envolvente_df "
   ]
  },
  {
   "cell_type": "markdown",
   "metadata": {},
   "source": [
    "## Pagina 4"
   ]
  },
  {
   "cell_type": "code",
   "execution_count": null,
   "metadata": {
    "scrolled": false
   },
   "outputs": [],
   "source": [
    "start_time = time.time()\n",
    "informe_v2_pagina4_df = scrape_informe_cev_v2_pagina4(pdf_file_path)\n",
    "end_time = time.time()\n",
    "execution_time = end_time - start_time\n",
    "print(\"Script execution time:\", execution_time, \"seconds\")\n",
    "informe_v2_pagina4_df "
   ]
  },
  {
   "cell_type": "markdown",
   "metadata": {},
   "source": [
    "## Pagina 5"
   ]
  },
  {
   "cell_type": "code",
   "execution_count": null,
   "metadata": {},
   "outputs": [],
   "source": [
    "start_time = time.time()\n",
    "informe_v2_pagina5_df = scrape_informe_cev_v2_pagina5(pdf_file_path)\n",
    "end_time = time.time()\n",
    "execution_time = end_time - start_time\n",
    "print(\"Script execution time:\", execution_time, \"seconds\")\n",
    "informe_v2_pagina5_df "
   ]
  },
  {
   "cell_type": "markdown",
   "metadata": {},
   "source": [
    "## Pagina 6"
   ]
  },
  {
   "cell_type": "code",
   "execution_count": null,
   "metadata": {},
   "outputs": [],
   "source": [
    "start_time = time.time()\n",
    "informe_v2_pagina6_df = scrape_informe_cev_v2_pagina6(pdf_file_path)\n",
    "end_time = time.time()\n",
    "execution_time = end_time - start_time\n",
    "print(\"Script execution time:\", execution_time, \"seconds\")\n",
    "informe_v2_pagina6_df "
   ]
  },
  {
   "cell_type": "markdown",
   "metadata": {},
   "source": [
    "## Pagina 7"
   ]
  },
  {
   "cell_type": "code",
   "execution_count": null,
   "metadata": {},
   "outputs": [],
   "source": [
    "start_time = time.time()\n",
    "informe_v2_pagina7_df = scrape_informe_cev_v2_pagina7(pdf_file_path)\n",
    "end_time = time.time()\n",
    "execution_time = end_time - start_time\n",
    "print(\"Script execution time:\", execution_time, \"seconds\")\n",
    "informe_v2_pagina7_df "
   ]
  },
  {
   "cell_type": "markdown",
   "metadata": {},
   "source": [
    "# END"
   ]
  }
 ],
 "metadata": {
  "kernelspec": {
   "display_name": "Python 3 (ipykernel)",
   "language": "python",
   "name": "python3"
  },
  "language_info": {
   "codemirror_mode": {
    "name": "ipython",
    "version": 3
   },
   "file_extension": ".py",
   "mimetype": "text/x-python",
   "name": "python",
   "nbconvert_exporter": "python",
   "pygments_lexer": "ipython3",
   "version": "3.9.7"
  }
 },
 "nbformat": 4,
 "nbformat_minor": 1
}
