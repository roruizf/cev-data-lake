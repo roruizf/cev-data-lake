{
 "cells": [
  {
   "cell_type": "code",
   "execution_count": null,
   "id": "704245b5",
   "metadata": {},
   "outputs": [],
   "source": [
    "import requests\n",
    "import time\n",
    "from datetime import datetime\n",
    "import pandas as pd\n",
    "import os\n",
    "import json\n",
    "import uuid\n",
    "import sqlite3\n",
    "import sys\n",
    "from dotenv import load_dotenv\n",
    "# Load the .env file\n",
    "load_dotenv()\n",
    "# Access the environment variables\n",
    "project_folder_path = os.getenv('PROJECT_FOLDER_PATH')\n",
    "print(project_folder_path)\n",
    "project_folder_path = '/mnt/c/Users/rober/OneDrive/8_DEVELOPMENT/cev-database'\n",
    "sys.path.append(project_folder_path)\n",
    "from utils.db_functs import *\n",
    "from utils.requests_functs import *\n",
    "from utils.html_functs import *\n",
    "from utils.pdf_functs import *\n",
    "from utils.utils_functs import *"
   ]
  },
  {
   "cell_type": "markdown",
   "id": "c0366616",
   "metadata": {},
   "source": [
    "### Database and directories"
   ]
  },
  {
   "cell_type": "code",
   "execution_count": null,
   "id": "6c147be4",
   "metadata": {},
   "outputs": [],
   "source": [
    "db_file_name = 'cev-database-coordinates-v1.db'\n",
    "db_file_path = os.path.join(project_folder_path, 'data', 'sqlite', db_file_name)\n",
    "csv_file_path = '/mnt/c/Users/rober/OneDrive/8_DEVELOPMENT/cev-database-reports/pipeline/CEV-Chile-2022-September-ratings.csv'"
   ]
  },
  {
   "cell_type": "markdown",
   "id": "917318a2",
   "metadata": {},
   "source": [
    "## 1) Define parameters to run a `search`\n",
    "This can be a new search or retake a previous one"
   ]
  },
  {
   "cell_type": "code",
   "execution_count": null,
   "id": "5c740005",
   "metadata": {},
   "outputs": [],
   "source": [
    "df = pd.read_csv(csv_file_path)\n",
    "df.head()"
   ]
  },
  {
   "cell_type": "markdown",
   "id": "530862c4",
   "metadata": {},
   "source": [
    "Set additional features to track the status of downloads as well as times and file names"
   ]
  },
  {
   "cell_type": "code",
   "execution_count": null,
   "id": "08c40113",
   "metadata": {},
   "outputs": [],
   "source": [
    "# Add additional columns\n",
    "query = f\"\"\"\n",
    "        SELECT * FROM comunas;\n",
    "        \"\"\"\n",
    "print(query)\n",
    "comunas_df = create_dataframe_from_query(db_file_path, query)\n",
    "#comunas_df['comuna_id'] = comunas_df['comuna_id'].astype(str)\n",
    "\n",
    "df['comuna_id'] = df['Comuna'].map(comunas_df.set_index('comuna_name')['comuna_id'].to_dict())\n",
    "df['region_id'] = df['Comuna'].map(comunas_df.set_index('comuna_name')['region_id'].to_dict())\n",
    "df['tipo_evaluacion'] = df['Status'].map({'Pre-calificación':1,\n",
    "                                          'Calificación':2\n",
    "                                            })\n",
    "\n",
    "df.head()"
   ]
  },
  {
   "cell_type": "code",
   "execution_count": null,
   "id": "29d2de07",
   "metadata": {},
   "outputs": [],
   "source": [
    "# Evaluacion id: generated from 4 columns with fcuntion string_to_uuid\n",
    "df['eval_id'] = (df['comuna_id'].astype(str) + '_' + df['region_id'].astype(str) + '_' + df['tipo_evaluacion'].astype(str) + '_' + df['Identificación Vivienda'].astype(str)).apply(string_to_uuid)\n",
    "df['eval_id'] = df['eval_id'].astype(str)"
   ]
  },
  {
   "cell_type": "code",
   "execution_count": null,
   "id": "a13bf0e1",
   "metadata": {},
   "outputs": [],
   "source": [
    "df.head()"
   ]
  },
  {
   "cell_type": "code",
   "execution_count": null,
   "id": "e0b368d7",
   "metadata": {},
   "outputs": [],
   "source": [
    "df['old_file_name'] = df['region_id'].astype(str) + '_' + df['comuna_id'].astype(str) + '_' + df['tipo_evaluacion'].astype(str) + '_' + df['Hash Id'].astype(str) + '.pdf'\n",
    "df['new_file_name'] = df['region_id'].astype(str) + '_' + df['comuna_id'].astype(str) + '_' + df['tipo_evaluacion'].astype(str) + '_' + df['eval_id'].astype(str) + '.pdf'"
   ]
  },
  {
   "cell_type": "code",
   "execution_count": null,
   "id": "1a7d8dcb",
   "metadata": {},
   "outputs": [],
   "source": [
    "df['status'] = None\n",
    "df['pdf_filename'] = None\n",
    "df['downloaded_at'] = None\n",
    "df.head()"
   ]
  },
  {
   "cell_type": "markdown",
   "id": "95a20f27",
   "metadata": {},
   "source": [
    "## 3) Check first if any pdf files has been downloaded\n",
    "This is useful in case a seach has been run and has not completed"
   ]
  },
  {
   "cell_type": "markdown",
   "id": "022334c2",
   "metadata": {},
   "source": [
    "### 3.1) Read all html files for the corresponding `search_date` and `search_id`"
   ]
  },
  {
   "cell_type": "code",
   "execution_count": null,
   "id": "3a035e31",
   "metadata": {},
   "outputs": [],
   "source": [
    "# Define the directory path\n",
    "pdf_files_dir = '/mnt/c/Users/rober/OneDrive/8_DEVELOPMENT/cev-database-reports/data'\n",
    "\n",
    "# Check if the directory exists\n",
    "if not os.path.exists(pdf_files_dir):\n",
    "    # If it doesn't exist, create the directory\n",
    "    os.makedirs(pdf_files_dir)\n",
    "    print(f\"Directory '{pdf_files_dir}' created.\")\n",
    "\n",
    "# List all files in the directory\n",
    "pdf_file_paths = find_pdf_files(pdf_files_dir)\n",
    "print(f'The directory: {pdf_files_dir} contains {len(pdf_file_paths)} out of {df.shape[0]}')"
   ]
  },
  {
   "cell_type": "markdown",
   "id": "8a107d22",
   "metadata": {},
   "source": [
    "### 3.2) Fill on dataframe all those rows corresponding to files already downloaded"
   ]
  },
  {
   "cell_type": "code",
   "execution_count": null,
   "id": "29dc46a8",
   "metadata": {
    "scrolled": true
   },
   "outputs": [],
   "source": [
    "count = 0\n",
    "for pdf_file_path in pdf_file_paths:\n",
    "    print(f'file {count + 1} out of {len(pdf_file_paths)}')\n",
    "    pdf_file_name = os.path.split(pdf_file_path)[-1]\n",
    "    pdf_file_list = pdf_file_name.split('_')\n",
    "    region_id = int(pdf_file_list[0])\n",
    "    comuna_id = int(pdf_file_list[1])\n",
    "    tipo_evaluacion = int(pdf_file_list[2])\n",
    "    hash_id = pdf_file_list[-1].split('.')[0]\n",
    "    row = df[df['region_id'].astype(str) + '_' + df['comuna_id'].astype(str) + '_' + df['tipo_evaluacion'].astype(str)+ '_' + df['Hash Id'].astype(str) == str(region_id) + '_' + str(comuna_id) + '_' + str(tipo_evaluacion) + '_' + str(hash_id)]\n",
    "    if not row.empty:\n",
    "        df.loc[row.index, 'status'] = 'Successful'\n",
    "        df.loc[row.index, 'pdf_filename'] = pdf_file_name\n",
    "        df.loc[row.index, 'pdf_file_path'] = pdf_file_path\n",
    "        #df.loc[row.index, 'downloaded_at'] = None    \n",
    "    count = count + 1"
   ]
  },
  {
   "cell_type": "code",
   "execution_count": null,
   "id": "4886dbd1",
   "metadata": {},
   "outputs": [],
   "source": [
    "df[df['status'] == 'Successful'][['pdf_file_path']].reset_index(drop=True).iloc[0].values"
   ]
  },
  {
   "cell_type": "code",
   "execution_count": null,
   "id": "db0e0c64",
   "metadata": {},
   "outputs": [],
   "source": [
    "df['pdf_filename'].isna().value_counts(dropna=False)"
   ]
  },
  {
   "cell_type": "code",
   "execution_count": null,
   "id": "17414af1",
   "metadata": {},
   "outputs": [],
   "source": [
    "new_names_df = df[df['status'] == 'Successful'].reset_index(drop=True).copy()\n",
    "new_names_df['rename_status'] = None\n",
    "new_names_df"
   ]
  },
  {
   "cell_type": "markdown",
   "id": "44b21532",
   "metadata": {},
   "source": [
    "for index, row in new_names_df.iterrows():\n",
    "    print(f'file {index + 1} out of {new_names_df.shape[0]}')\n",
    "    new_pdf_file_path = os.path.join(os.path.split(pdf_file_path)[0],  row['new_file_name'])\n",
    "    os.rename(row['pdf_file_path'], new_pdf_file_path)\n",
    "    #new_names_df.loc[row.index, 'rename_status'] = 'renamed'\n",
    "    "
   ]
  },
  {
   "cell_type": "code",
   "execution_count": null,
   "id": "e0c1a8ca",
   "metadata": {},
   "outputs": [],
   "source": [
    "new_names_df.head()"
   ]
  },
  {
   "cell_type": "code",
   "execution_count": null,
   "id": "193be35f",
   "metadata": {},
   "outputs": [],
   "source": [
    "new_pdf_file_path"
   ]
  },
  {
   "cell_type": "code",
   "execution_count": null,
   "id": "b7f3f798",
   "metadata": {},
   "outputs": [],
   "source": []
  }
 ],
 "metadata": {
  "kernelspec": {
   "display_name": "Python 3 (ipykernel)",
   "language": "python",
   "name": "python3"
  },
  "language_info": {
   "codemirror_mode": {
    "name": "ipython",
    "version": 3
   },
   "file_extension": ".py",
   "mimetype": "text/x-python",
   "name": "python",
   "nbconvert_exporter": "python",
   "pygments_lexer": "ipython3",
   "version": "3.9.7"
  }
 },
 "nbformat": 4,
 "nbformat_minor": 5
}
