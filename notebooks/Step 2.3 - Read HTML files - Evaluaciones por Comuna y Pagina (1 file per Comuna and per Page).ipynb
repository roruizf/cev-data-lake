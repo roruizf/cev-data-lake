{
 "cells": [
  {
   "cell_type": "code",
   "execution_count": null,
   "id": "704245b5",
   "metadata": {},
   "outputs": [],
   "source": [
    "import requests\n",
    "import lxml.html as html\n",
    "import time\n",
    "from datetime import datetime\n",
    "import pandas as pd\n",
    "import os\n",
    "import json\n",
    "import uuid\n",
    "import sqlite3\n",
    "import sys\n",
    "from dotenv import load_dotenv\n",
    "# Load the .env file\n",
    "load_dotenv()\n",
    "# Access the environment variables\n",
    "project_folder_path = os.getenv('PROJECT_FOLDER_PATH')\n",
    "print(project_folder_path)\n",
    "sys.path.append(project_folder_path)\n",
    "from utils.db_functs import *\n",
    "from utils.requests_functs import *\n",
    "from utils.html_functs import *\n",
    "from utils.utils_functs import *"
   ]
  },
  {
   "cell_type": "markdown",
   "id": "01d352d1",
   "metadata": {},
   "source": [
    "### Database and directories"
   ]
  },
  {
   "cell_type": "code",
   "execution_count": null,
   "id": "6ce6b21e",
   "metadata": {},
   "outputs": [],
   "source": [
    "db_file_name = 'cev-database-coordinates-v1.db'\n",
    "db_file_path = os.path.join(project_folder_path, 'data', 'sqlite', db_file_name)"
   ]
  },
  {
   "cell_type": "markdown",
   "id": "8faf62b6",
   "metadata": {},
   "source": [
    "## 1) Define parameters to run a `search`\n",
    "This can be a new search or retake a previous one"
   ]
  },
  {
   "cell_type": "code",
   "execution_count": null,
   "id": "6c61ba8f",
   "metadata": {},
   "outputs": [],
   "source": [
    "search_id = '4bd70bab-b20c-4e27-b514-92ff6fa70351'\n",
    "#search_id = '010576e8-90f1-42c4-88bc-3965b5c4c238'\n",
    "search_date = '2024-05-02'\n",
    "#search_date = '2024-04-21'"
   ]
  },
  {
   "cell_type": "markdown",
   "id": "87c89c44",
   "metadata": {},
   "source": [
    "## 2) Define a dataframe with download coordinates\n",
    "The dataframe must contain 1 row per `comuna` meaning 348 rows in total."
   ]
  },
  {
   "cell_type": "code",
   "execution_count": null,
   "id": "840cb1f2",
   "metadata": {},
   "outputs": [],
   "source": [
    "query = f\"\"\"\n",
    "        SELECT * FROM evals_html_downloaded_files\n",
    "        WHERE search_id = \"{search_id}\";\n",
    "        \"\"\"\n",
    "print(query)"
   ]
  },
  {
   "cell_type": "code",
   "execution_count": null,
   "id": "5c740005",
   "metadata": {},
   "outputs": [],
   "source": [
    "df = create_dataframe_from_query(db_file_path, query)\n",
    "# Drop specified columns\n",
    "columns_to_drop = ['id']\n",
    "df = df.drop(columns=columns_to_drop)\n",
    "# Filter only 'Successful' rows\n",
    "df = df[(df['status'] == 'Successful') & (df['search_id'] == search_id)].reset_index(drop=True)\n",
    "print(f'{df.shape[0]} rows loaded...')\n",
    "df.head()"
   ]
  },
  {
   "cell_type": "markdown",
   "id": "6e36a961",
   "metadata": {},
   "source": [
    "### 3) Read/Scrape HTML files in order to get all `Evaluaciones`\n",
    "- 1 row per `vivienda`, `tipo_evaluacion` and `comuna`"
   ]
  },
  {
   "cell_type": "code",
   "execution_count": null,
   "id": "afb664d5",
   "metadata": {},
   "outputs": [],
   "source": [
    "# Parameters\n",
    "chunk_size = 2500  # Adjust based on your memory and performance needs\n",
    "\n",
    "# Initialize an empty list to store results\n",
    "all_chunks_results = []\n",
    "\n",
    "# Process the dataframe in chunks\n",
    "for start in range(0, df.shape[0], chunk_size):\n",
    "    print(f'Chunk {list(range(0, df.shape[0], chunk_size)).index(start) + 1} out of {len(range(0, df.shape[0], chunk_size))}')\n",
    "    chunk = df.iloc[start:start+chunk_size]\n",
    "    chunk_results = []\n",
    "    # Initialize an empty dataframe\n",
    "    evals_df_i = pd.DataFrame()\n",
    "    for index, row in chunk.iterrows():\n",
    "        if (index + 1) % 250 == 0:\n",
    "            print(f'Processing evaluacion {index+1} out of {df.shape[0]}')\n",
    "        html_path = os.path.join(project_folder_path, 'data', 'raw', '2_evals_comuna_page', f'{search_date}_{search_id}', 'html_files', str(row['region_id']))\n",
    "        html_filename = row['html_filename']\n",
    "        html_file_path = os.path.join(html_path, html_filename)\n",
    "        evals_df_i = read_single_html_file(html_file_path)\n",
    "        evals_df_i['comuna_id'] = row['comuna_id']\n",
    "        evals_df_i['region_id'] = row['region_id']\n",
    "        evals_df_i['tipo_evaluacion'] = row['tipo_evaluacion']\n",
    "        evals_df_i['pagina'] = row['pagina']\n",
    "        evals_df_i['eval_number_pagina'] = (evals_df_i.reset_index(drop=True).index + 1).to_list()\n",
    "        evals_df_i['search_id'] = row['search_id']\n",
    "        evals_df_i['search_date'] = row['search_date']\n",
    "        chunk_results.append(evals_df_i)\n",
    "        del evals_df_i # memory release\n",
    "\n",
    "    all_chunks_results.extend(chunk_results)\n",
    "# Concatenate all results into a single dataframe\n",
    "evals_df = pd.concat(all_chunks_results, ignore_index=True)"
   ]
  },
  {
   "cell_type": "code",
   "execution_count": null,
   "id": "394f6b8a",
   "metadata": {},
   "outputs": [],
   "source": [
    "# Evaluacion id: generated from 4 columns with function string_to_uuid\n",
    "evals_df['eval_id'] = (evals_df['comuna_id'].astype(str) + '_' + evals_df['region_id'].astype(str) + '_' + evals_df['tipo_evaluacion'].astype(str) + '_' + evals_df['identificacion_vivienda'].astype(str)).apply(string_to_uuid)\n",
    "evals_df['eval_id'] = evals_df['eval_id'].astype(str)\n",
    "evals_df['eval_number'] = (evals_df.reset_index(drop=True).index + 1).to_list()\n",
    "evals_df['eventargument'] = 'Page$' + evals_df['pagina'].astype(str)\n",
    "\n",
    "print(f'{evals_df.shape[0]} evaluaciones loaded ...')\n",
    "evals_df = evals_df[['eval_id', 'comuna_id', 'region_id', 'tipo_evaluacion', 'eval_number', 'pagina', 'eval_number_pagina', 'search_id', 'search_date', 'identificacion_vivienda', 'tipologia', 'comuna', 'proyecto', 'CE','CEE', 'codigo_informe', 'codigo_etiqueta', 'viewstate', 'eventargument']]"
   ]
  },
  {
   "cell_type": "markdown",
   "id": "057bed0f",
   "metadata": {},
   "source": [
    "### Looking for duplicates. \n",
    "Each row `should be unique`"
   ]
  },
  {
   "cell_type": "code",
   "execution_count": null,
   "id": "5d62db00",
   "metadata": {},
   "outputs": [],
   "source": [
    "duplicated_evals_df = evals_df[evals_df.duplicated(subset=['eval_id'], keep=False)].sort_values(by=['region_id', 'comuna_id', 'tipo_evaluacion', 'eval_id']).reset_index(drop=True)#['identificacion_vivienda'].to_list()\n",
    "print(f'{duplicated_evals_df.shape[0]} duplicated rows... half of them must be removed')\n",
    "duplicated_evals_df.head()\n",
    "duplicated_evals_df[duplicated_evals_df['eval_id'] == '1db2ba01-952f-5c70-8145-c6bfb35b5484']"
   ]
  },
  {
   "cell_type": "markdown",
   "id": "7a7b339b",
   "metadata": {},
   "source": [
    "### 3.1) Create a DataFrame with `Summary` data."
   ]
  },
  {
   "cell_type": "code",
   "execution_count": null,
   "id": "1400dc06",
   "metadata": {},
   "outputs": [],
   "source": [
    "evals_summary_df = evals_df[['eval_id', 'comuna_id', 'region_id', 'tipo_evaluacion', 'identificacion_vivienda', 'tipologia', 'comuna', 'proyecto', 'CE','CEE']]\n",
    "# Remove duplicated rows by keeping the first occurrence\n",
    "evals_summary_df  = evals_summary_df.drop_duplicates(subset=['eval_id'], keep='first').reset_index(drop=True)\n",
    "print(f'Total rows: {evals_summary_df.shape[0]}')\n",
    "evals_summary_df.head()"
   ]
  },
  {
   "cell_type": "code",
   "execution_count": null,
   "id": "5a85a98f",
   "metadata": {},
   "outputs": [],
   "source": [
    "evals_summary_df['eval_id'].value_counts()"
   ]
  },
  {
   "cell_type": "code",
   "execution_count": null,
   "id": "a7899c15",
   "metadata": {},
   "outputs": [],
   "source": [
    "evals_summary_df.dtypes"
   ]
  },
  {
   "cell_type": "code",
   "execution_count": null,
   "id": "113b8fc5",
   "metadata": {
    "scrolled": true
   },
   "outputs": [],
   "source": [
    "insert_unique_rows_from_dataframe(db_file_path, 'evals_summary', evals_summary_df, unique_columns=['eval_id'])"
   ]
  },
  {
   "cell_type": "markdown",
   "id": "0af0bbc5",
   "metadata": {},
   "source": [
    "### 3.2) Create a DataFrame with `Download Coordinate` to then dowload `PDF Reports`."
   ]
  },
  {
   "cell_type": "code",
   "execution_count": null,
   "id": "8162ff52",
   "metadata": {},
   "outputs": [],
   "source": [
    "evals_df.columns"
   ]
  },
  {
   "cell_type": "code",
   "execution_count": null,
   "id": "0eee6345",
   "metadata": {},
   "outputs": [],
   "source": [
    "pdf_coordinates_df = evals_df[['comuna_id', 'region_id', 'tipo_evaluacion', 'eval_number', 'pagina', 'eval_number_pagina', 'search_id', 'search_date', 'eval_id', 'codigo_informe', 'codigo_etiqueta', 'viewstate', 'eventargument']]\n",
    "pdf_coordinates_df  = pdf_coordinates_df.drop_duplicates(['comuna_id', 'region_id', 'tipo_evaluacion', 'eval_number', 'search_id'], keep='first').reset_index(drop=True)\n",
    "print(f'Total rows: {pdf_coordinates_df.shape[0]}')\n",
    "pdf_coordinates_df.head()"
   ]
  },
  {
   "cell_type": "code",
   "execution_count": null,
   "id": "d6af78a6",
   "metadata": {},
   "outputs": [],
   "source": [
    "insert_unique_rows_from_dataframe(db_file_path, 'evals_pdf_reports_download_coordinates', pdf_coordinates_df, unique_columns=['comuna_id', 'region_id', 'tipo_evaluacion', 'eval_number', 'search_id'])"
   ]
  },
  {
   "cell_type": "code",
   "execution_count": null,
   "id": "c1178ea8",
   "metadata": {},
   "outputs": [],
   "source": [
    "pdf_coordinates_df.dtypes"
   ]
  }
 ],
 "metadata": {
  "kernelspec": {
   "display_name": "Python 3 (ipykernel)",
   "language": "python",
   "name": "python3"
  },
  "language_info": {
   "codemirror_mode": {
    "name": "ipython",
    "version": 3
   },
   "file_extension": ".py",
   "mimetype": "text/x-python",
   "name": "python",
   "nbconvert_exporter": "python",
   "pygments_lexer": "ipython3",
   "version": "3.9.7"
  }
 },
 "nbformat": 4,
 "nbformat_minor": 5
}
