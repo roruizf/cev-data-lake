{
 "cells": [
  {
   "cell_type": "markdown",
   "metadata": {},
   "source": [
    "# Informe CEV (v.2) - Page 1"
   ]
  },
  {
   "cell_type": "markdown",
   "metadata": {},
   "source": [
    "### Import `PyMuPDF`"
   ]
  },
  {
   "cell_type": "code",
   "execution_count": null,
   "metadata": {
    "execution": {
     "iopub.execute_input": "2022-07-18T14:47:50.653979Z",
     "iopub.status.busy": "2022-07-18T14:47:50.653590Z",
     "iopub.status.idle": "2022-07-18T14:47:50.688352Z",
     "shell.execute_reply": "2022-07-18T14:47:50.688022Z"
    }
   },
   "outputs": [],
   "source": [
    "import pandas as pd\n",
    "import fitz  # PyMuPDF"
   ]
  },
  {
   "cell_type": "markdown",
   "metadata": {},
   "source": [
    "### Load the PDF"
   ]
  },
  {
   "cell_type": "code",
   "execution_count": null,
   "metadata": {
    "execution": {
     "iopub.execute_input": "2022-07-18T14:47:50.690282Z",
     "iopub.status.busy": "2022-07-18T14:47:50.690148Z",
     "iopub.status.idle": "2022-07-18T14:47:50.693123Z",
     "shell.execute_reply": "2022-07-18T14:47:50.692800Z"
    }
   },
   "outputs": [],
   "source": [
    "pdf_file_path = '/mnt/c/Users/rober/OneDrive/8_DEVELOPMENT/cev-database-reports/data/raw/9/pdf_files/9_195_1_aa1400a4dbe6c3177ff044edce8b5585fb846445.pdf'\n",
    "pdf_file_path = './1_5_1_c9cbda772da622dd1667027eef1b862a7d7209c8.pdf'\n",
    "pdf_file_path = './1_113_2_0da232073435d32084842b8fd244ecdf37be7c25.pdf'\n",
    "pdf_file_path = './Informe_CEV_v2.pdf'\n",
    "pdf_report = fitz.open(pdf_file_path)\n",
    "page_number = 0  # Page number (starting from 0)\n",
    "page = pdf_report[page_number]\n"
   ]
  },
  {
   "cell_type": "markdown",
   "metadata": {},
   "source": [
    "## Pagina 1"
   ]
  },
  {
   "cell_type": "code",
   "execution_count": null,
   "metadata": {},
   "outputs": [],
   "source": [
    "def extract_text_from_area(page, area):\n",
    "    \"\"\"\n",
    "    Extract text from a specific area of a PDF page.\n",
    "\n",
    "    Args:\n",
    "    - page (fitz.Page): Page object from which to extract text.\n",
    "    - area (tuple): Tuple containing (x1, y1, x2, y2) coordinates of the area to extract text from.\n",
    "\n",
    "    Returns:\n",
    "    - extracted_text (str): Text extracted from the specified area.\n",
    "    \"\"\"\n",
    "    extracted_text = \"\"\n",
    "    try:\n",
    "        # Clean the page contents to avoid misplaced item insertions\n",
    "        page.clean_contents()\n",
    "\n",
    "        # Pdf Report Dimensions\n",
    "        report_width = 215.9  # mm\n",
    "        report_height = 330.0  # mm\n",
    "\n",
    "        # Get page dimensions\n",
    "        width = page.rect.width\n",
    "        height = page.rect.height\n",
    "\n",
    "        # Normalize the coordinates\n",
    "        x1, y1, x2, y2 = area\n",
    "        rx1, ry1, rx2, ry2 = x1 / report_width, y1 / report_height, x2 / report_width, y2 / report_height\n",
    "\n",
    "        # Define the rectangle area to extract text from\n",
    "        rect = fitz.Rect(rx1 * width, ry1 * height, rx2 * width, ry2 * height)\n",
    "\n",
    "        # Extract text from the specified area\n",
    "        extracted_text = page.get_textbox(rect)\n",
    "    except Exception as e:\n",
    "        print(f\"Error: {e}\")\n",
    "\n",
    "    return extracted_text"
   ]
  },
  {
   "cell_type": "markdown",
   "metadata": {},
   "source": [
    "### Seccion 1: Datos vivienda y Evaluación"
   ]
  },
  {
   "cell_type": "code",
   "execution_count": null,
   "metadata": {},
   "outputs": [],
   "source": [
    "area_coordinates = (8.3, 10.3, 165.6, 65.1)  # Coordinates of the area to extract text from: (x1, y1, x2, y2)\n",
    "extracted_text = extract_text_from_area(page, area_coordinates)\n",
    "datos_vivienda = extracted_text.splitlines()[-8:]\n",
    "datos_vivienda"
   ]
  },
  {
   "cell_type": "code",
   "execution_count": null,
   "metadata": {},
   "outputs": [],
   "source": [
    "index = ['tipo_evaluacion', 'codigo_evaluacion', 'region', 'comuna', 'direccion', 'rol_vivienda_proyecto', 'tipo_vivienda', 'superficie_interior_util_m2']"
   ]
  },
  {
   "cell_type": "markdown",
   "metadata": {},
   "source": [
    "### Convert list to dictionary"
   ]
  },
  {
   "cell_type": "code",
   "execution_count": null,
   "metadata": {
    "scrolled": true
   },
   "outputs": [],
   "source": [
    "_dict = dict(zip(index, datos_vivienda))\n",
    "_dict"
   ]
  },
  {
   "cell_type": "code",
   "execution_count": null,
   "metadata": {},
   "outputs": [],
   "source": [
    "_dict['tipo_evaluacion'] = _dict['tipo_evaluacion'].title()\n",
    "_dict['superficie_interior_util_m2'] = float(_dict['superficie_interior_util_m2'].replace(',', '.'))\n"
   ]
  },
  {
   "cell_type": "code",
   "execution_count": null,
   "metadata": {},
   "outputs": [],
   "source": [
    "# Convert dictionary to DataFrame\n",
    "df = pd.DataFrame.from_dict(_dict, orient='index').T\n",
    "df.T"
   ]
  },
  {
   "cell_type": "markdown",
   "metadata": {},
   "source": [
    "### Seccion 2: Letra de eﬁciencia energética - Diseño de arquitectura"
   ]
  },
  {
   "cell_type": "code",
   "execution_count": null,
   "metadata": {},
   "outputs": [],
   "source": [
    "area_coordinates = (5.6, 78.6, 165.8, 191.3)  # Coordinates of the area to extract text from: (x1, y1, x2, y2)\n",
    "extracted_text = extract_text_from_area(page, area_coordinates)\n",
    "porcentaje_ahorro_list = extracted_text.splitlines()\n",
    "porcentaje_ahorro_list"
   ]
  },
  {
   "cell_type": "code",
   "execution_count": null,
   "metadata": {
    "scrolled": true
   },
   "outputs": [],
   "source": [
    "porcentaje_ahorro = None\n",
    "for item in porcentaje_ahorro_list:\n",
    "    if item.replace('-', '').isdigit():\n",
    "        porcentaje_ahorro = int(item)\n",
    "        break\n",
    "df['porcentaje_ahorro'] = porcentaje_ahorro\n",
    "df.T"
   ]
  },
  {
   "cell_type": "code",
   "execution_count": null,
   "metadata": {},
   "outputs": [],
   "source": [
    "def _from_procentaje_ahorro_to_letra(porcentaje_ahorro: float) -> str:\n",
    "    \"\"\"\n",
    "    Convert a savings percentage to a corresponding letter grade.\n",
    "\n",
    "    Args:\n",
    "    - porcentaje_ahorro (float): The savings percentage value, should be between -1 and 100.\n",
    "\n",
    "    Returns:\n",
    "    - letra (str): The corresponding letter grade based on the savings percentage.\n",
    "    \"\"\"\n",
    "    if porcentaje_ahorro > 0.85 and porcentaje_ahorro <= 100:\n",
    "        letra = 'A+'\n",
    "    elif porcentaje_ahorro > 0.7 and porcentaje_ahorro <= 0.85:\n",
    "        letra = 'A'\n",
    "    elif porcentaje_ahorro > 0.55 and porcentaje_ahorro <= 0.7:\n",
    "        letra = 'B'\n",
    "    elif porcentaje_ahorro > 0.4 and porcentaje_ahorro <= 0.55:\n",
    "        letra = 'C'\n",
    "    elif porcentaje_ahorro > 0.2 and porcentaje_ahorro <= 0.4:\n",
    "        letra = 'D'\n",
    "    elif porcentaje_ahorro > -0.1 and porcentaje_ahorro <= 0.20:        \n",
    "        letra = 'E'\n",
    "    elif porcentaje_ahorro > -0.35 and porcentaje_ahorro <= -0.1:        \n",
    "        letra = 'F'\n",
    "    elif porcentaje_ahorro <= -0.35:\n",
    "        letra = 'G'\n",
    "    else:\n",
    "        letra = None\n",
    "    return letra\n"
   ]
  },
  {
   "cell_type": "code",
   "execution_count": null,
   "metadata": {},
   "outputs": [],
   "source": [
    "df['letra_eficiencia_energetica_dem'] = _from_procentaje_ahorro_to_letra(porcentaje_ahorro/100)\n",
    "df.T"
   ]
  },
  {
   "cell_type": "markdown",
   "metadata": {},
   "source": [
    "### Section 3: Requerimientos anuales de energía para calefacción y enfriamiento"
   ]
  },
  {
   "cell_type": "markdown",
   "metadata": {},
   "source": [
    "### Subsection 1: Demanda energética para calefacción"
   ]
  },
  {
   "cell_type": "code",
   "execution_count": null,
   "metadata": {},
   "outputs": [],
   "source": [
    "area_coordinates = (15.6, 220.0, 73.0, 230.0)  # Coordinates of the area to extract text from: (x1, y1, x2, y2)\n",
    "extracted_text = extract_text_from_area(page, area_coordinates)\n",
    "demanda_calefaccion_kwh_m2_ano = float(extracted_text.splitlines()[-1].replace(',', '.'))\n",
    "df['demanda_calefaccion_kwh_m2_ano'] = demanda_calefaccion_kwh_m2_ano\n",
    "df.T"
   ]
  },
  {
   "cell_type": "markdown",
   "metadata": {},
   "source": [
    "### Subsection 2: Demanda energética para enfriamiento"
   ]
  },
  {
   "cell_type": "code",
   "execution_count": null,
   "metadata": {},
   "outputs": [],
   "source": [
    "area_coordinates = (90.0, 220.0, 151.5, 230.0)  # Coordinates of the area to extract text from: (x1, y1, x2, y2)\n",
    "extracted_text = extract_text_from_area(page, area_coordinates)\n",
    "demanda_enfriamiento_kwh_m2_ano = float(extracted_text.splitlines()[-1].replace(',', '.'))\n",
    "df['demanda_enfriamiento_kwh_m2_ano'] = demanda_enfriamiento_kwh_m2_ano\n",
    "df.T"
   ]
  },
  {
   "cell_type": "markdown",
   "metadata": {},
   "source": [
    "### Subsection 3: Demanda energética total"
   ]
  },
  {
   "cell_type": "code",
   "execution_count": null,
   "metadata": {},
   "outputs": [],
   "source": [
    "area_coordinates = (167.0, 225.0, 209.0, 245.0)  # Coordinates of the area to extract text from: (x1, y1, x2, y2)\n",
    "extracted_text = extract_text_from_area(page, area_coordinates)\n",
    "demanda_total_kwh_m2_ano = float(extracted_text.splitlines()[-1].replace(',', '.'))\n",
    "df['demanda_total_kwh_m2_ano'] = demanda_total_kwh_m2_ano\n",
    "df.T"
   ]
  },
  {
   "cell_type": "markdown",
   "metadata": {},
   "source": [
    "### Subsection 4: Fecha de Emision"
   ]
  },
  {
   "cell_type": "code",
   "execution_count": null,
   "metadata": {},
   "outputs": [],
   "source": [
    "area_coordinates = (35.5, 247.5, 57.0, 255.0)  # Coordinates of the area to extract text from: (x1, y1, x2, y2)\n",
    "extracted_text = extract_text_from_area(page, area_coordinates)\n",
    "emitida_el = extracted_text.splitlines()[-1]\n",
    "emitida_el"
   ]
  },
  {
   "cell_type": "code",
   "execution_count": null,
   "metadata": {},
   "outputs": [],
   "source": [
    "df['emitida_el'] = emitida_el\n",
    "df.T"
   ]
  },
  {
   "cell_type": "markdown",
   "metadata": {},
   "source": [
    "# END"
   ]
  }
 ],
 "metadata": {
  "kernelspec": {
   "display_name": "Python 3 (ipykernel)",
   "language": "python",
   "name": "python3"
  },
  "language_info": {
   "codemirror_mode": {
    "name": "ipython",
    "version": 3
   },
   "file_extension": ".py",
   "mimetype": "text/x-python",
   "name": "python",
   "nbconvert_exporter": "python",
   "pygments_lexer": "ipython3",
   "version": "3.9.7"
  }
 },
 "nbformat": 4,
 "nbformat_minor": 1
}
