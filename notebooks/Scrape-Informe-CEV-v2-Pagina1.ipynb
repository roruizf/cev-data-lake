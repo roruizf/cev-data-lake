{
 "cells": [
  {
   "cell_type": "markdown",
   "metadata": {},
   "source": [
    "# Informe CEV (v.2) - Page 1"
   ]
  },
  {
   "cell_type": "markdown",
   "metadata": {},
   "source": [
    "### Import `PyMuPDF`"
   ]
  },
  {
   "cell_type": "code",
   "execution_count": 1,
   "metadata": {
    "execution": {
     "iopub.execute_input": "2022-07-18T14:47:50.653979Z",
     "iopub.status.busy": "2022-07-18T14:47:50.653590Z",
     "iopub.status.idle": "2022-07-18T14:47:50.688352Z",
     "shell.execute_reply": "2022-07-18T14:47:50.688022Z"
    }
   },
   "outputs": [
    {
     "name": "stderr",
     "output_type": "stream",
     "text": [
      "/home/roruizf/anaconda3/envs/data_env/lib/python3.9/site-packages/pandas/core/computation/expressions.py:21: UserWarning: Pandas requires version '2.8.0' or newer of 'numexpr' (version '2.7.3' currently installed).\n",
      "  from pandas.core.computation.check import NUMEXPR_INSTALLED\n",
      "/home/roruizf/anaconda3/envs/data_env/lib/python3.9/site-packages/pandas/core/arrays/masked.py:62: UserWarning: Pandas requires version '1.3.4' or newer of 'bottleneck' (version '1.3.2' currently installed).\n",
      "  from pandas.core import (\n"
     ]
    }
   ],
   "source": [
    "import pandas as pd\n",
    "import fitz  # PyMuPDF"
   ]
  },
  {
   "cell_type": "markdown",
   "metadata": {},
   "source": [
    "### Load the PDF"
   ]
  },
  {
   "cell_type": "code",
   "execution_count": 2,
   "metadata": {
    "execution": {
     "iopub.execute_input": "2022-07-18T14:47:50.690282Z",
     "iopub.status.busy": "2022-07-18T14:47:50.690148Z",
     "iopub.status.idle": "2022-07-18T14:47:50.693123Z",
     "shell.execute_reply": "2022-07-18T14:47:50.692800Z"
    }
   },
   "outputs": [],
   "source": [
    "pdf_file_path = '/mnt/c/Users/rober/OneDrive/8_DEVELOPMENT/cev-database-reports/data/raw/9/pdf_files/9_195_1_aa1400a4dbe6c3177ff044edce8b5585fb846445.pdf'\n",
    "pdf_file_path = './1_5_1_c9cbda772da622dd1667027eef1b862a7d7209c8.pdf'\n",
    "pdf_file_path = './1_113_2_0da232073435d32084842b8fd244ecdf37be7c25.pdf'\n",
    "pdf_file_path = './Informe_CEV_v2.pdf'\n",
    "pdf_report = fitz.open(pdf_file_path)\n",
    "page_number = 0  # Page number (starting from 0)\n",
    "page = pdf_report[page_number]\n"
   ]
  },
  {
   "cell_type": "markdown",
   "metadata": {},
   "source": [
    "## Pagina 1"
   ]
  },
  {
   "cell_type": "code",
   "execution_count": 3,
   "metadata": {},
   "outputs": [],
   "source": [
    "def extract_text_from_area(page, area):\n",
    "    \"\"\"\n",
    "    Extract text from a specific area of a PDF page.\n",
    "\n",
    "    Args:\n",
    "    - page (fitz.Page): Page object from which to extract text.\n",
    "    - area (tuple): Tuple containing (x1, y1, x2, y2) coordinates of the area to extract text from.\n",
    "\n",
    "    Returns:\n",
    "    - extracted_text (str): Text extracted from the specified area.\n",
    "    \"\"\"\n",
    "    extracted_text = \"\"\n",
    "    try:\n",
    "        # Clean the page contents to avoid misplaced item insertions\n",
    "        page.clean_contents()\n",
    "\n",
    "        # Pdf Report Dimensions\n",
    "        report_width = 215.9  # mm\n",
    "        report_height = 330.0  # mm\n",
    "\n",
    "        # Get page dimensions\n",
    "        width = page.rect.width\n",
    "        height = page.rect.height\n",
    "\n",
    "        # Normalize the coordinates\n",
    "        x1, y1, x2, y2 = area\n",
    "        rx1, ry1, rx2, ry2 = x1 / report_width, y1 / report_height, x2 / report_width, y2 / report_height\n",
    "\n",
    "        # Define the rectangle area to extract text from\n",
    "        rect = fitz.Rect(rx1 * width, ry1 * height, rx2 * width, ry2 * height)\n",
    "\n",
    "        # Extract text from the specified area\n",
    "        extracted_text = page.get_textbox(rect)\n",
    "    except Exception as e:\n",
    "        print(f\"Error: {e}\")\n",
    "\n",
    "    return extracted_text"
   ]
  },
  {
   "cell_type": "markdown",
   "metadata": {},
   "source": [
    "### Seccion 1: Datos vivienda y Evaluación"
   ]
  },
  {
   "cell_type": "code",
   "execution_count": 4,
   "metadata": {},
   "outputs": [
    {
     "data": {
      "text/plain": [
       "['CALIFICACIÓN ENERGÉTICA',\n",
       " '4173d32018',\n",
       " 'XI Región Aysén del Gral. Carlos Ibáñez del Campo',\n",
       " 'Aysén',\n",
       " 'LONGITUDINAL 01 N°1 - AYSEN',\n",
       " '2019-00001',\n",
       " 'Tipo A',\n",
       " '43,6']"
      ]
     },
     "execution_count": 4,
     "metadata": {},
     "output_type": "execute_result"
    }
   ],
   "source": [
    "area_coordinates = (8.3, 10.3, 165.6, 65.1)  # Coordinates of the area to extract text from: (x1, y1, x2, y2)\n",
    "extracted_text = extract_text_from_area(page, area_coordinates)\n",
    "datos_vivienda = extracted_text.splitlines()[-8:]\n",
    "datos_vivienda"
   ]
  },
  {
   "cell_type": "code",
   "execution_count": 5,
   "metadata": {},
   "outputs": [],
   "source": [
    "index = ['tipo_evaluacion', 'codigo_evaluacion', 'region', 'comuna', 'direccion', 'rol_vivienda_proyecto', 'tipo_vivienda', 'superficie_interior_util_m2']"
   ]
  },
  {
   "cell_type": "markdown",
   "metadata": {},
   "source": [
    "### Convert list to dictionary"
   ]
  },
  {
   "cell_type": "code",
   "execution_count": 6,
   "metadata": {
    "scrolled": true
   },
   "outputs": [
    {
     "data": {
      "text/plain": [
       "{'tipo_evaluacion': 'CALIFICACIÓN ENERGÉTICA',\n",
       " 'codigo_evaluacion': '4173d32018',\n",
       " 'region': 'XI Región Aysén del Gral. Carlos Ibáñez del Campo',\n",
       " 'comuna': 'Aysén',\n",
       " 'direccion': 'LONGITUDINAL 01 N°1 - AYSEN',\n",
       " 'rol_vivienda_proyecto': '2019-00001',\n",
       " 'tipo_vivienda': 'Tipo A',\n",
       " 'superficie_interior_util_m2': '43,6'}"
      ]
     },
     "execution_count": 6,
     "metadata": {},
     "output_type": "execute_result"
    }
   ],
   "source": [
    "_dict = dict(zip(index, datos_vivienda))\n",
    "_dict"
   ]
  },
  {
   "cell_type": "code",
   "execution_count": 7,
   "metadata": {},
   "outputs": [],
   "source": [
    "_dict['tipo_evaluacion'] = _dict['tipo_evaluacion'].title()\n",
    "_dict['superficie_interior_util_m2'] = float(_dict['superficie_interior_util_m2'].replace(',', '.'))\n"
   ]
  },
  {
   "cell_type": "code",
   "execution_count": 8,
   "metadata": {},
   "outputs": [
    {
     "data": {
      "text/html": [
       "<div>\n",
       "<style scoped>\n",
       "    .dataframe tbody tr th:only-of-type {\n",
       "        vertical-align: middle;\n",
       "    }\n",
       "\n",
       "    .dataframe tbody tr th {\n",
       "        vertical-align: top;\n",
       "    }\n",
       "\n",
       "    .dataframe thead th {\n",
       "        text-align: right;\n",
       "    }\n",
       "</style>\n",
       "<table border=\"1\" class=\"dataframe\">\n",
       "  <thead>\n",
       "    <tr style=\"text-align: right;\">\n",
       "      <th></th>\n",
       "      <th>0</th>\n",
       "    </tr>\n",
       "  </thead>\n",
       "  <tbody>\n",
       "    <tr>\n",
       "      <th>tipo_evaluacion</th>\n",
       "      <td>Calificación Energética</td>\n",
       "    </tr>\n",
       "    <tr>\n",
       "      <th>codigo_evaluacion</th>\n",
       "      <td>4173d32018</td>\n",
       "    </tr>\n",
       "    <tr>\n",
       "      <th>region</th>\n",
       "      <td>XI Región Aysén del Gral. Carlos Ibáñez del Campo</td>\n",
       "    </tr>\n",
       "    <tr>\n",
       "      <th>comuna</th>\n",
       "      <td>Aysén</td>\n",
       "    </tr>\n",
       "    <tr>\n",
       "      <th>direccion</th>\n",
       "      <td>LONGITUDINAL 01 N°1 - AYSEN</td>\n",
       "    </tr>\n",
       "    <tr>\n",
       "      <th>rol_vivienda_proyecto</th>\n",
       "      <td>2019-00001</td>\n",
       "    </tr>\n",
       "    <tr>\n",
       "      <th>tipo_vivienda</th>\n",
       "      <td>Tipo A</td>\n",
       "    </tr>\n",
       "    <tr>\n",
       "      <th>superficie_interior_util_m2</th>\n",
       "      <td>43.6</td>\n",
       "    </tr>\n",
       "  </tbody>\n",
       "</table>\n",
       "</div>"
      ],
      "text/plain": [
       "                                                                             0\n",
       "tipo_evaluacion                                        Calificación Energética\n",
       "codigo_evaluacion                                                   4173d32018\n",
       "region                       XI Región Aysén del Gral. Carlos Ibáñez del Campo\n",
       "comuna                                                                   Aysén\n",
       "direccion                                          LONGITUDINAL 01 N°1 - AYSEN\n",
       "rol_vivienda_proyecto                                               2019-00001\n",
       "tipo_vivienda                                                           Tipo A\n",
       "superficie_interior_util_m2                                               43.6"
      ]
     },
     "execution_count": 8,
     "metadata": {},
     "output_type": "execute_result"
    }
   ],
   "source": [
    "# Convert dictionary to DataFrame\n",
    "df = pd.DataFrame.from_dict(_dict, orient='index').T\n",
    "df.T"
   ]
  },
  {
   "cell_type": "markdown",
   "metadata": {},
   "source": [
    "### Seccion 2: Letra de eﬁciencia energética - Diseño de arquitectura"
   ]
  },
  {
   "cell_type": "code",
   "execution_count": 9,
   "metadata": {},
   "outputs": [
    {
     "data": {
      "text/plain": [
       "['Más eficiente',\n",
       " 'Menos eficiente',\n",
       " 'A+',\n",
       " 'A',\n",
       " 'B',\n",
       " 'C',\n",
       " 'D',\n",
       " 'E',\n",
       " 'F',\n",
       " 'G',\n",
       " '50%',\n",
       " 'ahorro',\n",
       " '*',\n",
       " '-21']"
      ]
     },
     "execution_count": 9,
     "metadata": {},
     "output_type": "execute_result"
    }
   ],
   "source": [
    "area_coordinates = (5.6, 78.6, 165.8, 191.3)  # Coordinates of the area to extract text from: (x1, y1, x2, y2)\n",
    "extracted_text = extract_text_from_area(page, area_coordinates)\n",
    "porcentaje_ahorro_list = extracted_text.splitlines()\n",
    "porcentaje_ahorro_list"
   ]
  },
  {
   "cell_type": "code",
   "execution_count": 10,
   "metadata": {
    "scrolled": true
   },
   "outputs": [
    {
     "data": {
      "text/html": [
       "<div>\n",
       "<style scoped>\n",
       "    .dataframe tbody tr th:only-of-type {\n",
       "        vertical-align: middle;\n",
       "    }\n",
       "\n",
       "    .dataframe tbody tr th {\n",
       "        vertical-align: top;\n",
       "    }\n",
       "\n",
       "    .dataframe thead th {\n",
       "        text-align: right;\n",
       "    }\n",
       "</style>\n",
       "<table border=\"1\" class=\"dataframe\">\n",
       "  <thead>\n",
       "    <tr style=\"text-align: right;\">\n",
       "      <th></th>\n",
       "      <th>0</th>\n",
       "    </tr>\n",
       "  </thead>\n",
       "  <tbody>\n",
       "    <tr>\n",
       "      <th>tipo_evaluacion</th>\n",
       "      <td>Calificación Energética</td>\n",
       "    </tr>\n",
       "    <tr>\n",
       "      <th>codigo_evaluacion</th>\n",
       "      <td>4173d32018</td>\n",
       "    </tr>\n",
       "    <tr>\n",
       "      <th>region</th>\n",
       "      <td>XI Región Aysén del Gral. Carlos Ibáñez del Campo</td>\n",
       "    </tr>\n",
       "    <tr>\n",
       "      <th>comuna</th>\n",
       "      <td>Aysén</td>\n",
       "    </tr>\n",
       "    <tr>\n",
       "      <th>direccion</th>\n",
       "      <td>LONGITUDINAL 01 N°1 - AYSEN</td>\n",
       "    </tr>\n",
       "    <tr>\n",
       "      <th>rol_vivienda_proyecto</th>\n",
       "      <td>2019-00001</td>\n",
       "    </tr>\n",
       "    <tr>\n",
       "      <th>tipo_vivienda</th>\n",
       "      <td>Tipo A</td>\n",
       "    </tr>\n",
       "    <tr>\n",
       "      <th>superficie_interior_util_m2</th>\n",
       "      <td>43.6</td>\n",
       "    </tr>\n",
       "    <tr>\n",
       "      <th>porcentaje_ahorro</th>\n",
       "      <td>-21</td>\n",
       "    </tr>\n",
       "  </tbody>\n",
       "</table>\n",
       "</div>"
      ],
      "text/plain": [
       "                                                                             0\n",
       "tipo_evaluacion                                        Calificación Energética\n",
       "codigo_evaluacion                                                   4173d32018\n",
       "region                       XI Región Aysén del Gral. Carlos Ibáñez del Campo\n",
       "comuna                                                                   Aysén\n",
       "direccion                                          LONGITUDINAL 01 N°1 - AYSEN\n",
       "rol_vivienda_proyecto                                               2019-00001\n",
       "tipo_vivienda                                                           Tipo A\n",
       "superficie_interior_util_m2                                               43.6\n",
       "porcentaje_ahorro                                                          -21"
      ]
     },
     "execution_count": 10,
     "metadata": {},
     "output_type": "execute_result"
    }
   ],
   "source": [
    "porcentaje_ahorro = None\n",
    "for item in porcentaje_ahorro_list:\n",
    "    if item.replace('-', '').isdigit():\n",
    "        porcentaje_ahorro = int(item)\n",
    "        break\n",
    "df['porcentaje_ahorro'] = porcentaje_ahorro\n",
    "df.T"
   ]
  },
  {
   "cell_type": "code",
   "execution_count": 11,
   "metadata": {},
   "outputs": [],
   "source": [
    "def _from_procentaje_ahorro_to_letra(porcentaje_ahorro: float) -> str:\n",
    "    \"\"\"\n",
    "    Convert a savings percentage to a corresponding letter grade.\n",
    "\n",
    "    Args:\n",
    "    - porcentaje_ahorro (float): The savings percentage value, should be between -1 and 100.\n",
    "\n",
    "    Returns:\n",
    "    - letra (str): The corresponding letter grade based on the savings percentage.\n",
    "    \"\"\"\n",
    "    if porcentaje_ahorro > 0.85 and porcentaje_ahorro <= 100:\n",
    "        letra = 'A+'\n",
    "    elif porcentaje_ahorro > 0.7 and porcentaje_ahorro <= 0.85:\n",
    "        letra = 'A'\n",
    "    elif porcentaje_ahorro > 0.55 and porcentaje_ahorro <= 0.7:\n",
    "        letra = 'B'\n",
    "    elif porcentaje_ahorro > 0.4 and porcentaje_ahorro <= 0.55:\n",
    "        letra = 'C'\n",
    "    elif porcentaje_ahorro > 0.2 and porcentaje_ahorro <= 0.4:\n",
    "        letra = 'D'\n",
    "    elif porcentaje_ahorro > -0.1 and porcentaje_ahorro <= 0.20:        \n",
    "        letra = 'E'\n",
    "    elif porcentaje_ahorro > -0.35 and porcentaje_ahorro <= -0.1:        \n",
    "        letra = 'F'\n",
    "    elif porcentaje_ahorro <= -0.35:\n",
    "        letra = 'G'\n",
    "    else:\n",
    "        letra = None\n",
    "    return letra\n"
   ]
  },
  {
   "cell_type": "code",
   "execution_count": 12,
   "metadata": {},
   "outputs": [
    {
     "data": {
      "text/html": [
       "<div>\n",
       "<style scoped>\n",
       "    .dataframe tbody tr th:only-of-type {\n",
       "        vertical-align: middle;\n",
       "    }\n",
       "\n",
       "    .dataframe tbody tr th {\n",
       "        vertical-align: top;\n",
       "    }\n",
       "\n",
       "    .dataframe thead th {\n",
       "        text-align: right;\n",
       "    }\n",
       "</style>\n",
       "<table border=\"1\" class=\"dataframe\">\n",
       "  <thead>\n",
       "    <tr style=\"text-align: right;\">\n",
       "      <th></th>\n",
       "      <th>0</th>\n",
       "    </tr>\n",
       "  </thead>\n",
       "  <tbody>\n",
       "    <tr>\n",
       "      <th>tipo_evaluacion</th>\n",
       "      <td>Calificación Energética</td>\n",
       "    </tr>\n",
       "    <tr>\n",
       "      <th>codigo_evaluacion</th>\n",
       "      <td>4173d32018</td>\n",
       "    </tr>\n",
       "    <tr>\n",
       "      <th>region</th>\n",
       "      <td>XI Región Aysén del Gral. Carlos Ibáñez del Campo</td>\n",
       "    </tr>\n",
       "    <tr>\n",
       "      <th>comuna</th>\n",
       "      <td>Aysén</td>\n",
       "    </tr>\n",
       "    <tr>\n",
       "      <th>direccion</th>\n",
       "      <td>LONGITUDINAL 01 N°1 - AYSEN</td>\n",
       "    </tr>\n",
       "    <tr>\n",
       "      <th>rol_vivienda_proyecto</th>\n",
       "      <td>2019-00001</td>\n",
       "    </tr>\n",
       "    <tr>\n",
       "      <th>tipo_vivienda</th>\n",
       "      <td>Tipo A</td>\n",
       "    </tr>\n",
       "    <tr>\n",
       "      <th>superficie_interior_util_m2</th>\n",
       "      <td>43.6</td>\n",
       "    </tr>\n",
       "    <tr>\n",
       "      <th>porcentaje_ahorro</th>\n",
       "      <td>-21</td>\n",
       "    </tr>\n",
       "    <tr>\n",
       "      <th>letra_eficiencia_energetica_dem</th>\n",
       "      <td>F</td>\n",
       "    </tr>\n",
       "  </tbody>\n",
       "</table>\n",
       "</div>"
      ],
      "text/plain": [
       "                                                                                 0\n",
       "tipo_evaluacion                                            Calificación Energética\n",
       "codigo_evaluacion                                                       4173d32018\n",
       "region                           XI Región Aysén del Gral. Carlos Ibáñez del Campo\n",
       "comuna                                                                       Aysén\n",
       "direccion                                              LONGITUDINAL 01 N°1 - AYSEN\n",
       "rol_vivienda_proyecto                                                   2019-00001\n",
       "tipo_vivienda                                                               Tipo A\n",
       "superficie_interior_util_m2                                                   43.6\n",
       "porcentaje_ahorro                                                              -21\n",
       "letra_eficiencia_energetica_dem                                                  F"
      ]
     },
     "execution_count": 12,
     "metadata": {},
     "output_type": "execute_result"
    }
   ],
   "source": [
    "df['letra_eficiencia_energetica_dem'] = _from_procentaje_ahorro_to_letra(porcentaje_ahorro/100)\n",
    "df.T"
   ]
  },
  {
   "cell_type": "markdown",
   "metadata": {},
   "source": [
    "### Section 3: Requerimientos anuales de energía para calefacción y enfriamiento"
   ]
  },
  {
   "cell_type": "markdown",
   "metadata": {},
   "source": [
    "### Subsection 1: Demanda energética para calefacción"
   ]
  },
  {
   "cell_type": "code",
   "execution_count": 13,
   "metadata": {},
   "outputs": [
    {
     "data": {
      "text/html": [
       "<div>\n",
       "<style scoped>\n",
       "    .dataframe tbody tr th:only-of-type {\n",
       "        vertical-align: middle;\n",
       "    }\n",
       "\n",
       "    .dataframe tbody tr th {\n",
       "        vertical-align: top;\n",
       "    }\n",
       "\n",
       "    .dataframe thead th {\n",
       "        text-align: right;\n",
       "    }\n",
       "</style>\n",
       "<table border=\"1\" class=\"dataframe\">\n",
       "  <thead>\n",
       "    <tr style=\"text-align: right;\">\n",
       "      <th></th>\n",
       "      <th>0</th>\n",
       "    </tr>\n",
       "  </thead>\n",
       "  <tbody>\n",
       "    <tr>\n",
       "      <th>tipo_evaluacion</th>\n",
       "      <td>Calificación Energética</td>\n",
       "    </tr>\n",
       "    <tr>\n",
       "      <th>codigo_evaluacion</th>\n",
       "      <td>4173d32018</td>\n",
       "    </tr>\n",
       "    <tr>\n",
       "      <th>region</th>\n",
       "      <td>XI Región Aysén del Gral. Carlos Ibáñez del Campo</td>\n",
       "    </tr>\n",
       "    <tr>\n",
       "      <th>comuna</th>\n",
       "      <td>Aysén</td>\n",
       "    </tr>\n",
       "    <tr>\n",
       "      <th>direccion</th>\n",
       "      <td>LONGITUDINAL 01 N°1 - AYSEN</td>\n",
       "    </tr>\n",
       "    <tr>\n",
       "      <th>rol_vivienda_proyecto</th>\n",
       "      <td>2019-00001</td>\n",
       "    </tr>\n",
       "    <tr>\n",
       "      <th>tipo_vivienda</th>\n",
       "      <td>Tipo A</td>\n",
       "    </tr>\n",
       "    <tr>\n",
       "      <th>superficie_interior_util_m2</th>\n",
       "      <td>43.6</td>\n",
       "    </tr>\n",
       "    <tr>\n",
       "      <th>porcentaje_ahorro</th>\n",
       "      <td>-21</td>\n",
       "    </tr>\n",
       "    <tr>\n",
       "      <th>letra_eficiencia_energetica_dem</th>\n",
       "      <td>F</td>\n",
       "    </tr>\n",
       "    <tr>\n",
       "      <th>demanda_calefaccion_kwh_m2_ano</th>\n",
       "      <td>190.3</td>\n",
       "    </tr>\n",
       "  </tbody>\n",
       "</table>\n",
       "</div>"
      ],
      "text/plain": [
       "                                                                                 0\n",
       "tipo_evaluacion                                            Calificación Energética\n",
       "codigo_evaluacion                                                       4173d32018\n",
       "region                           XI Región Aysén del Gral. Carlos Ibáñez del Campo\n",
       "comuna                                                                       Aysén\n",
       "direccion                                              LONGITUDINAL 01 N°1 - AYSEN\n",
       "rol_vivienda_proyecto                                                   2019-00001\n",
       "tipo_vivienda                                                               Tipo A\n",
       "superficie_interior_util_m2                                                   43.6\n",
       "porcentaje_ahorro                                                              -21\n",
       "letra_eficiencia_energetica_dem                                                  F\n",
       "demanda_calefaccion_kwh_m2_ano                                               190.3"
      ]
     },
     "execution_count": 13,
     "metadata": {},
     "output_type": "execute_result"
    }
   ],
   "source": [
    "area_coordinates = (15.6, 220.0, 73.0, 230.0)  # Coordinates of the area to extract text from: (x1, y1, x2, y2)\n",
    "extracted_text = extract_text_from_area(page, area_coordinates)\n",
    "demanda_calefaccion_kwh_m2_ano = float(extracted_text.splitlines()[-1].replace(',', '.'))\n",
    "df['demanda_calefaccion_kwh_m2_ano'] = demanda_calefaccion_kwh_m2_ano\n",
    "df.T"
   ]
  },
  {
   "cell_type": "markdown",
   "metadata": {},
   "source": [
    "### Subsection 2: Demanda energética para enfriamiento"
   ]
  },
  {
   "cell_type": "code",
   "execution_count": 14,
   "metadata": {},
   "outputs": [
    {
     "data": {
      "text/html": [
       "<div>\n",
       "<style scoped>\n",
       "    .dataframe tbody tr th:only-of-type {\n",
       "        vertical-align: middle;\n",
       "    }\n",
       "\n",
       "    .dataframe tbody tr th {\n",
       "        vertical-align: top;\n",
       "    }\n",
       "\n",
       "    .dataframe thead th {\n",
       "        text-align: right;\n",
       "    }\n",
       "</style>\n",
       "<table border=\"1\" class=\"dataframe\">\n",
       "  <thead>\n",
       "    <tr style=\"text-align: right;\">\n",
       "      <th></th>\n",
       "      <th>0</th>\n",
       "    </tr>\n",
       "  </thead>\n",
       "  <tbody>\n",
       "    <tr>\n",
       "      <th>tipo_evaluacion</th>\n",
       "      <td>Calificación Energética</td>\n",
       "    </tr>\n",
       "    <tr>\n",
       "      <th>codigo_evaluacion</th>\n",
       "      <td>4173d32018</td>\n",
       "    </tr>\n",
       "    <tr>\n",
       "      <th>region</th>\n",
       "      <td>XI Región Aysén del Gral. Carlos Ibáñez del Campo</td>\n",
       "    </tr>\n",
       "    <tr>\n",
       "      <th>comuna</th>\n",
       "      <td>Aysén</td>\n",
       "    </tr>\n",
       "    <tr>\n",
       "      <th>direccion</th>\n",
       "      <td>LONGITUDINAL 01 N°1 - AYSEN</td>\n",
       "    </tr>\n",
       "    <tr>\n",
       "      <th>rol_vivienda_proyecto</th>\n",
       "      <td>2019-00001</td>\n",
       "    </tr>\n",
       "    <tr>\n",
       "      <th>tipo_vivienda</th>\n",
       "      <td>Tipo A</td>\n",
       "    </tr>\n",
       "    <tr>\n",
       "      <th>superficie_interior_util_m2</th>\n",
       "      <td>43.6</td>\n",
       "    </tr>\n",
       "    <tr>\n",
       "      <th>porcentaje_ahorro</th>\n",
       "      <td>-21</td>\n",
       "    </tr>\n",
       "    <tr>\n",
       "      <th>letra_eficiencia_energetica_dem</th>\n",
       "      <td>F</td>\n",
       "    </tr>\n",
       "    <tr>\n",
       "      <th>demanda_calefaccion_kwh_m2_ano</th>\n",
       "      <td>190.3</td>\n",
       "    </tr>\n",
       "    <tr>\n",
       "      <th>demanda_enfriamiento_kwh_m2_ano</th>\n",
       "      <td>0.0</td>\n",
       "    </tr>\n",
       "  </tbody>\n",
       "</table>\n",
       "</div>"
      ],
      "text/plain": [
       "                                                                                 0\n",
       "tipo_evaluacion                                            Calificación Energética\n",
       "codigo_evaluacion                                                       4173d32018\n",
       "region                           XI Región Aysén del Gral. Carlos Ibáñez del Campo\n",
       "comuna                                                                       Aysén\n",
       "direccion                                              LONGITUDINAL 01 N°1 - AYSEN\n",
       "rol_vivienda_proyecto                                                   2019-00001\n",
       "tipo_vivienda                                                               Tipo A\n",
       "superficie_interior_util_m2                                                   43.6\n",
       "porcentaje_ahorro                                                              -21\n",
       "letra_eficiencia_energetica_dem                                                  F\n",
       "demanda_calefaccion_kwh_m2_ano                                               190.3\n",
       "demanda_enfriamiento_kwh_m2_ano                                                0.0"
      ]
     },
     "execution_count": 14,
     "metadata": {},
     "output_type": "execute_result"
    }
   ],
   "source": [
    "area_coordinates = (90.0, 220.0, 151.5, 230.0)  # Coordinates of the area to extract text from: (x1, y1, x2, y2)\n",
    "extracted_text = extract_text_from_area(page, area_coordinates)\n",
    "demanda_enfriamiento_kwh_m2_ano = float(extracted_text.splitlines()[-1].replace(',', '.'))\n",
    "df['demanda_enfriamiento_kwh_m2_ano'] = demanda_enfriamiento_kwh_m2_ano\n",
    "df.T"
   ]
  },
  {
   "cell_type": "markdown",
   "metadata": {},
   "source": [
    "### Subsection 3: Demanda energética total"
   ]
  },
  {
   "cell_type": "code",
   "execution_count": 15,
   "metadata": {},
   "outputs": [
    {
     "data": {
      "text/html": [
       "<div>\n",
       "<style scoped>\n",
       "    .dataframe tbody tr th:only-of-type {\n",
       "        vertical-align: middle;\n",
       "    }\n",
       "\n",
       "    .dataframe tbody tr th {\n",
       "        vertical-align: top;\n",
       "    }\n",
       "\n",
       "    .dataframe thead th {\n",
       "        text-align: right;\n",
       "    }\n",
       "</style>\n",
       "<table border=\"1\" class=\"dataframe\">\n",
       "  <thead>\n",
       "    <tr style=\"text-align: right;\">\n",
       "      <th></th>\n",
       "      <th>0</th>\n",
       "    </tr>\n",
       "  </thead>\n",
       "  <tbody>\n",
       "    <tr>\n",
       "      <th>tipo_evaluacion</th>\n",
       "      <td>Calificación Energética</td>\n",
       "    </tr>\n",
       "    <tr>\n",
       "      <th>codigo_evaluacion</th>\n",
       "      <td>4173d32018</td>\n",
       "    </tr>\n",
       "    <tr>\n",
       "      <th>region</th>\n",
       "      <td>XI Región Aysén del Gral. Carlos Ibáñez del Campo</td>\n",
       "    </tr>\n",
       "    <tr>\n",
       "      <th>comuna</th>\n",
       "      <td>Aysén</td>\n",
       "    </tr>\n",
       "    <tr>\n",
       "      <th>direccion</th>\n",
       "      <td>LONGITUDINAL 01 N°1 - AYSEN</td>\n",
       "    </tr>\n",
       "    <tr>\n",
       "      <th>rol_vivienda_proyecto</th>\n",
       "      <td>2019-00001</td>\n",
       "    </tr>\n",
       "    <tr>\n",
       "      <th>tipo_vivienda</th>\n",
       "      <td>Tipo A</td>\n",
       "    </tr>\n",
       "    <tr>\n",
       "      <th>superficie_interior_util_m2</th>\n",
       "      <td>43.6</td>\n",
       "    </tr>\n",
       "    <tr>\n",
       "      <th>porcentaje_ahorro</th>\n",
       "      <td>-21</td>\n",
       "    </tr>\n",
       "    <tr>\n",
       "      <th>letra_eficiencia_energetica_dem</th>\n",
       "      <td>F</td>\n",
       "    </tr>\n",
       "    <tr>\n",
       "      <th>demanda_calefaccion_kwh_m2_ano</th>\n",
       "      <td>190.3</td>\n",
       "    </tr>\n",
       "    <tr>\n",
       "      <th>demanda_enfriamiento_kwh_m2_ano</th>\n",
       "      <td>0.0</td>\n",
       "    </tr>\n",
       "    <tr>\n",
       "      <th>demanda_total_kwh_m2_ano</th>\n",
       "      <td>190.3</td>\n",
       "    </tr>\n",
       "  </tbody>\n",
       "</table>\n",
       "</div>"
      ],
      "text/plain": [
       "                                                                                 0\n",
       "tipo_evaluacion                                            Calificación Energética\n",
       "codigo_evaluacion                                                       4173d32018\n",
       "region                           XI Región Aysén del Gral. Carlos Ibáñez del Campo\n",
       "comuna                                                                       Aysén\n",
       "direccion                                              LONGITUDINAL 01 N°1 - AYSEN\n",
       "rol_vivienda_proyecto                                                   2019-00001\n",
       "tipo_vivienda                                                               Tipo A\n",
       "superficie_interior_util_m2                                                   43.6\n",
       "porcentaje_ahorro                                                              -21\n",
       "letra_eficiencia_energetica_dem                                                  F\n",
       "demanda_calefaccion_kwh_m2_ano                                               190.3\n",
       "demanda_enfriamiento_kwh_m2_ano                                                0.0\n",
       "demanda_total_kwh_m2_ano                                                     190.3"
      ]
     },
     "execution_count": 15,
     "metadata": {},
     "output_type": "execute_result"
    }
   ],
   "source": [
    "area_coordinates = (167.0, 225.0, 209.0, 245.0)  # Coordinates of the area to extract text from: (x1, y1, x2, y2)\n",
    "extracted_text = extract_text_from_area(page, area_coordinates)\n",
    "demanda_total_kwh_m2_ano = float(extracted_text.splitlines()[-1].replace(',', '.'))\n",
    "df['demanda_total_kwh_m2_ano'] = demanda_total_kwh_m2_ano\n",
    "df.T"
   ]
  },
  {
   "cell_type": "markdown",
   "metadata": {},
   "source": [
    "### Subsection 4: Fecha de Emision"
   ]
  },
  {
   "cell_type": "code",
   "execution_count": 16,
   "metadata": {},
   "outputs": [
    {
     "data": {
      "text/plain": [
       "'23-07-2018'"
      ]
     },
     "execution_count": 16,
     "metadata": {},
     "output_type": "execute_result"
    }
   ],
   "source": [
    "area_coordinates = (35.5, 247.5, 57.0, 255.0)  # Coordinates of the area to extract text from: (x1, y1, x2, y2)\n",
    "extracted_text = extract_text_from_area(page, area_coordinates)\n",
    "emitida_el = extracted_text.splitlines()[-1]\n",
    "emitida_el"
   ]
  },
  {
   "cell_type": "code",
   "execution_count": 17,
   "metadata": {},
   "outputs": [
    {
     "data": {
      "text/html": [
       "<div>\n",
       "<style scoped>\n",
       "    .dataframe tbody tr th:only-of-type {\n",
       "        vertical-align: middle;\n",
       "    }\n",
       "\n",
       "    .dataframe tbody tr th {\n",
       "        vertical-align: top;\n",
       "    }\n",
       "\n",
       "    .dataframe thead th {\n",
       "        text-align: right;\n",
       "    }\n",
       "</style>\n",
       "<table border=\"1\" class=\"dataframe\">\n",
       "  <thead>\n",
       "    <tr style=\"text-align: right;\">\n",
       "      <th></th>\n",
       "      <th>0</th>\n",
       "    </tr>\n",
       "  </thead>\n",
       "  <tbody>\n",
       "    <tr>\n",
       "      <th>tipo_evaluacion</th>\n",
       "      <td>Calificación Energética</td>\n",
       "    </tr>\n",
       "    <tr>\n",
       "      <th>codigo_evaluacion</th>\n",
       "      <td>4173d32018</td>\n",
       "    </tr>\n",
       "    <tr>\n",
       "      <th>region</th>\n",
       "      <td>XI Región Aysén del Gral. Carlos Ibáñez del Campo</td>\n",
       "    </tr>\n",
       "    <tr>\n",
       "      <th>comuna</th>\n",
       "      <td>Aysén</td>\n",
       "    </tr>\n",
       "    <tr>\n",
       "      <th>direccion</th>\n",
       "      <td>LONGITUDINAL 01 N°1 - AYSEN</td>\n",
       "    </tr>\n",
       "    <tr>\n",
       "      <th>rol_vivienda_proyecto</th>\n",
       "      <td>2019-00001</td>\n",
       "    </tr>\n",
       "    <tr>\n",
       "      <th>tipo_vivienda</th>\n",
       "      <td>Tipo A</td>\n",
       "    </tr>\n",
       "    <tr>\n",
       "      <th>superficie_interior_util_m2</th>\n",
       "      <td>43.6</td>\n",
       "    </tr>\n",
       "    <tr>\n",
       "      <th>porcentaje_ahorro</th>\n",
       "      <td>-21</td>\n",
       "    </tr>\n",
       "    <tr>\n",
       "      <th>letra_eficiencia_energetica_dem</th>\n",
       "      <td>F</td>\n",
       "    </tr>\n",
       "    <tr>\n",
       "      <th>demanda_calefaccion_kwh_m2_ano</th>\n",
       "      <td>190.3</td>\n",
       "    </tr>\n",
       "    <tr>\n",
       "      <th>demanda_enfriamiento_kwh_m2_ano</th>\n",
       "      <td>0.0</td>\n",
       "    </tr>\n",
       "    <tr>\n",
       "      <th>demanda_total_kwh_m2_ano</th>\n",
       "      <td>190.3</td>\n",
       "    </tr>\n",
       "    <tr>\n",
       "      <th>emitida_el</th>\n",
       "      <td>23-07-2018</td>\n",
       "    </tr>\n",
       "  </tbody>\n",
       "</table>\n",
       "</div>"
      ],
      "text/plain": [
       "                                                                                 0\n",
       "tipo_evaluacion                                            Calificación Energética\n",
       "codigo_evaluacion                                                       4173d32018\n",
       "region                           XI Región Aysén del Gral. Carlos Ibáñez del Campo\n",
       "comuna                                                                       Aysén\n",
       "direccion                                              LONGITUDINAL 01 N°1 - AYSEN\n",
       "rol_vivienda_proyecto                                                   2019-00001\n",
       "tipo_vivienda                                                               Tipo A\n",
       "superficie_interior_util_m2                                                   43.6\n",
       "porcentaje_ahorro                                                              -21\n",
       "letra_eficiencia_energetica_dem                                                  F\n",
       "demanda_calefaccion_kwh_m2_ano                                               190.3\n",
       "demanda_enfriamiento_kwh_m2_ano                                                0.0\n",
       "demanda_total_kwh_m2_ano                                                     190.3\n",
       "emitida_el                                                              23-07-2018"
      ]
     },
     "execution_count": 17,
     "metadata": {},
     "output_type": "execute_result"
    }
   ],
   "source": [
    "df['emitida_el'] = emitida_el\n",
    "df.T"
   ]
  },
  {
   "cell_type": "markdown",
   "metadata": {},
   "source": [
    "# END"
   ]
  }
 ],
 "metadata": {
  "kernelspec": {
   "display_name": "Python 3 (ipykernel)",
   "language": "python",
   "name": "python3"
  },
  "language_info": {
   "codemirror_mode": {
    "name": "ipython",
    "version": 3
   },
   "file_extension": ".py",
   "mimetype": "text/x-python",
   "name": "python",
   "nbconvert_exporter": "python",
   "pygments_lexer": "ipython3",
   "version": "3.9.7"
  }
 },
 "nbformat": 4,
 "nbformat_minor": 1
}
