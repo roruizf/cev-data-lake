{
 "cells": [
  {
   "cell_type": "markdown",
   "metadata": {},
   "source": [
    "# Informe CEV (v.2) - Page 3"
   ]
  },
  {
   "cell_type": "markdown",
   "metadata": {},
   "source": [
    "### Import `PyMuPDF`"
   ]
  },
  {
   "cell_type": "code",
   "execution_count": null,
   "metadata": {
    "execution": {
     "iopub.execute_input": "2022-07-18T14:47:50.653979Z",
     "iopub.status.busy": "2022-07-18T14:47:50.653590Z",
     "iopub.status.idle": "2022-07-18T14:47:50.688352Z",
     "shell.execute_reply": "2022-07-18T14:47:50.688022Z"
    },
    "scrolled": true
   },
   "outputs": [],
   "source": [
    "import pandas as pd\n",
    "import re\n",
    "import pytesseract\n",
    "import fitz  # PyMuPDF"
   ]
  },
  {
   "cell_type": "markdown",
   "metadata": {},
   "source": [
    "### Load the PDF"
   ]
  },
  {
   "cell_type": "code",
   "execution_count": null,
   "metadata": {
    "execution": {
     "iopub.execute_input": "2022-07-18T14:47:50.690282Z",
     "iopub.status.busy": "2022-07-18T14:47:50.690148Z",
     "iopub.status.idle": "2022-07-18T14:47:50.693123Z",
     "shell.execute_reply": "2022-07-18T14:47:50.692800Z"
    }
   },
   "outputs": [],
   "source": [
    "pdf_file_path = '/mnt/c/Users/rober/OneDrive/8_DEVELOPMENT/cev-database-reports/data/raw/9/pdf_files/9_195_1_aa1400a4dbe6c3177ff044edce8b5585fb846445.pdf'\n",
    "pdf_file_path = './1_5_1_c9cbda772da622dd1667027eef1b862a7d7209c8.pdf'\n",
    "#pdf_file_path = './1_113_2_0da232073435d32084842b8fd244ecdf37be7c25.pdf'\n",
    "#pdf_file_path = './Informe_CEV_v2.pdf'\n",
    "#pdf_file_path = '/mnt/c/Users/rober/OneDrive/8_DEVELOPMENT/cev-database-reports/data/raw/14/pdf_files/14_133_1_d74cf9f6b9387226ce48186fcd4c1394dbe371c6.pdf'\n",
    "pdf_report = fitz.open(pdf_file_path)\n",
    "page_number = 2  # Page number (starting from 0)\n",
    "page = pdf_report[page_number]"
   ]
  },
  {
   "cell_type": "markdown",
   "metadata": {},
   "source": [
    "## Pagina 2"
   ]
  },
  {
   "cell_type": "code",
   "execution_count": null,
   "metadata": {},
   "outputs": [],
   "source": [
    "def extract_text_from_area(page, area):\n",
    "    \"\"\"\n",
    "    Extract text from a specific area of a PDF page.\n",
    "\n",
    "    Args:\n",
    "    - page (fitz.Page): Page object from which to extract text.\n",
    "    - area (tuple): Tuple containing (x1, y1, x2, y2) coordinates of the area to extract text from.\n",
    "\n",
    "    Returns:\n",
    "    - extracted_text (str): Text extracted from the specified area.\n",
    "    \"\"\"\n",
    "    extracted_text = \"\"\n",
    "    try:\n",
    "        # Clean the page contents to avoid misplaced item insertions\n",
    "        page.clean_contents()\n",
    "\n",
    "        # Pdf Report Dimensions\n",
    "        report_width = 215.9  # mm\n",
    "        report_height = 330.0  # mm\n",
    "\n",
    "        # Get page dimensions\n",
    "        width = page.rect.width\n",
    "        height = page.rect.height\n",
    "\n",
    "        # Normalize the coordinates\n",
    "        x1, y1, x2, y2 = area\n",
    "        rx1, ry1, rx2, ry2 = x1 / report_width, y1 / report_height, x2 / report_width, y2 / report_height\n",
    "\n",
    "        # Define the rectangle area to extract text from\n",
    "        rect = fitz.Rect(rx1 * width, ry1 * height, rx2 * width, ry2 * height)\n",
    "\n",
    "        # Extract text from the specified area\n",
    "        extracted_text = page.get_textbox(rect)\n",
    "    except Exception as e:\n",
    "        print(f\"Error: {e}\")\n",
    "\n",
    "    return extracted_text"
   ]
  },
  {
   "cell_type": "code",
   "execution_count": null,
   "metadata": {},
   "outputs": [],
   "source": [
    "# Código evaluación energética\n",
    "area_coordinates = (62.3, 30.7, 88.1, 35.1)  # Coordinates of the area to extract text from: (x1, y1, x2, y2)\n",
    "extracted_text = extract_text_from_area(page, area_coordinates)\n",
    "codigo_evaluacion = extracted_text\n",
    "codigo_evaluacion\n",
    "\n",
    "df = pd.DataFrame(data=[codigo_evaluacion] * 10, columns=['codigo_evaluacion'])\n",
    "df"
   ]
  },
  {
   "cell_type": "markdown",
   "metadata": {},
   "source": [
    "### Seccion: Resumen Envolvente"
   ]
  },
  {
   "cell_type": "code",
   "execution_count": null,
   "metadata": {},
   "outputs": [],
   "source": [
    "orientacion = ['Horiz', 'N', 'NE', 'E', 'SE', 'S', 'SO', 'O', 'NO', 'Pisos']\n",
    "df['orientacion'] = orientacion\n",
    "df"
   ]
  },
  {
   "cell_type": "markdown",
   "metadata": {},
   "source": [
    "### Elementos Opacos"
   ]
  },
  {
   "cell_type": "code",
   "execution_count": null,
   "metadata": {},
   "outputs": [],
   "source": [
    "area_coordinates = (19.5, 245.0, 47.0, 287.5)  # Coordinates of the area to extract text from: (x1, y1, x2, y2)\n",
    "extracted_text = extract_text_from_area(page, area_coordinates)\n",
    "elementos_opacos_area_m2 = extracted_text.splitlines()[-10:]\n",
    "elementos_opacos_area_m2 = [float(item.replace(',', '.')) for item in elementos_opacos_area_m2]\n",
    "df['elementos_opacos_area_m2'] = elementos_opacos_area_m2\n",
    "df"
   ]
  },
  {
   "cell_type": "code",
   "execution_count": null,
   "metadata": {},
   "outputs": [],
   "source": [
    "area_coordinates = (47.8, 245.0, 60.5, 287.5)  # Coordinates of the area to extract text from: (x1, y1, x2, y2)\n",
    "extracted_text = extract_text_from_area(page, area_coordinates)\n",
    "elementos_opacos_U_W_m2_K = extracted_text.splitlines()[-10:]\n",
    "elementos_opacos_U_W_m2_K = [float(item.replace(',', '.')) for item in elementos_opacos_U_W_m2_K]\n",
    "df['elementos_opacos_U_W_m2_K'] = elementos_opacos_U_W_m2_K\n",
    "df"
   ]
  },
  {
   "cell_type": "markdown",
   "metadata": {},
   "source": [
    "### Elementos Traslucidos"
   ]
  },
  {
   "cell_type": "code",
   "execution_count": null,
   "metadata": {},
   "outputs": [],
   "source": [
    "area_coordinates = (68.2, 245.0, 89.5, 287.5)  # Coordinates of the area to extract text from: (x1, y1, x2, y2)\n",
    "extracted_text = extract_text_from_area(page, area_coordinates)\n",
    "elementos_traslucidos_area_m2 = extracted_text.splitlines()[-9:]\n",
    "elementos_traslucidos_area_m2 = [float(item.replace(',', '.')) for item in elementos_traslucidos_area_m2]\n",
    "elementos_traslucidos_area_m2.append(0)\n",
    "df['elementos_traslucidos_area_m2'] = elementos_traslucidos_area_m2\n",
    "df"
   ]
  },
  {
   "cell_type": "code",
   "execution_count": null,
   "metadata": {},
   "outputs": [],
   "source": [
    "area_coordinates = (90.4, 245.0, 103.1, 287.5)  # Coordinates of the area to extract text from: (x1, y1, x2, y2)\n",
    "extracted_text = extract_text_from_area(page, area_coordinates)\n",
    "elementos_traslucidos_U_W_m2_K = extracted_text.splitlines()[-9:]\n",
    "elementos_traslucidos_U_W_m2_K = [float(item.replace(',', '.')) for item in elementos_traslucidos_U_W_m2_K]\n",
    "elementos_traslucidos_U_W_m2_K.append(0)\n",
    "df['elementos_traslucidos_U_W_m2_K'] = elementos_traslucidos_U_W_m2_K\n",
    "df"
   ]
  },
  {
   "cell_type": "markdown",
   "metadata": {},
   "source": [
    "### Perdidas Puentes Termicos"
   ]
  },
  {
   "cell_type": "markdown",
   "metadata": {},
   "source": [
    "### P01"
   ]
  },
  {
   "cell_type": "code",
   "execution_count": null,
   "metadata": {},
   "outputs": [],
   "source": [
    "p01_W_K = []\n",
    "dy = 3.5\n",
    "for n in range(0, 9):\n",
    "    area_coordinates = (114.1, 250.0+n*dy, 125.5, 253.5+n*dy)  # Coordinates of the area to extract text from: (x1, y1, x2, y2)\n",
    "    extracted_text = extract_text_from_area(page, area_coordinates)\n",
    "    p01_W_K_i = extracted_text.splitlines()[-1]\n",
    "    p01_W_K_i = float(p01_W_K_i.replace(',', '.'))\n",
    "    p01_W_K.append(p01_W_K_i)\n",
    "\n",
    "p01_W_K.pop(4)\n",
    "p01_W_K.insert(0, 0)\n",
    "p01_W_K.append(0)\n",
    "df['P01_W_K'] = p01_W_K\n",
    "df"
   ]
  },
  {
   "cell_type": "markdown",
   "metadata": {},
   "source": [
    "### P02"
   ]
  },
  {
   "cell_type": "code",
   "execution_count": null,
   "metadata": {},
   "outputs": [],
   "source": [
    "p02_W_K = []\n",
    "dy = 3.5\n",
    "for n in range(0, 9):\n",
    "    area_coordinates = (126.2, 250.0+n*dy, 136.9, 253.5+n*dy)  # Coordinates of the area to extract text from: (x1, y1, x2, y2)\n",
    "    extracted_text = extract_text_from_area(page, area_coordinates)\n",
    "    p02_W_K_i = extracted_text.splitlines()[-1]\n",
    "    p02_W_K_i = float(p02_W_K_i.replace(',', '.'))\n",
    "    p02_W_K.append(p02_W_K_i)\n",
    "\n",
    "p02_W_K.pop(4)\n",
    "p02_W_K.insert(0, 0)\n",
    "p02_W_K.append(0)\n",
    "df['P02_W_K'] = p02_W_K\n",
    "df"
   ]
  },
  {
   "cell_type": "markdown",
   "metadata": {},
   "source": [
    "### P03"
   ]
  },
  {
   "cell_type": "code",
   "execution_count": null,
   "metadata": {},
   "outputs": [],
   "source": [
    "p03_W_K = []\n",
    "dy = 3.5\n",
    "for n in range(0, 9):\n",
    "    #print(n)\n",
    "    area_coordinates = (137.0, 250.0+n*dy, 148.2, 253.5+n*dy)  # Coordinates of the area to extract text from: (x1, y1, x2, y2)\n",
    "    extracted_text = extract_text_from_area(page, area_coordinates)\n",
    "    p03_W_K_i = extracted_text.splitlines()[-1]\n",
    "    p03_W_K_i = float(p03_W_K_i.replace(',', '.'))\n",
    "    p03_W_K.append(p03_W_K_i)\n",
    "\n",
    "p03_W_K.pop(4)\n",
    "p03_W_K.insert(0, 0)\n",
    "p03_W_K.append(0)\n",
    "df['P03_W_K'] = p03_W_K\n",
    "df"
   ]
  },
  {
   "cell_type": "markdown",
   "metadata": {},
   "source": [
    "### P04"
   ]
  },
  {
   "cell_type": "code",
   "execution_count": null,
   "metadata": {},
   "outputs": [],
   "source": [
    "p04_W_K = []\n",
    "dy = 3.5\n",
    "for n in range(0, 9):\n",
    "    #print(n)\n",
    "    area_coordinates = (149.0, 250.0+n*dy, 160.0, 253.5+n*dy)  # Coordinates of the area to extract text from: (x1, y1, x2, y2)\n",
    "    extracted_text = extract_text_from_area(page, area_coordinates)\n",
    "    p04_W_K_i = extracted_text.splitlines()[-1]\n",
    "    p04_W_K_i = float(p04_W_K_i.replace(',', '.'))\n",
    "    p04_W_K.append(p04_W_K_i)\n",
    "\n",
    "p04_W_K.pop(4)  \n",
    "p04_W_K.insert(0, 0)\n",
    "p04_W_K.append(0)\n",
    "df['P04_W_K'] = p04_W_K\n",
    "df"
   ]
  },
  {
   "cell_type": "markdown",
   "metadata": {},
   "source": [
    "### P05"
   ]
  },
  {
   "cell_type": "code",
   "execution_count": null,
   "metadata": {},
   "outputs": [],
   "source": [
    "p05_W_K = []\n",
    "dy = 3.5\n",
    "for n in range(0, 9):\n",
    "    #print(n)\n",
    "    area_coordinates = (161.3, 250.0+n*dy, 171.2, 253.5+n*dy)  # Coordinates of the area to extract text from: (x1, y1, x2, y2)\n",
    "    extracted_text = extract_text_from_area(page, area_coordinates)\n",
    "    p05_W_K_i = extracted_text.splitlines()[-1]\n",
    "    p05_W_K_i = float(p05_W_K_i.replace(',', '.'))\n",
    "    p05_W_K.append(p05_W_K_i)\n",
    "\n",
    "p05_W_K.pop(4) \n",
    "p05_W_K.insert(0, 0)\n",
    "p05_W_K.append(0)\n",
    "df['P05_W_K'] = p05_W_K\n",
    "df"
   ]
  },
  {
   "cell_type": "code",
   "execution_count": null,
   "metadata": {},
   "outputs": [],
   "source": [
    "Ht_W_K = []\n",
    "dy = 3.5\n",
    "for n in range(0, 12):\n",
    "    #print(n)\n",
    "    area_coordinates = (189.2, 245.5+n*dy, 201.9, 249.0+n*dy)  # Coordinates of the area to extract text from: (x1, y1, x2, y2)\n",
    "    extracted_text = extract_text_from_area(page, area_coordinates)\n",
    "    Ht_W_K_i = extracted_text.splitlines()[-1]\n",
    "    Ht_W_K_i = float(Ht_W_K_i.replace(',', '.'))\n",
    "    Ht_W_K.append(Ht_W_K_i)\n",
    "Ht_W_K.pop(4) \n",
    "Ht_W_K.pop(9) \n",
    "df['UA+phiL'] = Ht_W_K\n",
    "df"
   ]
  },
  {
   "cell_type": "code",
   "execution_count": null,
   "metadata": {},
   "outputs": [],
   "source": [
    "df['elementos_opacos_area_m2'] * df['elementos_opacos_U_W_m2_K'] + df['elementos_traslucidos_area_m2'] * df['elementos_traslucidos_U_W_m2_K'] + df['P01_W_K'] + df['P02_W_K'] + df['P03_W_K'] + df['P04_W_K'] + df['P05_W_K']"
   ]
  },
  {
   "cell_type": "code",
   "execution_count": null,
   "metadata": {},
   "outputs": [],
   "source": [
    "# Close the PDF document\n",
    "pdf_report.close()"
   ]
  }
 ],
 "metadata": {
  "kernelspec": {
   "display_name": "Python 3 (ipykernel)",
   "language": "python",
   "name": "python3"
  },
  "language_info": {
   "codemirror_mode": {
    "name": "ipython",
    "version": 3
   },
   "file_extension": ".py",
   "mimetype": "text/x-python",
   "name": "python",
   "nbconvert_exporter": "python",
   "pygments_lexer": "ipython3",
   "version": "3.9.7"
  }
 },
 "nbformat": 4,
 "nbformat_minor": 1
}
