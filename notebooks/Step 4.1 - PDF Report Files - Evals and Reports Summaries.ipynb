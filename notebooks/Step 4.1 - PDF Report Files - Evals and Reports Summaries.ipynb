{
 "cells": [
  {
   "cell_type": "code",
   "execution_count": null,
   "id": "704245b5",
   "metadata": {},
   "outputs": [],
   "source": [
    "import requests\n",
    "import time\n",
    "from datetime import datetime\n",
    "import pandas as pd\n",
    "import os\n",
    "import json\n",
    "import uuid\n",
    "import sqlite3\n",
    "import sys\n",
    "from dotenv import load_dotenv\n",
    "# Load the .env file\n",
    "load_dotenv()\n",
    "# Access the environment variables\n",
    "project_folder_path = os.getenv('PROJECT_FOLDER_PATH')\n",
    "print(project_folder_path)\n",
    "sys.path.append(project_folder_path)\n",
    "from utils.db_functs import *\n",
    "from utils.requests_functs import *\n",
    "from utils.html_functs import *\n",
    "from utils.pdf_functs import *"
   ]
  },
  {
   "cell_type": "markdown",
   "id": "c0366616",
   "metadata": {},
   "source": [
    "### Database and directories"
   ]
  },
  {
   "cell_type": "code",
   "execution_count": null,
   "id": "6c147be4",
   "metadata": {},
   "outputs": [],
   "source": [
    "source_db_file_name = 'cev-database-coordinates-v1.db'\n",
    "source_db_file_path = os.path.join(project_folder_path, 'data', 'sqlite', source_db_file_name)\n",
    "destination_db_file_name = 'cev-database-reports-v1.db'\n",
    "destination_db_file_path = os.path.join(project_folder_path, 'data', 'sqlite', destination_db_file_name)"
   ]
  },
  {
   "cell_type": "markdown",
   "id": "4026074b",
   "metadata": {},
   "source": [
    "## 1) Define a dataframe with download coordinates\n",
    "The dataframe must contain 1 row per `comuna` meaning 348 rows in total."
   ]
  },
  {
   "cell_type": "code",
   "execution_count": null,
   "id": "840cb1f2",
   "metadata": {},
   "outputs": [],
   "source": [
    "query = f\"\"\"\n",
    "        SELECT * FROM evals_summary;\n",
    "        \"\"\"\n",
    "print(query)"
   ]
  },
  {
   "cell_type": "code",
   "execution_count": null,
   "id": "5c740005",
   "metadata": {},
   "outputs": [],
   "source": [
    "df = create_dataframe_from_query(source_db_file_path, query)\n",
    "print(f'{df.shape[0]} rows loaded')\n",
    "df.head()"
   ]
  },
  {
   "cell_type": "markdown",
   "id": "530862c4",
   "metadata": {},
   "source": [
    "### Write table to database\n",
    "Only if it exists and empty"
   ]
  },
  {
   "cell_type": "code",
   "execution_count": null,
   "id": "1b9e5520",
   "metadata": {},
   "outputs": [],
   "source": [
    "# Check if the specified table exists in the database\n",
    "table_name = 'evals_summary'\n",
    "if check_table_exists(destination_db_file_path, table_name):\n",
    "    print(f\"Table '{table_name}' exists in the database.\")\n",
    "    if is_table_empty(destination_db_file_path, table_name):\n",
    "        insert_unique_rows_from_dataframe(destination_db_file_path, 'evals_summary', df, unique_columns=['eval_id'])\n",
    "else:        \n",
    "    print(f\"Table '{table_name}' does not exist in the database.\")"
   ]
  },
  {
   "cell_type": "markdown",
   "id": "95a20f27",
   "metadata": {},
   "source": [
    "## 3) Check all pdf files that have been downloaded\n",
    "This is useful in case a seach has been run and has not completed"
   ]
  },
  {
   "cell_type": "markdown",
   "id": "022334c2",
   "metadata": {},
   "source": [
    "### 3.1) Get all `pdf_file_paths`"
   ]
  },
  {
   "cell_type": "code",
   "execution_count": null,
   "id": "3a035e31",
   "metadata": {},
   "outputs": [],
   "source": [
    "# Define the directory path\n",
    "pdf_files_dir = os.path.join(project_folder_path, 'data', 'raw', '3_evals_reports', 'pdf_files')\n",
    "\n",
    "# Check if the directory exists\n",
    "if not os.path.exists(pdf_files_dir):\n",
    "    # If it doesn't exist, create the directory\n",
    "    os.makedirs(pdf_files_dir)\n",
    "    print(f\"Directory '{pdf_files_dir}' created.\")\n",
    "\n",
    "# List all files in the directory\n",
    "pdf_file_paths = find_pdf_files(pdf_files_dir)\n",
    "print(f'The directory: {pdf_files_dir} contains {len(pdf_file_paths)} out of {df.shape[0]}')"
   ]
  },
  {
   "cell_type": "markdown",
   "id": "8a107d22",
   "metadata": {},
   "source": [
    "### 3.2) Fill on dataframe all those rows corresponding to files already downloaded"
   ]
  },
  {
   "cell_type": "code",
   "execution_count": null,
   "id": "609deb23",
   "metadata": {},
   "outputs": [],
   "source": [
    "summary_df = pd.DataFrame(data=pdf_file_paths, columns=['pdf_file_path'])\n",
    "summary_df[['directory', 'pdf_file_name']] = summary_df['pdf_file_path'].str.rsplit('/', n=1, expand=True)\n",
    "#summary_df['pdf_file_name'] = summary_df['pdf_file_name'].str.replace('.pdf', '')\n",
    "summary_df[['region_id', 'comuna_id', 'tipo_evaluacion', 'eval_id']] = summary_df['pdf_file_name'].str.replace('.pdf', '').str.rsplit('_', n=0, expand=True)\n",
    "#summary_df.drop(columns=['pdf_file_path', 'directory'], inplace=True)\n",
    "summary_df.T"
   ]
  },
  {
   "cell_type": "code",
   "execution_count": null,
   "id": "865f8e58",
   "metadata": {},
   "outputs": [],
   "source": [
    "summary_df['is_pdf_file_valid'] = None\n",
    "summary_df['version_evaluacion'] = None"
   ]
  },
  {
   "cell_type": "code",
   "execution_count": null,
   "id": "eb155bac",
   "metadata": {},
   "outputs": [],
   "source": [
    "# Apply os.path.getsize to the 'pdf_file_path' column to get size in bytes\n",
    "# Convert file size to kilobytes (1 KB = 1024 bytes)\n",
    "summary_df['file_size_kb'] = summary_df['pdf_file_path'].apply(os.path.getsize) / 1024\n",
    "summary_df.head().T"
   ]
  },
  {
   "cell_type": "markdown",
   "id": "536a06a0",
   "metadata": {},
   "source": [
    "### Version Evalaucion: v1"
   ]
  },
  {
   "cell_type": "code",
   "execution_count": null,
   "id": "49fe1f9b",
   "metadata": {},
   "outputs": [],
   "source": [
    "v1_indexes = summary_df[(summary_df['file_size_kb']>= 500.0) & (summary_df['file_size_kb'] < 4000.0)].index#.sort_values('file_size_kb', ascending=True)\n",
    "print(f'{len(v1_indexes)} version evaluacion v1 found...')\n",
    "summary_df.loc[v1_indexes, 'version_evaluacion'] = int(1)"
   ]
  },
  {
   "cell_type": "markdown",
   "id": "bffa429b",
   "metadata": {},
   "source": [
    "### Version Evalaucion: v2"
   ]
  },
  {
   "cell_type": "code",
   "execution_count": null,
   "id": "64631121",
   "metadata": {},
   "outputs": [],
   "source": [
    "v2_indexes = summary_df[(summary_df['file_size_kb']>= 4000.0)].index#.sort_values('file_size_kb', ascending=True)\n",
    "print(f'{len(v2_indexes)} version evaluacion v2 found...')\n",
    "summary_df.loc[v2_indexes, 'version_evaluacion'] = int(2)"
   ]
  },
  {
   "cell_type": "code",
   "execution_count": null,
   "id": "c75c386d",
   "metadata": {},
   "outputs": [],
   "source": [
    "print(f\"Total rows: {summary_df['version_evaluacion'].value_counts(dropna=False).sum()}\")\n",
    "summary_df['version_evaluacion'].value_counts(dropna=False)"
   ]
  },
  {
   "cell_type": "code",
   "execution_count": null,
   "id": "65be2a15",
   "metadata": {},
   "outputs": [],
   "source": [
    "# Remove all non valid pdf files\n",
    "print(f\"{summary_df[summary_df['version_evaluacion'].isna()].shape[0]} non valid pdf files found...\")\n",
    "non_valid_pdf_index = summary_df[summary_df['version_evaluacion'].isna()].index\n",
    "# Remove non valid pdfs\n",
    "try:\n",
    "    summary_df.loc[non_valid_pdf_index, 'pdf_file_path'].apply(os.remove)\n",
    "except:\n",
    "    pass\n",
    "\n",
    "# Remove non valid pdf files from dataframe\n",
    "summary_df = summary_df.dropna(subset=['version_evaluacion']).reset_index(drop=True)\n",
    "print(f'Summary dataframe now has {summary_df.shape[0]} rows')"
   ]
  },
  {
   "cell_type": "code",
   "execution_count": null,
   "id": "88df1af8",
   "metadata": {},
   "outputs": [],
   "source": [
    "# Drop specified columns\n",
    "columns_to_drop = ['pdf_file_path', 'directory']\n",
    "to_store_df = summary_df.drop(columns=columns_to_drop).reset_index(drop=True)\n",
    "to_store_df = to_store_df[['eval_id', 'comuna_id', 'region_id', 'tipo_evaluacion', 'version_evaluacion', 'pdf_file_name']]\n",
    "to_store_df['comuna_id'] = to_store_df['comuna_id'].astype(int)\n",
    "to_store_df['region_id'] = to_store_df['region_id'].astype(int)\n",
    "to_store_df['tipo_evaluacion'] = to_store_df['tipo_evaluacion'].astype(int)\n",
    "to_store_df['version_evaluacion'] = to_store_df['version_evaluacion'].astype(int)\n",
    "print(f\"Total rows: {to_store_df['version_evaluacion'].value_counts(dropna=False).sum()}\")\n",
    "to_store_df"
   ]
  },
  {
   "cell_type": "code",
   "execution_count": null,
   "id": "3107457b",
   "metadata": {},
   "outputs": [],
   "source": [
    "to_store_df.isna().sum().sum()"
   ]
  },
  {
   "cell_type": "markdown",
   "id": "680e0e6d",
   "metadata": {},
   "source": [
    "### Get all those rows already stored in the database"
   ]
  },
  {
   "cell_type": "code",
   "execution_count": null,
   "id": "5349115f",
   "metadata": {},
   "outputs": [],
   "source": [
    "query = f\"\"\"\n",
    "        SELECT * FROM reports_summary;\n",
    "        \"\"\"\n",
    "print(query)"
   ]
  },
  {
   "cell_type": "code",
   "execution_count": null,
   "id": "dd6cbe85",
   "metadata": {},
   "outputs": [],
   "source": [
    "stored_df = create_dataframe_from_query(destination_db_file_path, query)\n",
    "print(f'{stored_df.shape[0]} rows loaded')\n",
    "stored_df.head()"
   ]
  },
  {
   "cell_type": "code",
   "execution_count": null,
   "id": "894b759b",
   "metadata": {},
   "outputs": [],
   "source": [
    "out_df = pd.concat([to_store_df, stored_df], ignore_index=True).drop_duplicates(keep=False).reset_index(drop=True)\n",
    "print(f'{out_df.shape[0]} rows to be loaded into the database')"
   ]
  },
  {
   "cell_type": "code",
   "execution_count": null,
   "id": "1e91f357",
   "metadata": {},
   "outputs": [],
   "source": [
    "if not out_df.empty:\n",
    "  insert_unique_rows_from_dataframe(destination_db_file_path, 'reports_summary', out_df, unique_columns=['eval_id'])"
   ]
  }
 ],
 "metadata": {
  "kernelspec": {
   "display_name": "Python 3 (ipykernel)",
   "language": "python",
   "name": "python3"
  },
  "language_info": {
   "codemirror_mode": {
    "name": "ipython",
    "version": 3
   },
   "file_extension": ".py",
   "mimetype": "text/x-python",
   "name": "python",
   "nbconvert_exporter": "python",
   "pygments_lexer": "ipython3",
   "version": "3.9.7"
  }
 },
 "nbformat": 4,
 "nbformat_minor": 5
}
