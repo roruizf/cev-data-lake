{
 "cells": [
  {
   "cell_type": "markdown",
   "metadata": {},
   "source": [
    "# Informe CEV (v.2) - Page 7"
   ]
  },
  {
   "cell_type": "markdown",
   "metadata": {},
   "source": [
    "### Import `PyMuPDF`"
   ]
  },
  {
   "cell_type": "code",
   "execution_count": null,
   "metadata": {
    "execution": {
     "iopub.execute_input": "2022-07-18T14:47:50.653979Z",
     "iopub.status.busy": "2022-07-18T14:47:50.653590Z",
     "iopub.status.idle": "2022-07-18T14:47:50.688352Z",
     "shell.execute_reply": "2022-07-18T14:47:50.688022Z"
    },
    "scrolled": true
   },
   "outputs": [],
   "source": [
    "import pandas as pd\n",
    "import re\n",
    "import pytesseract\n",
    "import fitz  # PyMuPDF\n"
   ]
  },
  {
   "cell_type": "markdown",
   "metadata": {},
   "source": [
    "### Load the PDF"
   ]
  },
  {
   "cell_type": "code",
   "execution_count": null,
   "metadata": {
    "execution": {
     "iopub.execute_input": "2022-07-18T14:47:50.690282Z",
     "iopub.status.busy": "2022-07-18T14:47:50.690148Z",
     "iopub.status.idle": "2022-07-18T14:47:50.693123Z",
     "shell.execute_reply": "2022-07-18T14:47:50.692800Z"
    }
   },
   "outputs": [],
   "source": [
    "pdf_file_path = '/mnt/c/Users/rober/OneDrive/8_DEVELOPMENT/cev-database-reports/data/raw/9/pdf_files/9_195_1_aa1400a4dbe6c3177ff044edce8b5585fb846445.pdf'\n",
    "pdf_file_path = './1_5_1_c9cbda772da622dd1667027eef1b862a7d7209c8.pdf'\n",
    "pdf_file_path = './1_113_2_0da232073435d32084842b8fd244ecdf37be7c25.pdf'\n",
    "pdf_file_path = './Informe_CEV_v2.pdf'\n",
    "#pdf_file_path = '/mnt/c/Users/rober/OneDrive/8_DEVELOPMENT/cev-database-reports/data/raw/1/pdf_files/1_113_1_0da70885817e546d34080a742d6bb2d99dff8091.pdf'\n",
    "pdf_report = fitz.open(pdf_file_path)\n",
    "page_number = 6  # Page number (starting from 0)\n",
    "page = pdf_report[page_number]"
   ]
  },
  {
   "cell_type": "markdown",
   "metadata": {},
   "source": [
    "## Pagina 7"
   ]
  },
  {
   "cell_type": "code",
   "execution_count": null,
   "metadata": {},
   "outputs": [],
   "source": [
    "def extract_text_from_area(page, area):\n",
    "    \"\"\"\n",
    "    Extract text from a specific area of a PDF page.\n",
    "\n",
    "    Args:\n",
    "    - page (fitz.Page): Page object from which to extract text.\n",
    "    - area (tuple): Tuple containing (x1, y1, x2, y2) coordinates of the area to extract text from.\n",
    "\n",
    "    Returns:\n",
    "    - extracted_text (str): Text extracted from the specified area.\n",
    "    \"\"\"\n",
    "    extracted_text = \"\"\n",
    "    try:\n",
    "        # Clean the page contents to avoid misplaced item insertions\n",
    "        page.clean_contents()\n",
    "\n",
    "        # Pdf Report Dimensions\n",
    "        report_width = 215.9  # mm\n",
    "        report_height = 330.0  # mm\n",
    "\n",
    "        # Get page dimensions\n",
    "        width = page.rect.width\n",
    "        height = page.rect.height\n",
    "\n",
    "        # Normalize the coordinates\n",
    "        x1, y1, x2, y2 = area\n",
    "        rx1, ry1, rx2, ry2 = x1 / report_width, y1 / report_height, x2 / report_width, y2 / report_height\n",
    "\n",
    "        # Define the rectangle area to extract text from\n",
    "        rect = fitz.Rect(rx1 * width, ry1 * height, rx2 * width, ry2 * height)\n",
    "\n",
    "        # Extract text from the specified area\n",
    "        extracted_text = page.get_textbox(rect)\n",
    "    except Exception as e:\n",
    "        print(f\"Error: {e}\")\n",
    "\n",
    "    return extracted_text"
   ]
  },
  {
   "cell_type": "code",
   "execution_count": null,
   "metadata": {},
   "outputs": [],
   "source": [
    "# Código evaluación energética\n",
    "area_coordinates = (62.3, 30.7, 88.1, 35.1)  # Coordinates of the area to extract text from: (x1, y1, x2, y2)\n",
    "extracted_text = extract_text_from_area(page, area_coordinates)\n",
    "codigo_evaluacion = extracted_text\n",
    "codigo_evaluacion\n",
    "\n",
    "df = pd.DataFrame(data=[codigo_evaluacion], columns=['codigo_evaluacion'])\n",
    "df"
   ]
  },
  {
   "cell_type": "code",
   "execution_count": null,
   "metadata": {},
   "outputs": [],
   "source": [
    "# Mandante\n",
    "area_coordinates = (27.3, 90.0, 97.0, 98.0)  # Coordinates of the area to extract text from: (x1, y1, x2, y2)\n",
    "extracted_text = extract_text_from_area(page, area_coordinates)\n",
    "extracted_text = extracted_text.split('\\n')\n",
    "df['mandante_nombre']  = extracted_text[0]\n",
    "df['mandante_rut']  = extracted_text[1]\n",
    "df"
   ]
  },
  {
   "cell_type": "code",
   "execution_count": null,
   "metadata": {},
   "outputs": [],
   "source": [
    "# Evaluador Energético\n",
    "area_coordinates = (130.4, 90.0, 208.7, 103.7)  # Coordinates of the area to extract text from: (x1, y1, x2, y2)\n",
    "extracted_text = extract_text_from_area(page, area_coordinates)\n",
    "extracted_text = extracted_text.split('\\n')\n",
    "df['evaluador_nombre']  = extracted_text[-3]\n",
    "df['evaluador_rut']  = extracted_text[-2]\n",
    "df['evaluador_rol_minvu']  = extracted_text[-1]\n",
    "df"
   ]
  },
  {
   "cell_type": "code",
   "execution_count": null,
   "metadata": {},
   "outputs": [],
   "source": [
    "df.T"
   ]
  },
  {
   "cell_type": "code",
   "execution_count": null,
   "metadata": {},
   "outputs": [],
   "source": [
    "# Close the PDF document\n",
    "pdf_report.close()"
   ]
  }
 ],
 "metadata": {
  "kernelspec": {
   "display_name": "Python 3 (ipykernel)",
   "language": "python",
   "name": "python3"
  },
  "language_info": {
   "codemirror_mode": {
    "name": "ipython",
    "version": 3
   },
   "file_extension": ".py",
   "mimetype": "text/x-python",
   "name": "python",
   "nbconvert_exporter": "python",
   "pygments_lexer": "ipython3",
   "version": "3.9.7"
  }
 },
 "nbformat": 4,
 "nbformat_minor": 1
}
