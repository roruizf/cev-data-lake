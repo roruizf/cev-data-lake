{
 "cells": [
  {
   "cell_type": "markdown",
   "metadata": {},
   "source": [
    "# Informe CEV (v.2) - Page 7"
   ]
  },
  {
   "cell_type": "markdown",
   "metadata": {},
   "source": [
    "### Import `PyMuPDF`"
   ]
  },
  {
   "cell_type": "code",
   "execution_count": 1,
   "metadata": {
    "execution": {
     "iopub.execute_input": "2022-07-18T14:47:50.653979Z",
     "iopub.status.busy": "2022-07-18T14:47:50.653590Z",
     "iopub.status.idle": "2022-07-18T14:47:50.688352Z",
     "shell.execute_reply": "2022-07-18T14:47:50.688022Z"
    },
    "scrolled": true
   },
   "outputs": [
    {
     "name": "stderr",
     "output_type": "stream",
     "text": [
      "/home/roruizf/anaconda3/envs/data_env/lib/python3.9/site-packages/pandas/core/computation/expressions.py:21: UserWarning: Pandas requires version '2.8.0' or newer of 'numexpr' (version '2.7.3' currently installed).\n",
      "  from pandas.core.computation.check import NUMEXPR_INSTALLED\n",
      "/home/roruizf/anaconda3/envs/data_env/lib/python3.9/site-packages/pandas/core/arrays/masked.py:62: UserWarning: Pandas requires version '1.3.4' or newer of 'bottleneck' (version '1.3.2' currently installed).\n",
      "  from pandas.core import (\n"
     ]
    }
   ],
   "source": [
    "import pandas as pd\n",
    "import re\n",
    "import pytesseract\n",
    "import fitz  # PyMuPDF\n"
   ]
  },
  {
   "cell_type": "markdown",
   "metadata": {},
   "source": [
    "### Load the PDF"
   ]
  },
  {
   "cell_type": "code",
   "execution_count": 2,
   "metadata": {
    "execution": {
     "iopub.execute_input": "2022-07-18T14:47:50.690282Z",
     "iopub.status.busy": "2022-07-18T14:47:50.690148Z",
     "iopub.status.idle": "2022-07-18T14:47:50.693123Z",
     "shell.execute_reply": "2022-07-18T14:47:50.692800Z"
    }
   },
   "outputs": [],
   "source": [
    "pdf_file_path = '/mnt/c/Users/rober/OneDrive/8_DEVELOPMENT/cev-database-reports/data/raw/9/pdf_files/9_195_1_aa1400a4dbe6c3177ff044edce8b5585fb846445.pdf'\n",
    "pdf_file_path = './1_5_1_c9cbda772da622dd1667027eef1b862a7d7209c8.pdf'\n",
    "pdf_file_path = './1_113_2_0da232073435d32084842b8fd244ecdf37be7c25.pdf'\n",
    "pdf_file_path = './Informe_CEV_v2.pdf'\n",
    "#pdf_file_path = '/mnt/c/Users/rober/OneDrive/8_DEVELOPMENT/cev-database-reports/data/raw/1/pdf_files/1_113_1_0da70885817e546d34080a742d6bb2d99dff8091.pdf'\n",
    "pdf_report = fitz.open(pdf_file_path)\n",
    "page_number = 6  # Page number (starting from 0)\n",
    "page = pdf_report[page_number]"
   ]
  },
  {
   "cell_type": "markdown",
   "metadata": {},
   "source": [
    "## Pagina 7"
   ]
  },
  {
   "cell_type": "code",
   "execution_count": 3,
   "metadata": {},
   "outputs": [],
   "source": [
    "def extract_text_from_area(page, area):\n",
    "    \"\"\"\n",
    "    Extract text from a specific area of a PDF page.\n",
    "\n",
    "    Args:\n",
    "    - page (fitz.Page): Page object from which to extract text.\n",
    "    - area (tuple): Tuple containing (x1, y1, x2, y2) coordinates of the area to extract text from.\n",
    "\n",
    "    Returns:\n",
    "    - extracted_text (str): Text extracted from the specified area.\n",
    "    \"\"\"\n",
    "    extracted_text = \"\"\n",
    "    try:\n",
    "        # Clean the page contents to avoid misplaced item insertions\n",
    "        page.clean_contents()\n",
    "\n",
    "        # Pdf Report Dimensions\n",
    "        report_width = 215.9  # mm\n",
    "        report_height = 330.0  # mm\n",
    "\n",
    "        # Get page dimensions\n",
    "        width = page.rect.width\n",
    "        height = page.rect.height\n",
    "\n",
    "        # Normalize the coordinates\n",
    "        x1, y1, x2, y2 = area\n",
    "        rx1, ry1, rx2, ry2 = x1 / report_width, y1 / report_height, x2 / report_width, y2 / report_height\n",
    "\n",
    "        # Define the rectangle area to extract text from\n",
    "        rect = fitz.Rect(rx1 * width, ry1 * height, rx2 * width, ry2 * height)\n",
    "\n",
    "        # Extract text from the specified area\n",
    "        extracted_text = page.get_textbox(rect)\n",
    "    except Exception as e:\n",
    "        print(f\"Error: {e}\")\n",
    "\n",
    "    return extracted_text"
   ]
  },
  {
   "cell_type": "code",
   "execution_count": 4,
   "metadata": {},
   "outputs": [
    {
     "data": {
      "text/html": [
       "<div>\n",
       "<style scoped>\n",
       "    .dataframe tbody tr th:only-of-type {\n",
       "        vertical-align: middle;\n",
       "    }\n",
       "\n",
       "    .dataframe tbody tr th {\n",
       "        vertical-align: top;\n",
       "    }\n",
       "\n",
       "    .dataframe thead th {\n",
       "        text-align: right;\n",
       "    }\n",
       "</style>\n",
       "<table border=\"1\" class=\"dataframe\">\n",
       "  <thead>\n",
       "    <tr style=\"text-align: right;\">\n",
       "      <th></th>\n",
       "      <th>codigo_evaluacion</th>\n",
       "    </tr>\n",
       "  </thead>\n",
       "  <tbody>\n",
       "    <tr>\n",
       "      <th>0</th>\n",
       "      <td>4173d32018</td>\n",
       "    </tr>\n",
       "  </tbody>\n",
       "</table>\n",
       "</div>"
      ],
      "text/plain": [
       "  codigo_evaluacion\n",
       "0        4173d32018"
      ]
     },
     "execution_count": 4,
     "metadata": {},
     "output_type": "execute_result"
    }
   ],
   "source": [
    "# Código evaluación energética\n",
    "area_coordinates = (62.3, 30.7, 88.1, 35.1)  # Coordinates of the area to extract text from: (x1, y1, x2, y2)\n",
    "extracted_text = extract_text_from_area(page, area_coordinates)\n",
    "codigo_evaluacion = extracted_text\n",
    "codigo_evaluacion\n",
    "\n",
    "df = pd.DataFrame(data=[codigo_evaluacion], columns=['codigo_evaluacion'])\n",
    "df"
   ]
  },
  {
   "cell_type": "code",
   "execution_count": 5,
   "metadata": {},
   "outputs": [
    {
     "data": {
      "text/html": [
       "<div>\n",
       "<style scoped>\n",
       "    .dataframe tbody tr th:only-of-type {\n",
       "        vertical-align: middle;\n",
       "    }\n",
       "\n",
       "    .dataframe tbody tr th {\n",
       "        vertical-align: top;\n",
       "    }\n",
       "\n",
       "    .dataframe thead th {\n",
       "        text-align: right;\n",
       "    }\n",
       "</style>\n",
       "<table border=\"1\" class=\"dataframe\">\n",
       "  <thead>\n",
       "    <tr style=\"text-align: right;\">\n",
       "      <th></th>\n",
       "      <th>codigo_evaluacion</th>\n",
       "      <th>mandante_nombre</th>\n",
       "      <th>mandante_rut</th>\n",
       "    </tr>\n",
       "  </thead>\n",
       "  <tbody>\n",
       "    <tr>\n",
       "      <th>0</th>\n",
       "      <td>4173d32018</td>\n",
       "      <td>SERVICIO DE VIVIENDA Y URBANIZACION XI REGIO</td>\n",
       "      <td>61.823.000-7</td>\n",
       "    </tr>\n",
       "  </tbody>\n",
       "</table>\n",
       "</div>"
      ],
      "text/plain": [
       "  codigo_evaluacion                               mandante_nombre  \\\n",
       "0        4173d32018  SERVICIO DE VIVIENDA Y URBANIZACION XI REGIO   \n",
       "\n",
       "   mandante_rut  \n",
       "0  61.823.000-7  "
      ]
     },
     "execution_count": 5,
     "metadata": {},
     "output_type": "execute_result"
    }
   ],
   "source": [
    "# Mandante\n",
    "area_coordinates = (27.3, 90.0, 97.0, 98.0)  # Coordinates of the area to extract text from: (x1, y1, x2, y2)\n",
    "extracted_text = extract_text_from_area(page, area_coordinates)\n",
    "extracted_text = extracted_text.split('\\n')\n",
    "df['mandante_nombre']  = extracted_text[0]\n",
    "df['mandante_rut']  = extracted_text[1]\n",
    "df"
   ]
  },
  {
   "cell_type": "code",
   "execution_count": 6,
   "metadata": {},
   "outputs": [
    {
     "data": {
      "text/html": [
       "<div>\n",
       "<style scoped>\n",
       "    .dataframe tbody tr th:only-of-type {\n",
       "        vertical-align: middle;\n",
       "    }\n",
       "\n",
       "    .dataframe tbody tr th {\n",
       "        vertical-align: top;\n",
       "    }\n",
       "\n",
       "    .dataframe thead th {\n",
       "        text-align: right;\n",
       "    }\n",
       "</style>\n",
       "<table border=\"1\" class=\"dataframe\">\n",
       "  <thead>\n",
       "    <tr style=\"text-align: right;\">\n",
       "      <th></th>\n",
       "      <th>codigo_evaluacion</th>\n",
       "      <th>mandante_nombre</th>\n",
       "      <th>mandante_rut</th>\n",
       "      <th>evaluador_nombre</th>\n",
       "      <th>evaluador_rut</th>\n",
       "      <th>evaluador_rol_minvu</th>\n",
       "    </tr>\n",
       "  </thead>\n",
       "  <tbody>\n",
       "    <tr>\n",
       "      <th>0</th>\n",
       "      <td>4173d32018</td>\n",
       "      <td>SERVICIO DE VIVIENDA Y URBANIZACION XI REGIO</td>\n",
       "      <td>61.823.000-7</td>\n",
       "      <td>JEANETTE ALEJANDRA MATUS GEEREGAT</td>\n",
       "      <td>14.035.723-5</td>\n",
       "      <td>13770</td>\n",
       "    </tr>\n",
       "  </tbody>\n",
       "</table>\n",
       "</div>"
      ],
      "text/plain": [
       "  codigo_evaluacion                               mandante_nombre  \\\n",
       "0        4173d32018  SERVICIO DE VIVIENDA Y URBANIZACION XI REGIO   \n",
       "\n",
       "   mandante_rut                   evaluador_nombre evaluador_rut  \\\n",
       "0  61.823.000-7  JEANETTE ALEJANDRA MATUS GEEREGAT  14.035.723-5   \n",
       "\n",
       "  evaluador_rol_minvu  \n",
       "0               13770  "
      ]
     },
     "execution_count": 6,
     "metadata": {},
     "output_type": "execute_result"
    }
   ],
   "source": [
    "# Evaluador Energético\n",
    "area_coordinates = (130.4, 90.0, 208.7, 103.7)  # Coordinates of the area to extract text from: (x1, y1, x2, y2)\n",
    "extracted_text = extract_text_from_area(page, area_coordinates)\n",
    "extracted_text = extracted_text.split('\\n')\n",
    "df['evaluador_nombre']  = extracted_text[-3]\n",
    "df['evaluador_rut']  = extracted_text[-2]\n",
    "df['evaluador_rol_minvu']  = extracted_text[-1]\n",
    "df"
   ]
  },
  {
   "cell_type": "code",
   "execution_count": 7,
   "metadata": {},
   "outputs": [
    {
     "data": {
      "text/html": [
       "<div>\n",
       "<style scoped>\n",
       "    .dataframe tbody tr th:only-of-type {\n",
       "        vertical-align: middle;\n",
       "    }\n",
       "\n",
       "    .dataframe tbody tr th {\n",
       "        vertical-align: top;\n",
       "    }\n",
       "\n",
       "    .dataframe thead th {\n",
       "        text-align: right;\n",
       "    }\n",
       "</style>\n",
       "<table border=\"1\" class=\"dataframe\">\n",
       "  <thead>\n",
       "    <tr style=\"text-align: right;\">\n",
       "      <th></th>\n",
       "      <th>0</th>\n",
       "    </tr>\n",
       "  </thead>\n",
       "  <tbody>\n",
       "    <tr>\n",
       "      <th>codigo_evaluacion</th>\n",
       "      <td>4173d32018</td>\n",
       "    </tr>\n",
       "    <tr>\n",
       "      <th>mandante_nombre</th>\n",
       "      <td>SERVICIO DE VIVIENDA Y URBANIZACION XI REGIO</td>\n",
       "    </tr>\n",
       "    <tr>\n",
       "      <th>mandante_rut</th>\n",
       "      <td>61.823.000-7</td>\n",
       "    </tr>\n",
       "    <tr>\n",
       "      <th>evaluador_nombre</th>\n",
       "      <td>JEANETTE ALEJANDRA MATUS GEEREGAT</td>\n",
       "    </tr>\n",
       "    <tr>\n",
       "      <th>evaluador_rut</th>\n",
       "      <td>14.035.723-5</td>\n",
       "    </tr>\n",
       "    <tr>\n",
       "      <th>evaluador_rol_minvu</th>\n",
       "      <td>13770</td>\n",
       "    </tr>\n",
       "  </tbody>\n",
       "</table>\n",
       "</div>"
      ],
      "text/plain": [
       "                                                                0\n",
       "codigo_evaluacion                                      4173d32018\n",
       "mandante_nombre      SERVICIO DE VIVIENDA Y URBANIZACION XI REGIO\n",
       "mandante_rut                                         61.823.000-7\n",
       "evaluador_nombre                JEANETTE ALEJANDRA MATUS GEEREGAT\n",
       "evaluador_rut                                        14.035.723-5\n",
       "evaluador_rol_minvu                                         13770"
      ]
     },
     "execution_count": 7,
     "metadata": {},
     "output_type": "execute_result"
    }
   ],
   "source": [
    "df.T"
   ]
  },
  {
   "cell_type": "code",
   "execution_count": 8,
   "metadata": {},
   "outputs": [],
   "source": [
    "# Close the PDF document\n",
    "pdf_report.close()"
   ]
  }
 ],
 "metadata": {
  "kernelspec": {
   "display_name": "Python 3 (ipykernel)",
   "language": "python",
   "name": "python3"
  },
  "language_info": {
   "codemirror_mode": {
    "name": "ipython",
    "version": 3
   },
   "file_extension": ".py",
   "mimetype": "text/x-python",
   "name": "python",
   "nbconvert_exporter": "python",
   "pygments_lexer": "ipython3",
   "version": "3.9.7"
  }
 },
 "nbformat": 4,
 "nbformat_minor": 1
}
