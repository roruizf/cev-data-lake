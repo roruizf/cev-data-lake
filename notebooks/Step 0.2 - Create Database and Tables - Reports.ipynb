{
 "cells": [
  {
   "cell_type": "code",
   "execution_count": 1,
   "id": "704245b5",
   "metadata": {},
   "outputs": [
    {
     "name": "stdout",
     "output_type": "stream",
     "text": [
      "/home/r2f/GitHubApps/cev-data-lake\n"
     ]
    }
   ],
   "source": [
    "import requests\n",
    "import time\n",
    "import datetime\n",
    "import pandas as pd\n",
    "import os\n",
    "import json\n",
    "import uuid\n",
    "import sqlite3\n",
    "import sys\n",
    "from dotenv import load_dotenv\n",
    "# Load the .env file\n",
    "load_dotenv()\n",
    "# Access the environment variables\n",
    "project_folder_path = os.getenv('PROJECT_FOLDER_PATH')\n",
    "print(project_folder_path)\n",
    "sys.path.append(project_folder_path)\n",
    "from utils.db_functs import *"
   ]
  },
  {
   "cell_type": "markdown",
   "id": "7523e5ca",
   "metadata": {},
   "source": [
    "## 1) Create Database"
   ]
  },
  {
   "cell_type": "markdown",
   "id": "15fa469c",
   "metadata": {},
   "source": [
    "### 1.1) Set Database file parameters\n",
    "Database file is a sqlite .db file"
   ]
  },
  {
   "cell_type": "code",
   "execution_count": 2,
   "id": "5c902422",
   "metadata": {},
   "outputs": [
    {
     "name": "stdout",
     "output_type": "stream",
     "text": [
      "cev-database-reports-v1.db\n"
     ]
    },
    {
     "data": {
      "text/plain": [
       "'/home/r2f/GitHubApps/cev-data-lake/data/sqlite/cev-database-reports-v1.db'"
      ]
     },
     "execution_count": 2,
     "metadata": {},
     "output_type": "execute_result"
    }
   ],
   "source": [
    "version = 'v1'\n",
    "db_file_name = f'cev-database-reports-{version}.db'\n",
    "print(db_file_name)\n",
    "db_file_path = os.path.join(project_folder_path, 'data', 'sqlite', db_file_name)\n",
    "db_file_path"
   ]
  },
  {
   "cell_type": "markdown",
   "id": "601b3305",
   "metadata": {},
   "source": [
    "### 1.2) Create sqlite database file"
   ]
  },
  {
   "cell_type": "code",
   "execution_count": 3,
   "id": "6ce01b19",
   "metadata": {},
   "outputs": [
    {
     "name": "stdout",
     "output_type": "stream",
     "text": [
      "Database file '/home/r2f/GitHubApps/cev-data-lake/data/sqlite/cev-database-reports-v1.db' created successfully.\n"
     ]
    }
   ],
   "source": [
    "create_database(db_file_path)"
   ]
  },
  {
   "cell_type": "markdown",
   "id": "8ad5d98c",
   "metadata": {},
   "source": [
    "## 2) Create Tables\n",
    "Database tables are:\n",
    "* `regiones`\n",
    "* `comunas`\n",
    "* `viewstate_region`\n",
    "* `html_files_by_comuna_and_search`\n",
    "* `html_files_by_comuna_page_and_search`"
   ]
  },
  {
   "cell_type": "markdown",
   "id": "af6f85f4",
   "metadata": {},
   "source": [
    "### 2.1) Define all tables in a dicitonary\n",
    "1. Dictionay key are the tables' names\n",
    "2. Dictionary values are the tables queries"
   ]
  },
  {
   "cell_type": "code",
   "execution_count": 4,
   "id": "52d98111",
   "metadata": {},
   "outputs": [],
   "source": [
    "table_queries = {\n",
    "    'regiones': \"\"\"\n",
    "        CREATE TABLE regiones (\n",
    "            region_id INTEGER PRIMARY KEY,\n",
    "            region_name TEXT,\n",
    "            UNIQUE (region_id, region_name)\n",
    "        )\n",
    "    \"\"\",\n",
    "    'comunas': \"\"\"\n",
    "        CREATE TABLE comunas (\n",
    "            comuna_id INTEGER PRIMARY KEY,\n",
    "            comuna_name TEXT,\n",
    "            region_id INTEGER,\n",
    "            FOREIGN KEY(region_id) REFERENCES regiones(region_id),\n",
    "            UNIQUE(comuna_id, comuna_name, region_id)\n",
    "        )\n",
    "    \"\"\",    \n",
    "    'evals_summary': \"\"\"\n",
    "        CREATE TABLE evals_summary (\n",
    "            eval_id TEXT PRIMARY KEY,\n",
    "            comuna_id INTEGER,\n",
    "            region_id INTEGER,\n",
    "            tipo_evaluacion INTEGER,\n",
    "            identificacion_vivienda TEXT,\n",
    "            tipologia TEXT,\n",
    "            comuna TEXT,\n",
    "            proyecto TEXT,\n",
    "            CE TEXT,\n",
    "            CEE TEXT,                      \n",
    "            FOREIGN KEY(comuna_id) REFERENCES comunas(comuna_id),\n",
    "            FOREIGN KEY(region_id) REFERENCES regiones(region_id)\n",
    "        )\n",
    "    \"\"\",\n",
    "    'reports_summary': \"\"\"\n",
    "        CREATE TABLE reports_summary (\n",
    "            eval_id TEXT PRIMARY KEY,\n",
    "            comuna_id INTEGER,\n",
    "            region_id INTEGER,\n",
    "            tipo_evaluacion INTEGER,\n",
    "            version_evaluacion INTEGER,\n",
    "            codigo_evaluacion TEXT,\n",
    "            pdf_file_name TEXT,\n",
    "            is_pdf_file_valid INTEGER,                                \n",
    "            FOREIGN KEY(comuna_id) REFERENCES comunas(comuna_id),\n",
    "            FOREIGN KEY(region_id) REFERENCES regiones(region_id)\n",
    "        )\n",
    "    \"\"\",\n",
    "    'informe_v2_pagina1': \"\"\"\n",
    "        CREATE TABLE informe_v2_pagina1 (\n",
    "            eval_id TEXT PRIMARY KEY,\n",
    "            tipo_evaluacion TEXT,\n",
    "            codigo_evaluacion TEXT,\n",
    "            region TEXT,\n",
    "            comuna TEXT,\n",
    "            direccion TEXT,\n",
    "            rol_vivienda_proyecto TEXT,\n",
    "            tipo_vivienda TEXT,\n",
    "            superficie_interior_util_m2 TEXT,\n",
    "            porcentaje_ahorro TEXT,\n",
    "            letra_eficiencia_energetica_dem TEXT,\n",
    "            demanda_calefaccion_kwh_m2_ano TEXT,\n",
    "            demanda_enfriamiento_kwh_m2_ano TEXT,\n",
    "            demanda_total_kwh_m2_ano TEXT,\n",
    "            emitida_el TEXT\n",
    "        )\n",
    "    \"\"\",\n",
    "    'informe_v2_pagina2': \"\"\"\n",
    "        CREATE TABLE informe_v2_pagina2 (\n",
    "            eval_id TEXT PRIMARY KEY,\n",
    "            region TEXT,\n",
    "            comuna TEXT,\n",
    "            direccion TEXT,\n",
    "            rol_vivienda TEXT,\n",
    "            tipo_vivienda TEXT,\n",
    "            zona_termica TEXT,\n",
    "            superficie_interior_util_m2 TEXT,\n",
    "            solicitado_por TEXT,\n",
    "            evaluado_por TEXT,\n",
    "            codigo_evaluacion TEXT,\n",
    "            demanda_calefaccion_kwh_m2_ano TEXT,\n",
    "            demanda_enfriamiento_kwh_m2_ano TEXT,\n",
    "            demanda_total_kwh_m2_ano TEXT,\n",
    "            demanda_total_bis_kwh_m2_ano TEXT,\n",
    "            demanda_total_referencia_kwh_m2_ano TEXT,\n",
    "            porcentaje_ahorro TEXT,\n",
    "            muro_principal_descripcion TEXT,\n",
    "            muro_principal_exigencia_W_m2_K TEXT,\n",
    "            muro_secundario_descripcion TEXT,\n",
    "            muro_secundario_exigencia_W_m2_K TEXT,\n",
    "            piso_principal_descripcion TEXT,\n",
    "            piso_principal_exigencia_W_m2_K TEXT,\n",
    "            puerta_principal_descripcion TEXT,\n",
    "            puerta_principal_exigencia_W_m2_K TEXT,\n",
    "            techo_principal_descripcion TEXT,\n",
    "            techo_principal_exigencia_W_m2_K TEXT,\n",
    "            techo_secundario_descripcion TEXT,\n",
    "            techo_secundario_exigencia_W_m2_K TEXT,\n",
    "            superficie_vidriada_principal_descripcion TEXT,\n",
    "            superficie_vidriada_principal_exigencia TEXT,\n",
    "            superficie_vidriada_secundaria_descripcion TEXT,\n",
    "            superficie_vidriada_secundaria_exigencia TEXT,\n",
    "            ventilacion_rah_descripcion TEXT,\n",
    "            ventilacion_rah_exigencia TEXT,\n",
    "            infiltraciones_rah_descripcion TEXT,\n",
    "            infiltraciones_rah_exigencia TEXT\n",
    "        )\n",
    "    \"\"\",\n",
    "    'informe_v2_pagina3_consumos': \"\"\"\n",
    "        CREATE TABLE informe_v2_pagina3_consumos (\n",
    "            eval_id TEXT PRIMARY KEY,\n",
    "            codigo_evaluacion TEXT,\n",
    "            agua_caliente_sanitaria_kwh_m2 TEXT,\n",
    "            agua_caliente_sanitaria_perc TEXT,\n",
    "            iluminacion_kwh_m2 TEXT,\n",
    "            iluminacion_per TEXT,\n",
    "            calefaccion_kwh_m2 TEXT,\n",
    "            calefaccion_kwh_per TEXT,\n",
    "            energia_renovable_no_convencional_kwh_m2 TEXT,\n",
    "            energia_renovable_no_convencional_per TEXT,\n",
    "            consumo_total_kwh_m2 TEXT,\n",
    "            emisiones_kgco2_m2_ano TEXT,\n",
    "            calefaccion_descripcion_proy TEXT,\n",
    "            calefaccion_consumo_proy_kwh TEXT,\n",
    "            calefaccion_consumo_proy_per TEXT,\n",
    "            iluminacion_descripcion_proy TEXT,\n",
    "            iluminacion_consumo_proy_kwh TEXT,\n",
    "            iluminacion_consumo_proy_per TEXT,\n",
    "            agua_caliente_sanitaria_descripcion_proy TEXT,\n",
    "            agua_caliente_sanitaria_consumo_proy_kwh TEXT,\n",
    "            agua_caliente_sanitaria_consumo_proy_per TEXT,\n",
    "            energia_renovable_no_convencional_descripcion_proy TEXT,\n",
    "            energia_renovable_no_convencional_consumo_proy_kwh TEXT,\n",
    "            energia_renovable_no_convencional_consumo_proy_per TEXT,\n",
    "            consumo_total_requerido_proy_kwh TEXT,\n",
    "            calefaccion_descripcion_ref TEXT,\n",
    "            calefaccion_consumo_ref_kwh TEXT,\n",
    "            calefaccion_consumo_ref_per TEXT,\n",
    "            iluminacion_descripcion_ref TEXT,\n",
    "            iluminacion_consumo_ref_kwh TEXT,\n",
    "            iluminacion_consumo_ref_per TEXT,\n",
    "            agua_caliente_sanitaria_descripcion_ref TEXT,\n",
    "            agua_caliente_sanitaria_consumo_ref_kwh TEXT,\n",
    "            agua_caliente_sanitaria_consumo_ref_per TEXT,\n",
    "            energia_renovable_no_convencional_descripcion_ref TEXT,\n",
    "            energia_renovable_no_convencional_consumo_ref_kwh TEXT,\n",
    "            energia_renovable_no_convencional_consumo_ref_per TEXT,\n",
    "            consumo_total_requerido_ref_kwh TEXT,\n",
    "            consumo_ep_calefaccion_kwh TEXT,\n",
    "            consumo_ep_agua_caliente_sanitaria_kwh TEXT,\n",
    "            consumo_ep_iluminacion_kwh TEXT,\n",
    "            consumo_ep_ventiladores_kwh TEXT,\n",
    "            generacion_ep_fotovoltaicos_kwh TEXT,\n",
    "            aporte_fotovoltaicos_consumos_basicos_kwh TEXT,\n",
    "            diferencia_fotovoltaica_para_consumo_kwh TEXT,\n",
    "            aporte_solar_termica_consumos_basicos_kwh TEXT,\n",
    "            aporte_solar_termica_agua_caliente_sanitaria_kwh TEXT,\n",
    "            total_consumo_ep_antes_fotovoltaica_kwh TEXT,\n",
    "            aporte_fotovoltaicos_consumos_basicos_kwh_bis TEXT,\n",
    "            consumos_basicos_a_suplir_kwh TEXT,\n",
    "            consumo_total_ep_obj_kwh TEXT,\n",
    "            consumo_total_ep_ref_kwh TEXT,\n",
    "            coeficiente_energetico_c TEXT\n",
    "        )\n",
    "    \"\"\",\n",
    "    'informe_v2_pagina3_envolvente': \"\"\"\n",
    "        CREATE TABLE informe_v2_pagina3_envolvente (\n",
    "            eval_id TEXT PRIMARY KEY,\n",
    "            codigo_evaluacion TEXT,\n",
    "            orientacion TEXT,\n",
    "            elementos_opacos_area_m2 TEXT,\n",
    "            elementos_opacos_U_W_m2_K TEXT,\n",
    "            elementos_traslucidos_area_m2 TEXT,\n",
    "            elementos_traslucidos_U_W_m2_K TEXT,\n",
    "            P01_W_K TEXT,\n",
    "            P02_W_K TEXT,\n",
    "            P03_W_K TEXT,\n",
    "            P04_W_K TEXT,\n",
    "            P05_W_K TEXT,\n",
    "            UA_phiL TEXT\n",
    "        )\n",
    "    \"\"\",\n",
    "    'informe_v2_pagina4': \"\"\"\n",
    "        CREATE TABLE informe_v2_pagina4 (\n",
    "            eval_id TEXT PRIMARY KEY,\n",
    "            codigo_evaluacion TEXT,\n",
    "            mes_id TEXT,\n",
    "            demanda_calef_viv_eval_kwh TEXT,\n",
    "            demanda_calef_viv_eval_comment TEXT,\n",
    "            demanda_calef_viv_ref_kwh TEXT,\n",
    "            demanda_calef_viv_ref_comment TEXT,\n",
    "            demanda_enfri_viv_eval_kwh TEXT,\n",
    "            demanda_enfri_viv_eval_comment TEXT,\n",
    "            demanda_enfri_viv_ref_kwh TEXT,\n",
    "            demanda_enfri_viv_ref_comment TEXT,\n",
    "            sobrecalentamiento_viv_eval_hr TEXT,\n",
    "            sobrecalentamiento_viv_eval_comment TEXT,\n",
    "            sobrecalentamiento_viv_ref_hr TEXT,\n",
    "            sobrecalentamiento_viv_ref_comment TEXT,\n",
    "            sobreenfriamiento_viv_eval_hr TEXT,\n",
    "            sobreenfriamiento_viv_eval_comment TEXT,\n",
    "            sobreenfriamiento_viv_ref_hr TEXT,\n",
    "            sobreenfriamiento_viv_ref_comment TEXT\n",
    "        )\n",
    "    \"\"\",\n",
    "    'informe_v2_pagina5': \"\"\"\n",
    "        CREATE TABLE informe_v2_pagina5 (\n",
    "            eval_id TEXT PRIMARY KEY,\n",
    "            codigo_evaluacion TEXT,\n",
    "            content TEXT\n",
    "        )\n",
    "    \"\"\",\n",
    "    'informe_v2_pagina6': \"\"\"\n",
    "        CREATE TABLE informe_v2_pagina6 (\n",
    "            eval_id TEXT PRIMARY KEY,\n",
    "            codigo_evaluacion TEXT,\n",
    "            content TEXT\n",
    "        )\n",
    "    \"\"\",\n",
    "    'informe_v2_pagina7': \"\"\"\n",
    "        CREATE TABLE informe_v2_pagina7 (\n",
    "            eval_id TEXT PRIMARY KEY,\n",
    "            codigo_evaluacion TEXT,\n",
    "            mandante_nombre TEXT,\n",
    "            mandante_rut TEXT,\n",
    "            evaluador_nombre TEXT,\n",
    "            evaluador_rut TEXT,\n",
    "            evaluador_rol_minvu TEXT\n",
    "        )\n",
    "    \"\"\"\n",
    "    \n",
    "    \n",
    "}"
   ]
  },
  {
   "cell_type": "markdown",
   "id": "eb526bd0",
   "metadata": {},
   "source": [
    "### 2.2) Create Tables"
   ]
  },
  {
   "cell_type": "code",
   "execution_count": 5,
   "id": "06a1c699",
   "metadata": {},
   "outputs": [
    {
     "name": "stdout",
     "output_type": "stream",
     "text": [
      "Table 'regiones' created successfully.\n",
      "Table 'comunas' created successfully.\n",
      "Table 'evals_summary' created successfully.\n",
      "Table 'reports_summary' created successfully.\n",
      "Table 'informe_v2_pagina1' created successfully.\n",
      "Table 'informe_v2_pagina2' created successfully.\n",
      "Table 'informe_v2_pagina3_consumos' created successfully.\n",
      "Table 'informe_v2_pagina3_envolvente' created successfully.\n",
      "Table 'informe_v2_pagina4' created successfully.\n",
      "Table 'informe_v2_pagina5' created successfully.\n",
      "Table 'informe_v2_pagina6' created successfully.\n",
      "Table 'informe_v2_pagina7' created successfully.\n"
     ]
    }
   ],
   "source": [
    "create_tables(db_file_path, table_queries)"
   ]
  },
  {
   "cell_type": "markdown",
   "id": "1ee42b02",
   "metadata": {},
   "source": [
    "### 2.3) Populating Tables"
   ]
  },
  {
   "cell_type": "markdown",
   "id": "f085151c",
   "metadata": {},
   "source": [
    "#### 2.3.1) Tabla `Regiones`"
   ]
  },
  {
   "cell_type": "code",
   "execution_count": 6,
   "id": "a2acd4d4",
   "metadata": {},
   "outputs": [],
   "source": [
    "# Region names and corresponding Ids    \n",
    "with open(os.path.join(project_folder_path, 'utils/json_files/region_name__region_id.json')) as json_file:\n",
    "    region_name__region_id_dict = json.load(json_file)\n",
    "    \n",
    "# Invert the dictionary\n",
    "region_id__region_name_dict = {value: key for key, value in region_name__region_id_dict.items()}\n",
    "\n",
    "# Create dataframe from dictionary\n",
    "regiones_df = pd.DataFrame(list(region_id__region_name_dict.items()), columns=['region_id', 'region_name'])\n",
    "regiones_df['region_id'] = regiones_df['region_id'].astype(int)"
   ]
  },
  {
   "cell_type": "code",
   "execution_count": 7,
   "id": "4b1003c9",
   "metadata": {},
   "outputs": [
    {
     "name": "stdout",
     "output_type": "stream",
     "text": [
      "Table 'regiones' filled successfully.\n"
     ]
    }
   ],
   "source": [
    "# Fill table Regiones\n",
    "fill_table_from_dataframe(db_file_path, 'regiones', regiones_df)"
   ]
  },
  {
   "cell_type": "markdown",
   "id": "4c3b9958",
   "metadata": {},
   "source": [
    "#### 2.3.2) Tabla `Comunas`"
   ]
  },
  {
   "cell_type": "code",
   "execution_count": 8,
   "id": "ec74713d",
   "metadata": {},
   "outputs": [
    {
     "data": {
      "text/html": [
       "<div>\n",
       "<style scoped>\n",
       "    .dataframe tbody tr th:only-of-type {\n",
       "        vertical-align: middle;\n",
       "    }\n",
       "\n",
       "    .dataframe tbody tr th {\n",
       "        vertical-align: top;\n",
       "    }\n",
       "\n",
       "    .dataframe thead th {\n",
       "        text-align: right;\n",
       "    }\n",
       "</style>\n",
       "<table border=\"1\" class=\"dataframe\">\n",
       "  <thead>\n",
       "    <tr style=\"text-align: right;\">\n",
       "      <th></th>\n",
       "      <th>comuna_id</th>\n",
       "      <th>comuna_name</th>\n",
       "    </tr>\n",
       "  </thead>\n",
       "  <tbody>\n",
       "    <tr>\n",
       "      <th>0</th>\n",
       "      <td>1</td>\n",
       "      <td>Algarrobo</td>\n",
       "    </tr>\n",
       "    <tr>\n",
       "      <th>1</th>\n",
       "      <td>2</td>\n",
       "      <td>Alhué</td>\n",
       "    </tr>\n",
       "    <tr>\n",
       "      <th>2</th>\n",
       "      <td>3</td>\n",
       "      <td>Alto Biobío</td>\n",
       "    </tr>\n",
       "    <tr>\n",
       "      <th>3</th>\n",
       "      <td>4</td>\n",
       "      <td>Alto del Carmen</td>\n",
       "    </tr>\n",
       "    <tr>\n",
       "      <th>4</th>\n",
       "      <td>5</td>\n",
       "      <td>Alto Hospicio</td>\n",
       "    </tr>\n",
       "  </tbody>\n",
       "</table>\n",
       "</div>"
      ],
      "text/plain": [
       "   comuna_id      comuna_name\n",
       "0          1        Algarrobo\n",
       "1          2            Alhué\n",
       "2          3      Alto Biobío\n",
       "3          4  Alto del Carmen\n",
       "4          5    Alto Hospicio"
      ]
     },
     "execution_count": 8,
     "metadata": {},
     "output_type": "execute_result"
    }
   ],
   "source": [
    "# Commune Id and corresponding Commune Name       \n",
    "with open(os.path.join(project_folder_path, 'utils/json_files/commune_id__commune_name.json')) as json_file:\n",
    "    commune_id__commune_name_dict = json.load(json_file)\n",
    "# Create dataframe from dictionary\n",
    "comunas_df = pd.DataFrame(list(commune_id__commune_name_dict.items()), columns=['comuna_id', 'comuna_name'])\n",
    "comunas_df['comuna_id'] = comunas_df['comuna_id'].astype(int)\n",
    "comunas_df.head()  "
   ]
  },
  {
   "cell_type": "code",
   "execution_count": 9,
   "id": "4a46726f",
   "metadata": {},
   "outputs": [
    {
     "data": {
      "text/html": [
       "<div>\n",
       "<style scoped>\n",
       "    .dataframe tbody tr th:only-of-type {\n",
       "        vertical-align: middle;\n",
       "    }\n",
       "\n",
       "    .dataframe tbody tr th {\n",
       "        vertical-align: top;\n",
       "    }\n",
       "\n",
       "    .dataframe thead th {\n",
       "        text-align: right;\n",
       "    }\n",
       "</style>\n",
       "<table border=\"1\" class=\"dataframe\">\n",
       "  <thead>\n",
       "    <tr style=\"text-align: right;\">\n",
       "      <th></th>\n",
       "      <th>comuna_id</th>\n",
       "      <th>comuna_name</th>\n",
       "      <th>region_id</th>\n",
       "    </tr>\n",
       "  </thead>\n",
       "  <tbody>\n",
       "    <tr>\n",
       "      <th>0</th>\n",
       "      <td>1</td>\n",
       "      <td>Algarrobo</td>\n",
       "      <td>5</td>\n",
       "    </tr>\n",
       "    <tr>\n",
       "      <th>1</th>\n",
       "      <td>2</td>\n",
       "      <td>Alhué</td>\n",
       "      <td>13</td>\n",
       "    </tr>\n",
       "    <tr>\n",
       "      <th>2</th>\n",
       "      <td>3</td>\n",
       "      <td>Alto Biobío</td>\n",
       "      <td>8</td>\n",
       "    </tr>\n",
       "    <tr>\n",
       "      <th>3</th>\n",
       "      <td>4</td>\n",
       "      <td>Alto del Carmen</td>\n",
       "      <td>3</td>\n",
       "    </tr>\n",
       "    <tr>\n",
       "      <th>4</th>\n",
       "      <td>5</td>\n",
       "      <td>Alto Hospicio</td>\n",
       "      <td>1</td>\n",
       "    </tr>\n",
       "  </tbody>\n",
       "</table>\n",
       "</div>"
      ],
      "text/plain": [
       "   comuna_id      comuna_name  region_id\n",
       "0          1        Algarrobo          5\n",
       "1          2            Alhué         13\n",
       "2          3      Alto Biobío          8\n",
       "3          4  Alto del Carmen          3\n",
       "4          5    Alto Hospicio          1"
      ]
     },
     "execution_count": 9,
     "metadata": {},
     "output_type": "execute_result"
    }
   ],
   "source": [
    "# Region Id and corresponding Communes Ids       \n",
    "with open(os.path.join(project_folder_path, 'utils/json_files/region_id__commune_id.json')) as json_file:\n",
    "    region_id__commune_id_dict = json.load(json_file)\n",
    "# Transform the dictionary 'region_id__commune_id_dict' into a list of dictionaries\n",
    "data_list = []\n",
    "for key, values in region_id__commune_id_dict.items():\n",
    "    for value in values:\n",
    "        data_list.append({'comuna_id': value, 'region_id': key})\n",
    "# Create a DataFrame from the list of dictionaries\n",
    "comuna_region_df = pd.DataFrame(data_list)\n",
    "comuna_region_df['comuna_id'] = comuna_region_df['comuna_id'].astype(int)\n",
    "comuna_region_df['region_id'] = comuna_region_df['region_id'].astype(int)\n",
    "# Add region_id column to dataframe\n",
    "comunas_df = pd.merge(comunas_df, comuna_region_df, on='comuna_id', how='left')\n",
    "comunas_df.head()"
   ]
  },
  {
   "cell_type": "code",
   "execution_count": 10,
   "id": "a708e25c",
   "metadata": {},
   "outputs": [
    {
     "name": "stdout",
     "output_type": "stream",
     "text": [
      "Table 'comunas' filled successfully.\n"
     ]
    }
   ],
   "source": [
    "# Fill table Comunas\n",
    "fill_table_from_dataframe(db_file_path, 'comunas', comunas_df)"
   ]
  },
  {
   "cell_type": "markdown",
   "id": "3849c47e",
   "metadata": {},
   "source": [
    "**Remaining tables are filled in next steps !!!**"
   ]
  },
  {
   "cell_type": "markdown",
   "id": "87da89ba",
   "metadata": {},
   "source": [
    "## END"
   ]
  }
 ],
 "metadata": {
  "kernelspec": {
   "display_name": "Python 3 (ipykernel)",
   "language": "python",
   "name": "python3"
  },
  "language_info": {
   "codemirror_mode": {
    "name": "ipython",
    "version": 3
   },
   "file_extension": ".py",
   "mimetype": "text/x-python",
   "name": "python",
   "nbconvert_exporter": "python",
   "pygments_lexer": "ipython3",
   "version": "3.11.9"
  }
 },
 "nbformat": 4,
 "nbformat_minor": 5
}
