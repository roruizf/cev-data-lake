{
  "cells": [
    {
      "cell_type": "code",
      "execution_count": null,
      "id": "g1YtgnUP6SWJ",
      "metadata": {
        "colab": {
          "base_uri": "https://localhost:8080/"
        },
        "id": "g1YtgnUP6SWJ",
        "outputId": "918538c9-b336-4920-b05b-c1ab66363abf"
      },
      "outputs": [],
      "source": [
        "import requests\n",
        "import time\n",
        "from datetime import datetime\n",
        "import pandas as pd\n",
        "import os\n",
        "import json\n",
        "import uuid\n",
        "import sqlite3\n",
        "import sys\n",
        "from dotenv import load_dotenv\n",
        "# Load the .env file\n",
        "load_dotenv()\n",
        "# Access the environment variables\n",
        "project_folder_path = os.getenv('PROJECT_FOLDER_PATH')\n",
        "print(project_folder_path)\n",
        "sys.path.append(project_folder_path)\n",
        "from utils.db_functs import *\n",
        "from utils.requests_functs import *\n",
        "from utils.html_functs import *\n",
        "from utils.pdf_functs import *\n",
        "from utils.utils_functs import *"
      ]
    },
    {
      "cell_type": "markdown",
      "id": "c0366616",
      "metadata": {
        "id": "c0366616"
      },
      "source": [
        "### Database and directories"
      ]
    },
    {
      "cell_type": "code",
      "execution_count": null,
      "id": "6c147be4",
      "metadata": {
        "id": "6c147be4"
      },
      "outputs": [],
      "source": [
        "db_file_name = 'cev-database-reports-v1.db'\n",
        "db_file_path = os.path.join(project_folder_path, 'data', 'sqlite', db_file_name)"
      ]
    },
    {
      "cell_type": "markdown",
      "id": "4026074b",
      "metadata": {
        "id": "4026074b"
      },
      "source": [
        "## **1) Define all reports to be scraped `reports_summary`**"
      ]
    },
    {
      "cell_type": "markdown",
      "id": "mJ6no1ei__PV",
      "metadata": {
        "id": "mJ6no1ei__PV"
      },
      "source": [
        "### 1.1) Get all reports stored in table `reports_summary`"
      ]
    },
    {
      "cell_type": "code",
      "execution_count": null,
      "id": "840cb1f2",
      "metadata": {
        "colab": {
          "base_uri": "https://localhost:8080/"
        },
        "id": "840cb1f2",
        "outputId": "39dc6882-f8ff-40c7-850e-455d7fc87637"
      },
      "outputs": [],
      "source": [
        "query = f\"\"\"\n",
        "        SELECT * FROM reports_summary;\n",
        "        \"\"\"\n",
        "print(query)"
      ]
    },
    {
      "cell_type": "code",
      "execution_count": null,
      "id": "5c740005",
      "metadata": {
        "colab": {
          "base_uri": "https://localhost:8080/",
          "height": 397
        },
        "id": "5c740005",
        "outputId": "d6ab947d-b2ae-404d-a9a4-7a72aea3abae"
      },
      "outputs": [],
      "source": [
        "summary_df = create_dataframe_from_query(db_file_path, query)\n",
        "print(f'{summary_df.shape[0]} evals loaded')\n",
        "summary_df.head()"
      ]
    },
    {
      "cell_type": "markdown",
      "id": "v6vom4MC_Tsv",
      "metadata": {
        "id": "v6vom4MC_Tsv"
      },
      "source": [
        "### 1.2) Filter only those corresponding to version_evaluacion 2"
      ]
    },
    {
      "cell_type": "code",
      "execution_count": null,
      "id": "UUCQF1mA8Ha4",
      "metadata": {
        "colab": {
          "base_uri": "https://localhost:8080/"
        },
        "id": "UUCQF1mA8Ha4",
        "outputId": "8f76ae77-5286-42ee-8198-e4fd88c4ea5e"
      },
      "outputs": [],
      "source": [
        "summary_df = summary_df[summary_df['version_evaluacion'] == 2].reset_index(drop=True)\n",
        "print(f'{summary_df.shape[0]} rows corresponding to version_evaluacion 2')\n",
        "summary_df.head()\n",
        "summary_df['tipo_evaluacion'].value_counts()"
      ]
    },
    {
      "cell_type": "markdown",
      "id": "YJ2DS-dg90k5",
      "metadata": {
        "id": "YJ2DS-dg90k5"
      },
      "source": [
        "### 1.3) Get all those reports already scraped"
      ]
    },
    {
      "cell_type": "code",
      "execution_count": null,
      "id": "rkbqjOCl95SV",
      "metadata": {
        "colab": {
          "base_uri": "https://localhost:8080/"
        },
        "id": "rkbqjOCl95SV",
        "outputId": "c9a455b7-21d1-4989-9c96-e9196bf3823d"
      },
      "outputs": [],
      "source": [
        "query2 = f\"\"\"\n",
        "        SELECT eval_id, codigo_evaluacion FROM informe_v2_pagina7;\n",
        "        \"\"\"\n",
        "print(query2)"
      ]
    },
    {
      "cell_type": "code",
      "execution_count": null,
      "id": "6fMTPLoQ-N6d",
      "metadata": {
        "colab": {
          "base_uri": "https://localhost:8080/",
          "height": 70
        },
        "id": "6fMTPLoQ-N6d",
        "outputId": "ed7a7dbe-29fa-4e47-eac7-c2e92386c088"
      },
      "outputs": [],
      "source": [
        "scraped_df = create_dataframe_from_query(db_file_path, query2)\n",
        "print(f'{scraped_df.shape[0]} evals loaded')\n",
        "scraped_df.head()"
      ]
    },
    {
      "cell_type": "markdown",
      "id": "S9_fmDRS_rGp",
      "metadata": {
        "id": "S9_fmDRS_rGp"
      },
      "source": [
        "### 1.4) Remove all those reports already scraped"
      ]
    },
    {
      "cell_type": "code",
      "execution_count": null,
      "id": "Bi6f7dl_HeCH",
      "metadata": {
        "colab": {
          "base_uri": "https://localhost:8080/"
        },
        "id": "Bi6f7dl_HeCH",
        "outputId": "3e120875-43b7-4c6e-ffea-5b7fd38592c7"
      },
      "outputs": [],
      "source": [
        "# Filter out rows where 'eval_id' is in the eval_ids list\n",
        "eval_ids = scraped_df['eval_id'].to_list()\n",
        "to_scrape_df = summary_df[~summary_df['eval_id'].isin(eval_ids)].reset_index(drop=True)\n",
        "print(f'{to_scrape_df.shape[0]} evals to be scraped')"
      ]
    },
    {
      "cell_type": "markdown",
      "id": "b66ac473",
      "metadata": {
        "id": "b66ac473"
      },
      "source": [
        "## **2) Scrape pdf files**"
      ]
    },
    {
      "cell_type": "code",
      "execution_count": null,
      "id": "gCzZ8XxDBxsc",
      "metadata": {
        "colab": {
          "base_uri": "https://localhost:8080/",
          "height": 380
        },
        "id": "gCzZ8XxDBxsc",
        "outputId": "2c498592-63fa-47ff-90fd-ee77da3529a0"
      },
      "outputs": [],
      "source": [
        "# Shuffle the DataFrame\n",
        "to_scrape_df = to_scrape_df.sample(frac=1).reset_index(drop=True)\n",
        "to_scrape_df = to_scrape_df.head(5)\n",
        "to_scrape_df.head()"
      ]
    },
    {
      "cell_type": "code",
      "execution_count": null,
      "id": "M76CQU05_82D",
      "metadata": {
        "colab": {
          "base_uri": "https://localhost:8080/"
        },
        "id": "M76CQU05_82D",
        "outputId": "80b69b47-218c-4c13-a742-d59a7c00250f"
      },
      "outputs": [],
      "source": [
        "# Parameters\n",
        "chunk_size = 5  # Adjust based on your memory and performance needs\n",
        "\n",
        "# Initialize an empty list to store results\n",
        "all_chunks_results = []\n",
        "\n",
        "# Process the dataframe in chunks\n",
        "for start in range(0, to_scrape_df.shape[0], chunk_size):\n",
        "    print(f'Chunk {list(range(0, to_scrape_df.shape[0], chunk_size)).index(start) + 1} out of {len(range(0, to_scrape_df.shape[0], chunk_size))}')\n",
        "    chunk = to_scrape_df.iloc[start:start+chunk_size]\n",
        "    chunk_results = []\n",
        "    # Initialize an empty dataframe\n",
        "    start_time = time.time()\n",
        "    informe_v2_pagina1_df = pd.DataFrame()\n",
        "    informe_v2_pagina2_df = pd.DataFrame()\n",
        "    informe_v2_pagina3_consumos_df = pd.DataFrame()\n",
        "    informe_v2_pagina3_envolvente_df = pd.DataFrame()\n",
        "    informe_v2_pagina4_df = pd.DataFrame()\n",
        "    informe_v2_pagina5_df = pd.DataFrame()\n",
        "    informe_v2_pagina6_df = pd.DataFrame()\n",
        "    informe_v2_pagina7_df = pd.DataFrame()\n",
        "\n",
        "    for index, row in chunk.iterrows():\n",
        "        if (index + 1) % max(chunk_size // 10, 1) == 0:\n",
        "            print(f'    * Report {index+1} out of {to_scrape_df.shape[0]}')\n",
        "\n",
        "        # Check if report is v2\n",
        "        pdf_report = os.path.join(project_folder_path, 'data', 'raw', '3_evals_reports', 'pdf_files', str(row['region_id']), str(row['pdf_file_name']))\n",
        "        pdf_report = fitz.open(pdf_report)\n",
        "        if str(row['version_evaluacion']) == '2':\n",
        "            v2 = True\n",
        "        else:\n",
        "            v2 = False\n",
        "\n",
        "        if v2:\n",
        "            #print(pdf_file_path)\n",
        "            informe_v2_pagina1_df_i = scrape_informe_cev_v2_pagina1(pdf_report)\n",
        "            informe_v2_pagina1_df_i.insert(0, 'eval_id', row['eval_id'])\n",
        "            informe_v2_pagina1_df = pd.concat([informe_v2_pagina1_df, informe_v2_pagina1_df_i], axis=0).reset_index(drop=True)\n",
        "\n",
        "            informe_v2_pagina2_df_i = scrape_informe_cev_v2_pagina2(pdf_report)\n",
        "            informe_v2_pagina2_df_i.insert(0, 'eval_id', row['eval_id'])\n",
        "            informe_v2_pagina2_df = pd.concat([informe_v2_pagina2_df, informe_v2_pagina2_df_i], axis=0).reset_index(drop=True)\n",
        "\n",
        "            informe_v2_pagina3_consumos_df_i = scrape_informe_cev_v2_pagina3_consumos(pdf_report)\n",
        "            informe_v2_pagina3_consumos_df_i.insert(0, 'eval_id', row['eval_id'])\n",
        "            informe_v2_pagina3_consumos_df = pd.concat([informe_v2_pagina3_consumos_df, informe_v2_pagina3_consumos_df_i], axis=0).reset_index(drop=True)\n",
        "\n",
        "            informe_v2_pagina3_envolvente_df_i = scrape_informe_cev_v2_pagina3_envolvente(pdf_report)\n",
        "            informe_v2_pagina3_envolvente_df_i.insert(0, 'eval_id', row['eval_id'])\n",
        "            informe_v2_pagina3_envolvente_df = pd.concat([informe_v2_pagina3_envolvente_df, informe_v2_pagina3_envolvente_df_i], axis=0).reset_index(drop=True)\n",
        "\n",
        "            informe_v2_pagina4_df_i = scrape_informe_cev_v2_pagina4(pdf_report)\n",
        "            informe_v2_pagina4_df_i.insert(0, 'eval_id', row['eval_id'])\n",
        "            informe_v2_pagina4_df = pd.concat([informe_v2_pagina4_df, informe_v2_pagina4_df_i], axis=0).reset_index(drop=True)\n",
        "\n",
        "            informe_v2_pagina5_df_i = scrape_informe_cev_v2_pagina5(pdf_report)\n",
        "            informe_v2_pagina5_df_i.insert(0, 'eval_id', row['eval_id'])\n",
        "            informe_v2_pagina5_df = pd.concat([informe_v2_pagina5_df, informe_v2_pagina5_df_i], axis=0).reset_index(drop=True)\n",
        "\n",
        "            informe_v2_pagina6_df_i = scrape_informe_cev_v2_pagina6(pdf_report)\n",
        "            informe_v2_pagina6_df_i.insert(0, 'eval_id', row['eval_id'])\n",
        "            informe_v2_pagina6_df = pd.concat([informe_v2_pagina6_df, informe_v2_pagina6_df_i], axis=0).reset_index(drop=True)\n",
        "\n",
        "            informe_v2_pagina7_df_i = scrape_informe_cev_v2_pagina7(pdf_report)\n",
        "            informe_v2_pagina7_df_i.insert(0, 'eval_id', row['eval_id'])\n",
        "            informe_v2_pagina7_df = pd.concat([informe_v2_pagina7_df, informe_v2_pagina7_df_i], axis=0).reset_index(drop=True)\n",
        "            \n",
        "            # Close the PDF document\n",
        "            pdf_report.close()\n",
        "\n",
        "    # Insert into data base\n",
        "    insert_unique_rows_from_dataframe(db_file_path, 'informe_v2_pagina1', informe_v2_pagina1_df, unique_columns=['eval_id'])\n",
        "    insert_unique_rows_from_dataframe(db_file_path, 'informe_v2_pagina2', informe_v2_pagina2_df, unique_columns=['eval_id'])\n",
        "    insert_unique_rows_from_dataframe(db_file_path, 'informe_v2_pagina3_consumos', informe_v2_pagina3_consumos_df, unique_columns=['eval_id'])\n",
        "    insert_unique_rows_from_dataframe(db_file_path, 'informe_v2_pagina3_envolvente', informe_v2_pagina3_envolvente_df, unique_columns=['eval_id', 'codigo_evaluacion', 'orientacion'])\n",
        "    insert_unique_rows_from_dataframe(db_file_path, 'informe_v2_pagina4', informe_v2_pagina4_df, unique_columns=['eval_id', 'codigo_evaluacion', 'mes_id'])\n",
        "    insert_unique_rows_from_dataframe(db_file_path, 'informe_v2_pagina5', informe_v2_pagina5_df, unique_columns=['eval_id'])\n",
        "    insert_unique_rows_from_dataframe(db_file_path, 'informe_v2_pagina6', informe_v2_pagina6_df, unique_columns=['eval_id'])\n",
        "    insert_unique_rows_from_dataframe(db_file_path, 'informe_v2_pagina7', informe_v2_pagina7_df, unique_columns=['eval_id'])\n",
        "\n",
        "    # memory release\n",
        "    del informe_v2_pagina1_df\n",
        "    del informe_v2_pagina2_df\n",
        "    del informe_v2_pagina3_consumos_df\n",
        "    del informe_v2_pagina3_envolvente_df\n",
        "    del informe_v2_pagina4_df\n",
        "    del informe_v2_pagina5_df\n",
        "    del informe_v2_pagina6_df\n",
        "    del informe_v2_pagina7_df\n",
        "\n",
        "end_time = time.time()\n",
        "execution_time = end_time - start_time\n",
        "print(\"Script execution time:\", execution_time, \"seconds\")"
      ]
    },
    {
      "cell_type": "code",
      "execution_count": null,
      "id": "2009dcba",
      "metadata": {},
      "outputs": [],
      "source": [
        "informe_v2_pagina4_df"
      ]
    },
    {
      "cell_type": "markdown",
      "id": "577f8d3f",
      "metadata": {
        "id": "577f8d3f"
      },
      "source": [
        "insert_unique_rows_from_dataframe(db_file_path, 'informe_v2_pagina1', informe_v2_pagina1_df, unique_columns=['eval_id'])\n",
        "insert_unique_rows_from_dataframe(db_file_path, 'informe_v2_pagina2', informe_v2_pagina2_df, unique_columns=['eval_id'])\n",
        "insert_unique_rows_from_dataframe(db_file_path, 'informe_v2_pagina3_consumos', informe_v2_pagina3_consumos_df, unique_columns=['eval_id'])\n",
        "insert_unique_rows_from_dataframe(db_file_path, 'informe_v2_pagina3_envolvente', informe_v2_pagina3_envolvente_df, unique_columns=['eval_id'])\n",
        "insert_unique_rows_from_dataframe(db_file_path, 'informe_v2_pagina4', informe_v2_pagina4_df, unique_columns=['eval_id'])\n",
        "insert_unique_rows_from_dataframe(db_file_path, 'informe_v2_pagina5', informe_v2_pagina5_df, unique_columns=['eval_id'])\n",
        "insert_unique_rows_from_dataframe(db_file_path, 'informe_v2_pagina6', informe_v2_pagina6_df, unique_columns=['eval_id'])\n",
        "insert_unique_rows_from_dataframe(db_file_path, 'informe_v2_pagina7', informe_v2_pagina7_df, unique_columns=['eval_id'])"
      ]
    },
    {
      "cell_type": "markdown",
      "id": "926f4ba2",
      "metadata": {
        "id": "926f4ba2"
      },
      "source": [
        "### Save Excel"
      ]
    },
    {
      "cell_type": "markdown",
      "id": "884d58de",
      "metadata": {
        "id": "884d58de"
      },
      "source": [
        "excel_file_path = './reports_summary.xlsx'"
      ]
    },
    {
      "cell_type": "markdown",
      "id": "4e5ed82b",
      "metadata": {
        "id": "4e5ed82b",
        "outputId": "937b9f15-4ab6-4810-f1c1-ea9101bdaae2"
      },
      "source": [
        "replace_sheet_content(excel_file_path, 'summary', summary_df)\n",
        "replace_sheet_content(excel_file_path, 'informe_v2_pagina1', informe_v2_pagina1_df)\n",
        "replace_sheet_content(excel_file_path, 'informe_v2_pagina2', informe_v2_pagina2_df)\n",
        "replace_sheet_content(excel_file_path, 'informe_v2_pagina3_consumos', informe_v2_pagina3_consumos_df)\n",
        "replace_sheet_content(excel_file_path, 'informe_v2_pagina3_envolvente', informe_v2_pagina3_envolvente_df)\n",
        "replace_sheet_content(excel_file_path, 'informe_v2_pagina4', informe_v2_pagina4_df)\n",
        "replace_sheet_content(excel_file_path, 'informe_v2_pagina5', informe_v2_pagina5_df)\n",
        "replace_sheet_content(excel_file_path, 'informe_v2_pagina6', informe_v2_pagina6_df)\n",
        "replace_sheet_content(excel_file_path, 'informe_v2_pagina7', informe_v2_pagina7_df)"
      ]
    }
  ],
  "metadata": {
    "colab": {
      "provenance": []
    },
    "kernelspec": {
      "display_name": "Python 3 (ipykernel)",
      "language": "python",
      "name": "python3"
    },
    "language_info": {
      "codemirror_mode": {
        "name": "ipython",
        "version": 3
      },
      "file_extension": ".py",
      "mimetype": "text/x-python",
      "name": "python",
      "nbconvert_exporter": "python",
      "pygments_lexer": "ipython3",
      "version": "3.9.7"
    }
  },
  "nbformat": 4,
  "nbformat_minor": 5
}
