{
 "cells": [
  {
   "cell_type": "code",
   "execution_count": null,
   "id": "704245b5",
   "metadata": {},
   "outputs": [],
   "source": [
    "import requests\n",
    "import time\n",
    "from datetime import datetime\n",
    "import pandas as pd\n",
    "import os\n",
    "import json\n",
    "import uuid\n",
    "import sqlite3\n",
    "import sys\n",
    "from dotenv import load_dotenv\n",
    "# Load the .env file\n",
    "load_dotenv()\n",
    "# Access the environment variables\n",
    "project_folder_path = os.getenv('PROJECT_FOLDER_PATH')\n",
    "print(project_folder_path)\n",
    "sys.path.append(project_folder_path)\n",
    "from utils.db_functs import *\n",
    "from utils.requests_functs import *\n",
    "from utils.html_functs import *\n",
    "from utils.pdf_functs import *\n",
    "from utils.utils_functs import *"
   ]
  },
  {
   "cell_type": "markdown",
   "id": "c0366616",
   "metadata": {},
   "source": [
    "### Database and directories"
   ]
  },
  {
   "cell_type": "code",
   "execution_count": null,
   "id": "6c147be4",
   "metadata": {},
   "outputs": [],
   "source": [
    "db_file_name = 'cev-database-reports-v1.db'\n",
    "db_file_path = os.path.join(project_folder_path, 'data', 'sqlite', db_file_name)"
   ]
  },
  {
   "cell_type": "markdown",
   "id": "4026074b",
   "metadata": {},
   "source": [
    "## 1) Define a dataframe with download coordinates\n",
    "The dataframe must contain 1 row per `comuna` meaning 348 rows in total."
   ]
  },
  {
   "cell_type": "code",
   "execution_count": null,
   "id": "840cb1f2",
   "metadata": {},
   "outputs": [],
   "source": [
    "query = f\"\"\"\n",
    "        SELECT * FROM reports_summary;\n",
    "        \"\"\"\n",
    "print(query)"
   ]
  },
  {
   "cell_type": "code",
   "execution_count": null,
   "id": "5c740005",
   "metadata": {},
   "outputs": [],
   "source": [
    "summary_df = create_dataframe_from_query(db_file_path, query)\n",
    "summary_df.head()"
   ]
  },
  {
   "cell_type": "markdown",
   "id": "530862c4",
   "metadata": {},
   "source": [
    "Set additional features to track the status of downloads as well as times and file names"
   ]
  },
  {
   "cell_type": "markdown",
   "id": "95a20f27",
   "metadata": {},
   "source": [
    "## 3) Check first if any pdf files has been downloaded\n",
    "This is useful in case a seach has been run and has not completed"
   ]
  },
  {
   "cell_type": "markdown",
   "id": "022334c2",
   "metadata": {},
   "source": [
    "### 3.1) Read all html files for the corresponding `search_date` and `search_id`"
   ]
  },
  {
   "cell_type": "code",
   "execution_count": null,
   "id": "3a035e31",
   "metadata": {},
   "outputs": [],
   "source": [
    "# Define the directory path\n",
    "pdf_files_dir = os.path.join(project_folder_path, 'data', 'raw', '3_evals_reports', 'pdf_files')\n",
    "\n",
    "# Check if the directory exists\n",
    "if not os.path.exists(pdf_files_dir):\n",
    "    # If it doesn't exist, create the directory\n",
    "    os.makedirs(pdf_files_dir)\n",
    "    print(f\"Directory '{pdf_files_dir}' created.\")\n",
    "\n",
    "# List all files in the directory\n",
    "pdf_file_paths = find_pdf_files(pdf_files_dir)\n",
    "print(f'The directory: {pdf_files_dir} contains {len(pdf_file_paths)} out of {summary_df.shape[0]}')"
   ]
  },
  {
   "cell_type": "markdown",
   "id": "8a107d22",
   "metadata": {},
   "source": [
    "### 3.2) Fill on dataframe all those rows corresponding to files already downloaded"
   ]
  },
  {
   "cell_type": "markdown",
   "id": "b66ac473",
   "metadata": {},
   "source": [
    "### Scrape pdf files: 1 file per evaluacion"
   ]
  },
  {
   "cell_type": "code",
   "execution_count": null,
   "id": "af3414cc",
   "metadata": {},
   "outputs": [],
   "source": [
    "### PDF Summary"
   ]
  },
  {
   "cell_type": "code",
   "execution_count": null,
   "id": "0eac9aa1",
   "metadata": {
    "scrolled": true
   },
   "outputs": [],
   "source": [
    "start_time = time.time()\n",
    "informe_v2_pagina1_df = pd.DataFrame()\n",
    "informe_v2_pagina2_df = pd.DataFrame()\n",
    "informe_v2_pagina3_consumos_df = pd.DataFrame()\n",
    "informe_v2_pagina3_envolvente_df = pd.DataFrame()\n",
    "informe_v2_pagina4_df = pd.DataFrame()\n",
    "informe_v2_pagina5_df = pd.DataFrame()\n",
    "informe_v2_pagina6_df = pd.DataFrame()\n",
    "informe_v2_pagina7_df = pd.DataFrame()\n",
    "\n",
    "for index, row in summary_df.iterrows():\n",
    "    print(f'Report {index+1} out of {summary_df.shape[0]}')\n",
    "    \n",
    "    # Check if report is v2\n",
    "    pdf_file_path = os.path.join(project_folder_path, 'data', 'raw', '3_evals_reports', 'pdf_files', str(row['region_id']), str(row['pdf_file_name']))\n",
    "    pdf_report = fitz.open(pdf_file_path)\n",
    "    if str(row['version_evaluacion']) == '2':\n",
    "        v2 = True\n",
    "    else:\n",
    "        v2 = False\n",
    "\n",
    "    if v2:\n",
    "        print(pdf_file_path)\n",
    "        informe_v2_pagina1_df_i = scrape_informe_cev_v2_pagina1(pdf_file_path)\n",
    "        informe_v2_pagina1_df_i.insert(0, 'eval_id', row['eval_id'])\n",
    "        informe_v2_pagina1_df = pd.concat([informe_v2_pagina1_df, informe_v2_pagina1_df_i], axis=0)\n",
    "        \n",
    "        informe_v2_pagina2_df_i = scrape_informe_cev_v2_pagina2(pdf_file_path)\n",
    "        informe_v2_pagina2_df_i.insert(0, 'eval_id', row['eval_id'])\n",
    "        informe_v2_pagina2_df = pd.concat([informe_v2_pagina2_df, informe_v2_pagina2_df_i], axis=0)\n",
    "        \n",
    "        informe_v2_pagina3_consumos_df_i = scrape_informe_cev_v2_pagina3_consumos(pdf_file_path)\n",
    "        informe_v2_pagina3_consumos_df_i.insert(0, 'eval_id', row['eval_id'])\n",
    "        informe_v2_pagina3_consumos_df = pd.concat([informe_v2_pagina3_consumos_df, informe_v2_pagina3_consumos_df_i], axis=0)\n",
    "        \n",
    "        informe_v2_pagina3_envolvente_df_i = scrape_informe_cev_v2_pagina3_envolvente(pdf_file_path)\n",
    "        informe_v2_pagina3_envolvente_df_i.insert(0, 'eval_id', row['eval_id'])\n",
    "        informe_v2_pagina3_envolvente_df = pd.concat([informe_v2_pagina3_envolvente_df, informe_v2_pagina3_envolvente_df_i], axis=0)\n",
    "        \n",
    "        informe_v2_pagina4_df_i = scrape_informe_cev_v2_pagina4(pdf_file_path)\n",
    "        informe_v2_pagina4_df_i.insert(0, 'eval_id', row['eval_id'])\n",
    "        informe_v2_pagina4_df = pd.concat([informe_v2_pagina4_df, informe_v2_pagina4_df_i], axis=0)\n",
    "        \n",
    "        informe_v2_pagina5_df_i = scrape_informe_cev_v2_pagina5(pdf_file_path)\n",
    "        informe_v2_pagina5_df_i.insert(0, 'eval_id', row['eval_id'])\n",
    "        informe_v2_pagina5_df = pd.concat([informe_v2_pagina5_df, informe_v2_pagina5_df_i], axis=0)\n",
    "        \n",
    "        informe_v2_pagina6_df_i = scrape_informe_cev_v2_pagina6(pdf_file_path)\n",
    "        informe_v2_pagina6_df_i.insert(0, 'eval_id', row['eval_id'])\n",
    "        informe_v2_pagina6_df = pd.concat([informe_v2_pagina6_df, informe_v2_pagina6_df_i], axis=0)\n",
    "        \n",
    "        informe_v2_pagina7_df_i = scrape_informe_cev_v2_pagina7(pdf_file_path)        \n",
    "        informe_v2_pagina7_df_i.insert(0, 'eval_id', row['eval_id'])\n",
    "        informe_v2_pagina7_df = pd.concat([informe_v2_pagina7_df, informe_v2_pagina7_df_i], axis=0)\n",
    "        \n",
    "        # Insert into data base\n",
    "        insert_unique_rows_from_dataframe(db_file_path, 'informe_v2_pagina1', informe_v2_pagina1_df_i, unique_columns=['eval_id'])\n",
    "        insert_unique_rows_from_dataframe(db_file_path, 'informe_v2_pagina2', informe_v2_pagina2_df_i, unique_columns=['eval_id'])\n",
    "        insert_unique_rows_from_dataframe(db_file_path, 'informe_v2_pagina3_consumos', informe_v2_pagina3_consumos_df_i, unique_columns=['eval_id'])\n",
    "        insert_unique_rows_from_dataframe(db_file_path, 'informe_v2_pagina3_envolvente', informe_v2_pagina3_envolvente_df_i, unique_columns=['eval_id'])\n",
    "        insert_unique_rows_from_dataframe(db_file_path, 'informe_v2_pagina4', informe_v2_pagina4_df_i, unique_columns=['eval_id'])\n",
    "        insert_unique_rows_from_dataframe(db_file_path, 'informe_v2_pagina5', informe_v2_pagina5_df_i, unique_columns=['eval_id'])\n",
    "        insert_unique_rows_from_dataframe(db_file_path, 'informe_v2_pagina6', informe_v2_pagina6_df_i, unique_columns=['eval_id'])\n",
    "        insert_unique_rows_from_dataframe(db_file_path, 'informe_v2_pagina7', informe_v2_pagina7_df_i, unique_columns=['eval_id'])\n",
    "        \n",
    "        \n",
    "informe_v2_pagina1_df.reset_index(drop=True, inplace=True)\n",
    "informe_v2_pagina2_df.reset_index(drop=True, inplace=True)\n",
    "informe_v2_pagina3_consumos_df.reset_index(drop=True, inplace=True)\n",
    "informe_v2_pagina3_envolvente_df.reset_index(drop=True, inplace=True)\n",
    "informe_v2_pagina4_df.reset_index(drop=True, inplace=True)\n",
    "informe_v2_pagina5_df.reset_index(drop=True, inplace=True)\n",
    "informe_v2_pagina6_df.reset_index(drop=True, inplace=True)\n",
    "informe_v2_pagina7_df.reset_index(drop=True, inplace=True)\n",
    "end_time = time.time()\n",
    "execution_time = end_time - start_time\n",
    "print(\"Script execution time:\", execution_time, \"seconds\")"
   ]
  },
  {
   "cell_type": "code",
   "execution_count": null,
   "id": "e0c2b43d",
   "metadata": {},
   "outputs": [],
   "source": [
    "informe_v2_pagina1_df"
   ]
  },
  {
   "cell_type": "code",
   "execution_count": null,
   "id": "8d661b49",
   "metadata": {},
   "outputs": [],
   "source": [
    "informe_v2_pagina2_df "
   ]
  },
  {
   "cell_type": "code",
   "execution_count": null,
   "id": "31b8c42a",
   "metadata": {},
   "outputs": [],
   "source": [
    "informe_v2_pagina3_consumos_df"
   ]
  },
  {
   "cell_type": "code",
   "execution_count": null,
   "id": "b1d49fd4",
   "metadata": {},
   "outputs": [],
   "source": [
    "informe_v2_pagina4_df"
   ]
  },
  {
   "cell_type": "code",
   "execution_count": null,
   "id": "d6b97633",
   "metadata": {},
   "outputs": [],
   "source": [
    "informe_v2_pagina5_df"
   ]
  },
  {
   "cell_type": "code",
   "execution_count": null,
   "id": "8c5ab0b5",
   "metadata": {},
   "outputs": [],
   "source": [
    "informe_v2_pagina6_df"
   ]
  },
  {
   "cell_type": "code",
   "execution_count": null,
   "id": "4d639340",
   "metadata": {},
   "outputs": [],
   "source": [
    "informe_v2_pagina7_df"
   ]
  },
  {
   "cell_type": "code",
   "execution_count": null,
   "id": "267f1c87",
   "metadata": {},
   "outputs": [],
   "source": [
    "informe_v2_pagina1_df"
   ]
  },
  {
   "cell_type": "markdown",
   "id": "577f8d3f",
   "metadata": {},
   "source": [
    "insert_unique_rows_from_dataframe(db_file_path, 'informe_v2_pagina1', informe_v2_pagina1_df, unique_columns=['eval_id'])\n",
    "insert_unique_rows_from_dataframe(db_file_path, 'informe_v2_pagina2', informe_v2_pagina2_df, unique_columns=['eval_id'])\n",
    "insert_unique_rows_from_dataframe(db_file_path, 'informe_v2_pagina3_consumos', informe_v2_pagina3_consumos_df, unique_columns=['eval_id'])\n",
    "insert_unique_rows_from_dataframe(db_file_path, 'informe_v2_pagina3_envolvente', informe_v2_pagina3_envolvente_df, unique_columns=['eval_id'])\n",
    "insert_unique_rows_from_dataframe(db_file_path, 'informe_v2_pagina4', informe_v2_pagina4_df, unique_columns=['eval_id'])\n",
    "insert_unique_rows_from_dataframe(db_file_path, 'informe_v2_pagina5', informe_v2_pagina5_df, unique_columns=['eval_id'])\n",
    "insert_unique_rows_from_dataframe(db_file_path, 'informe_v2_pagina6', informe_v2_pagina6_df, unique_columns=['eval_id'])\n",
    "insert_unique_rows_from_dataframe(db_file_path, 'informe_v2_pagina7', informe_v2_pagina7_df, unique_columns=['eval_id'])"
   ]
  },
  {
   "cell_type": "code",
   "execution_count": null,
   "id": "926f4ba2",
   "metadata": {},
   "outputs": [],
   "source": [
    "## Save Excel"
   ]
  },
  {
   "cell_type": "code",
   "execution_count": null,
   "id": "884d58de",
   "metadata": {},
   "outputs": [],
   "source": [
    "excel_file_path = './reports_summary.xlsx'"
   ]
  },
  {
   "cell_type": "code",
   "execution_count": null,
   "id": "4e5ed82b",
   "metadata": {},
   "outputs": [],
   "source": [
    "replace_sheet_content(excel_file_path, 'summary', summary_df)\n",
    "replace_sheet_content(excel_file_path, 'informe_v2_pagina1', informe_v2_pagina1_df)\n",
    "replace_sheet_content(excel_file_path, 'informe_v2_pagina2', informe_v2_pagina2_df)\n",
    "replace_sheet_content(excel_file_path, 'informe_v2_pagina3_consumos', informe_v2_pagina3_consumos_df)\n",
    "replace_sheet_content(excel_file_path, 'informe_v2_pagina3_envolvente', informe_v2_pagina3_envolvente_df)\n",
    "replace_sheet_content(excel_file_path, 'informe_v2_pagina4', informe_v2_pagina4_df)\n",
    "replace_sheet_content(excel_file_path, 'informe_v2_pagina5', informe_v2_pagina5_df)\n",
    "replace_sheet_content(excel_file_path, 'informe_v2_pagina6', informe_v2_pagina6_df)\n",
    "replace_sheet_content(excel_file_path, 'informe_v2_pagina7', informe_v2_pagina7_df)"
   ]
  },
  {
   "cell_type": "code",
   "execution_count": null,
   "id": "93c14c0a",
   "metadata": {},
   "outputs": [],
   "source": []
  }
 ],
 "metadata": {
  "kernelspec": {
   "display_name": "Python 3 (ipykernel)",
   "language": "python",
   "name": "python3"
  },
  "language_info": {
   "codemirror_mode": {
    "name": "ipython",
    "version": 3
   },
   "file_extension": ".py",
   "mimetype": "text/x-python",
   "name": "python",
   "nbconvert_exporter": "python",
   "pygments_lexer": "ipython3",
   "version": "3.9.7"
  }
 },
 "nbformat": 4,
 "nbformat_minor": 5
}
