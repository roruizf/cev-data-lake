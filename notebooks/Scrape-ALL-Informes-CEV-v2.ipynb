{
 "cells": [
  {
   "cell_type": "markdown",
   "metadata": {},
   "source": [
    "# Informe CEV (v.2) - All Pages"
   ]
  },
  {
   "cell_type": "markdown",
   "metadata": {},
   "source": [
    "### Import `PyMuPDF`"
   ]
  },
  {
   "cell_type": "code",
   "execution_count": null,
   "metadata": {
    "execution": {
     "iopub.execute_input": "2022-07-18T14:47:50.653979Z",
     "iopub.status.busy": "2022-07-18T14:47:50.653590Z",
     "iopub.status.idle": "2022-07-18T14:47:50.688352Z",
     "shell.execute_reply": "2022-07-18T14:47:50.688022Z"
    }
   },
   "outputs": [],
   "source": [
    "import requests\n",
    "import time\n",
    "from datetime import datetime\n",
    "import pandas as pd\n",
    "import os\n",
    "import json\n",
    "import uuid\n",
    "import sqlite3\n",
    "import sys\n",
    "from dotenv import load_dotenv\n",
    "# Load the .env file\n",
    "load_dotenv()\n",
    "# Access the environment variables\n",
    "project_folder_path = os.getenv('PROJECT_FOLDER_PATH')\n",
    "print(project_folder_path)\n",
    "project_folder_path = '/mnt/c/Users/rober/OneDrive/8_DEVELOPMENT/cev-database'\n",
    "sys.path.append(project_folder_path)\n",
    "from utils.db_functs import *\n",
    "from utils.requests_functs import *\n",
    "from utils.html_functs import *\n",
    "from utils.pdf_functs import *"
   ]
  },
  {
   "cell_type": "code",
   "execution_count": null,
   "metadata": {},
   "outputs": [],
   "source": [
    "directory = os.path.join(project_folder_path, 'data', 'raw', '3_evals_reports', 'pdf_files')"
   ]
  },
  {
   "cell_type": "markdown",
   "metadata": {},
   "source": [
    "### Load the PDF"
   ]
  },
  {
   "cell_type": "code",
   "execution_count": null,
   "metadata": {},
   "outputs": [],
   "source": [
    "def find_pdf_files(directory):\n",
    "    pdf_files = []\n",
    "    for root, _, files in os.walk(directory):\n",
    "        for filename in files:\n",
    "            if fnmatch.fnmatch(filename, '*.pdf'):\n",
    "                pdf_files.append(os.path.join(root, filename))\n",
    "    return pdf_files"
   ]
  },
  {
   "cell_type": "code",
   "execution_count": null,
   "metadata": {},
   "outputs": [],
   "source": [
    "pdf_files_paths = find_pdf_files(directory)\n",
    "pdf_files_paths = pdf_files_paths[:30]\n",
    "#pdf_files_paths = ['/mnt/c/Users/rober/OneDrive/8_DEVELOPMENT/cev-database-reports/data/raw/2/pdf_files/2_9_1_a14a0dec57b8c6dbfa82bff0f43fac88612d0728.pdf',\n",
    "#                  '/mnt/c/Users/rober/OneDrive/8_DEVELOPMENT/cev-database-reports/data/raw/4/pdf_files/4_68_1_9ac6b36c0433976d78d0eb4e67b9c404444e4d88.pdf']"
   ]
  },
  {
   "cell_type": "code",
   "execution_count": null,
   "metadata": {},
   "outputs": [],
   "source": [
    "# Summary"
   ]
  },
  {
   "cell_type": "code",
   "execution_count": null,
   "metadata": {},
   "outputs": [],
   "source": [
    "summary_df = pd.DataFrame(data=pdf_files_paths, columns=['pdf_file_path'])\n",
    "summary_df[['directory', 'pdf_file_name']] = summary_df['pdf_file_path'].str.rsplit('/', n=1, expand=True)\n",
    "#summary_df['pdf_file_name'] = summary_df['pdf_file_name'].str.replace('.pdf', '')\n",
    "summary_df[['region_id', 'comuna_id', 'tipo_evaluacion_id', 'evaluacion_id']] = summary_df['pdf_file_name'].str.replace('.pdf', '').str.rsplit('_', n=0, expand=True)\n",
    "#summary_df.drop(columns=['pdf_file_path', 'directory'], inplace=True)\n",
    "summary_df.T"
   ]
  },
  {
   "cell_type": "code",
   "execution_count": null,
   "metadata": {},
   "outputs": [],
   "source": [
    "summary_df['is_pdf_file_valid'] = None\n",
    "summary_df['version_evaluacion'] = None\n",
    "summary_df['codigo_evaluacion'] = None"
   ]
  },
  {
   "cell_type": "code",
   "execution_count": null,
   "metadata": {},
   "outputs": [],
   "source": [
    "summary_df['pdf_file_name'][0]"
   ]
  },
  {
   "cell_type": "code",
   "execution_count": null,
   "metadata": {},
   "outputs": [],
   "source": [
    "for index, row in summary_df.iterrows():\n",
    "    print(f'Report {index+1} out of {summary_df.shape[0]}')\n",
    "    pdf_file_path = row['pdf_file_path']\n",
    "    try:\n",
    "        pdf_report = fitz.open(pdf_file_path)\n",
    "        \n",
    "        if pdf_report.page_count == 4:\n",
    "            summary_df.loc[index, 'is_pdf_file_valid'] = True\n",
    "            summary_df.loc[index, 'version_evaluacion'] = '1'\n",
    "            page_number = 1  # Page number (starting from 0)\n",
    "            page = pdf_report[page_number]\n",
    "            # Código evaluación energética\n",
    "            area_coordinates = (60.2, 21.5, 80.3, 25.3)  # Coordinates of the area to extract text from: (x1, y1, x2, y2)\n",
    "            extracted_text = extract_text_from_area(page, area_coordinates)\n",
    "            codigo_evaluacion = extracted_text.split('\\n')[-1]\n",
    "            summary_df.loc[index, 'codigo_evaluacion'] = codigo_evaluacion\n",
    "            \n",
    "        elif pdf_report.page_count == 7:\n",
    "            summary_df.loc[index, 'is_pdf_file_valid'] = True\n",
    "            summary_df.loc[index, 'version_evaluacion'] = '2'\n",
    "            page_number = 2  # Page number (starting from 0)\n",
    "            page = pdf_report[page_number]\n",
    "            # Código evaluación energética\n",
    "            area_coordinates = (62.3, 30.7, 88.1, 35.1)  # Coordinates of the area to extract text from: (x1, y1, x2, y2)\n",
    "            extracted_text = extract_text_from_area(page, area_coordinates)\n",
    "            codigo_evaluacion = extracted_text\n",
    "            summary_df.loc[index, 'codigo_evaluacion'] = codigo_evaluacion\n",
    "            \n",
    "        else:        \n",
    "            summary_df.loc[index, 'is_pdf_file_valid'] = False\n",
    "            summary_df.loc[index, 'version_evaluacion'] = None \n",
    "            summary_df.loc[index, 'codigo_evaluacion'] = None           \n",
    "\n",
    "        \n",
    "    except Exception as e:\n",
    "        print(f\"FileDataError: cannot open broken document: {e}\")\n",
    "        summary_df.loc[index, 'is_pdf_file_valid'] = False\n",
    "        summary_df.loc[index, 'version_evaluacion'] = None         \n",
    "            \n",
    "summary_df.T"
   ]
  },
  {
   "cell_type": "code",
   "execution_count": null,
   "metadata": {},
   "outputs": [],
   "source": [
    "summary_df = summary_df[summary_df['is_pdf_file_valid'] == True]    \n",
    "#summary_df = summary_df[summary_df['version_evaluacion'] == '2']    \n",
    "summary_df"
   ]
  },
  {
   "cell_type": "code",
   "execution_count": null,
   "metadata": {
    "execution": {
     "iopub.execute_input": "2022-07-18T14:47:50.690282Z",
     "iopub.status.busy": "2022-07-18T14:47:50.690148Z",
     "iopub.status.idle": "2022-07-18T14:47:50.693123Z",
     "shell.execute_reply": "2022-07-18T14:47:50.692800Z"
    }
   },
   "outputs": [],
   "source": [
    "start_time = time.time()\n",
    "informe_v2_pagina1_df = pd.DataFrame()\n",
    "informe_v2_pagina2_df = pd.DataFrame()\n",
    "informe_v2_pagina3_consumos_df = pd.DataFrame()\n",
    "informe_v2_pagina3_envolvente_df = pd.DataFrame()\n",
    "informe_v2_pagina4_df = pd.DataFrame()\n",
    "informe_v2_pagina5_df = pd.DataFrame()\n",
    "informe_v2_pagina6_df = pd.DataFrame()\n",
    "informe_v2_pagina7_df = pd.DataFrame()\n",
    "\n",
    "for index, row in summary_df.iterrows():\n",
    "    print(f'Report {index+1} out of {summary_df.shape[0]}')\n",
    "    \n",
    "    # Check if report is v2\n",
    "    pdf_file_path = pdf_file_path = row['pdf_file_path']\n",
    "    pdf_report = fitz.open(pdf_file_path)\n",
    "    if row['version_evaluacion'] == '2':\n",
    "        v2 = True\n",
    "    else:\n",
    "        v2 = False\n",
    "\n",
    "    if v2:\n",
    "        print(pdf_file_path)\n",
    "        informe_v2_pagina1_df_i = scrape_informe_cev_v2_pagina1(pdf_file_path)\n",
    "        informe_v2_pagina1_df = pd.concat([informe_v2_pagina1_df, informe_v2_pagina1_df_i], axis=0)\n",
    "        informe_v2_pagina2_df_i = scrape_informe_cev_v2_pagina2(pdf_file_path)\n",
    "        informe_v2_pagina2_df = pd.concat([informe_v2_pagina2_df, informe_v2_pagina2_df_i], axis=0)\n",
    "        informe_v2_pagina3_consumos_df_i = scrape_informe_cev_v2_pagina3_consumos(pdf_file_path)\n",
    "        informe_v2_pagina3_consumos_df = pd.concat([informe_v2_pagina3_consumos_df, informe_v2_pagina3_consumos_df_i], axis=0)\n",
    "        informe_v2_pagina3_envolvente_df_i = scrape_informe_cev_v2_pagina3_envolvente(pdf_file_path)\n",
    "        informe_v2_pagina3_envolvente_df = pd.concat([informe_v2_pagina3_envolvente_df, informe_v2_pagina3_envolvente_df_i], axis=0)\n",
    "        informe_v2_pagina4_df_i = scrape_informe_cev_v2_pagina4(pdf_file_path)\n",
    "        informe_v2_pagina4_df = pd.concat([informe_v2_pagina4_df, informe_v2_pagina4_df_i], axis=0)\n",
    "        informe_v2_pagina5_df_i = scrape_informe_cev_v2_pagina5(pdf_file_path)\n",
    "        informe_v2_pagina5_df = pd.concat([informe_v2_pagina5_df, informe_v2_pagina5_df_i], axis=0)\n",
    "        informe_v2_pagina6_df_i = scrape_informe_cev_v2_pagina6(pdf_file_path)\n",
    "        informe_v2_pagina6_df = pd.concat([informe_v2_pagina6_df, informe_v2_pagina6_df_i], axis=0)\n",
    "        informe_v2_pagina7_df_i = scrape_informe_cev_v2_pagina7(pdf_file_path)\n",
    "        informe_v2_pagina7_df = pd.concat([informe_v2_pagina7_df, informe_v2_pagina7_df_i], axis=0)\n",
    "\n",
    "informe_v2_pagina1_df.reset_index(drop=True, inplace=True)\n",
    "informe_v2_pagina2_df.reset_index(drop=True, inplace=True)\n",
    "informe_v2_pagina3_consumos_df.reset_index(drop=True, inplace=True)\n",
    "informe_v2_pagina3_envolvente_df.reset_index(drop=True, inplace=True)\n",
    "informe_v2_pagina4_df.reset_index(drop=True, inplace=True)\n",
    "informe_v2_pagina5_df.reset_index(drop=True, inplace=True)\n",
    "informe_v2_pagina6_df.reset_index(drop=True, inplace=True)\n",
    "informe_v2_pagina7_df.reset_index(drop=True, inplace=True)\n",
    "end_time = time.time()\n",
    "execution_time = end_time - start_time\n",
    "print(\"Script execution time:\", execution_time, \"seconds\")"
   ]
  },
  {
   "cell_type": "markdown",
   "metadata": {},
   "source": [
    "## Pagina 1"
   ]
  },
  {
   "cell_type": "code",
   "execution_count": null,
   "metadata": {},
   "outputs": [],
   "source": [
    "informe_v2_pagina1_df "
   ]
  },
  {
   "cell_type": "markdown",
   "metadata": {},
   "source": [
    "## Pagina 2"
   ]
  },
  {
   "cell_type": "code",
   "execution_count": null,
   "metadata": {},
   "outputs": [],
   "source": [
    "informe_v2_pagina2_df "
   ]
  },
  {
   "cell_type": "markdown",
   "metadata": {},
   "source": [
    "## Pagina 3"
   ]
  },
  {
   "cell_type": "code",
   "execution_count": null,
   "metadata": {
    "scrolled": false
   },
   "outputs": [],
   "source": [
    "informe_v2_pagina3_consumos_df"
   ]
  },
  {
   "cell_type": "code",
   "execution_count": null,
   "metadata": {},
   "outputs": [],
   "source": [
    "informe_v2_pagina3_envolvente_df"
   ]
  },
  {
   "cell_type": "markdown",
   "metadata": {},
   "source": [
    "## Pagina 4"
   ]
  },
  {
   "cell_type": "code",
   "execution_count": null,
   "metadata": {
    "scrolled": false
   },
   "outputs": [],
   "source": [
    "informe_v2_pagina4_df"
   ]
  },
  {
   "cell_type": "markdown",
   "metadata": {},
   "source": [
    "## Pagina 5"
   ]
  },
  {
   "cell_type": "code",
   "execution_count": null,
   "metadata": {},
   "outputs": [],
   "source": [
    "informe_v2_pagina5_df"
   ]
  },
  {
   "cell_type": "markdown",
   "metadata": {},
   "source": [
    "## Pagina 6"
   ]
  },
  {
   "cell_type": "code",
   "execution_count": null,
   "metadata": {},
   "outputs": [],
   "source": [
    "informe_v2_pagina6_df"
   ]
  },
  {
   "cell_type": "markdown",
   "metadata": {},
   "source": [
    "## Pagina 7"
   ]
  },
  {
   "cell_type": "code",
   "execution_count": null,
   "metadata": {
    "scrolled": true
   },
   "outputs": [],
   "source": [
    "informe_v2_pagina7_df"
   ]
  },
  {
   "cell_type": "code",
   "execution_count": null,
   "metadata": {},
   "outputs": [],
   "source": [
    "## Save Excel"
   ]
  },
  {
   "cell_type": "code",
   "execution_count": null,
   "metadata": {},
   "outputs": [],
   "source": [
    "excel_file_path = './pdf_summary.xlsx'"
   ]
  },
  {
   "cell_type": "code",
   "execution_count": null,
   "metadata": {},
   "outputs": [],
   "source": [
    "replace_sheet_content(excel_file_path, 'summary', summary_df)\n",
    "replace_sheet_content(excel_file_path, 'informe_v2_pagina1', informe_v2_pagina1_df)\n",
    "replace_sheet_content(excel_file_path, 'informe_v2_pagina2', informe_v2_pagina2_df)\n",
    "replace_sheet_content(excel_file_path, 'informe_v2_pagina3_consumos', informe_v2_pagina3_consumos_df)\n",
    "replace_sheet_content(excel_file_path, 'informe_v2_pagina3_envolvente', informe_v2_pagina3_envolvente_df)\n",
    "replace_sheet_content(excel_file_path, 'informe_v2_pagina4', informe_v2_pagina4_df)\n",
    "replace_sheet_content(excel_file_path, 'informe_v2_pagina5', informe_v2_pagina5_df)\n",
    "replace_sheet_content(excel_file_path, 'informe_v2_pagina6', informe_v2_pagina6_df)\n",
    "replace_sheet_content(excel_file_path, 'informe_v2_pagina7', informe_v2_pagina7_df)"
   ]
  },
  {
   "cell_type": "markdown",
   "metadata": {},
   "source": [
    "# END"
   ]
  }
 ],
 "metadata": {
  "kernelspec": {
   "display_name": "Python 3 (ipykernel)",
   "language": "python",
   "name": "python3"
  },
  "language_info": {
   "codemirror_mode": {
    "name": "ipython",
    "version": 3
   },
   "file_extension": ".py",
   "mimetype": "text/x-python",
   "name": "python",
   "nbconvert_exporter": "python",
   "pygments_lexer": "ipython3",
   "version": "3.9.7"
  }
 },
 "nbformat": 4,
 "nbformat_minor": 1
}
