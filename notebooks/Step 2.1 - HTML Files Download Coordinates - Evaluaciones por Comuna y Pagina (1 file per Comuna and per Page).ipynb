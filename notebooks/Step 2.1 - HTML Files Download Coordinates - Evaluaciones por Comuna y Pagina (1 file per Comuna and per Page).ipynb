{
 "cells": [
  {
   "cell_type": "code",
   "execution_count": null,
   "id": "704245b5",
   "metadata": {},
   "outputs": [],
   "source": [
    "import requests\n",
    "import time\n",
    "from datetime import datetime\n",
    "import pandas as pd\n",
    "import os\n",
    "import json\n",
    "import uuid\n",
    "import sqlite3\n",
    "import sys\n",
    "from dotenv import load_dotenv\n",
    "# Load the .env file\n",
    "load_dotenv()\n",
    "# Access the environment variables\n",
    "project_folder_path = os.getenv('PROJECT_FOLDER_PATH')\n",
    "print(project_folder_path)\n",
    "sys.path.append(project_folder_path)\n",
    "from utils.db_functs import *\n",
    "from utils.requests_functs import *"
   ]
  },
  {
   "cell_type": "markdown",
   "id": "42f0a221",
   "metadata": {},
   "source": [
    "### Database and directories"
   ]
  },
  {
   "cell_type": "code",
   "execution_count": null,
   "id": "a5cefda9",
   "metadata": {},
   "outputs": [],
   "source": [
    "db_file_name = 'cev-database-coordinates-v1.db'\n",
    "db_file_path = os.path.join(project_folder_path, 'data', 'sqlite', db_file_name)"
   ]
  },
  {
   "cell_type": "markdown",
   "id": "789cdf61",
   "metadata": {},
   "source": [
    "## 1) Define parameters to run a `search`\n",
    "This can be a new search or retake a previous one"
   ]
  },
  {
   "cell_type": "code",
   "execution_count": null,
   "id": "6c61ba8f",
   "metadata": {},
   "outputs": [],
   "source": [
    "search_id = '4bd70bab-b20c-4e27-b514-92ff6fa70351'\n",
    "#search_id = '010576e8-90f1-42c4-88bc-3965b5c4c238'\n",
    "search_date = '2024-05-02'\n",
    "#search_date = '2024-04-21'"
   ]
  },
  {
   "cell_type": "markdown",
   "id": "9aade985",
   "metadata": {},
   "source": [
    "## 2) Define a dataframe with download coordinates\n",
    "The dataframe must contain 1 row per `comuna` meaning 348 rows in total."
   ]
  },
  {
   "cell_type": "code",
   "execution_count": null,
   "id": "840cb1f2",
   "metadata": {},
   "outputs": [],
   "source": [
    "query = f\"\"\"\n",
    "        SELECT * FROM html_files_by_comuna_and_search\n",
    "        WHERE search_id = \"{search_id}\";\n",
    "        \"\"\"\n",
    "print(query)"
   ]
  },
  {
   "cell_type": "code",
   "execution_count": null,
   "id": "5c740005",
   "metadata": {},
   "outputs": [],
   "source": [
    "df = create_dataframe_from_query(db_file_path, query)\n",
    "# Change data type to search_date and downloaded_at\n",
    "df['search_date'] = pd.to_datetime(df['search_date'], format='%Y-%m-%d')#.dt.strftime('%Y-%m-%d %H:%M:%S')\n",
    "df['downloaded_at'] = pd.to_datetime(df['downloaded_at'], format='%Y-%m-%d %H:%M:%S')#.dt.strftime('%Y-%m-%d %H:%M:%S')\n",
    "# Drop specified columns\n",
    "columns_to_drop = ['id']\n",
    "df = df.drop(columns=columns_to_drop)\n",
    "df.head()"
   ]
  },
  {
   "cell_type": "code",
   "execution_count": null,
   "id": "039d6869",
   "metadata": {},
   "outputs": [],
   "source": [
    "# Filter only 'Successful' rows\n",
    "df = df[(df['status'] == 'Successful') & (df['search_id'] == search_id)].reset_index(drop=True)\n",
    "df.head()"
   ]
  },
  {
   "cell_type": "markdown",
   "id": "76f44cb5",
   "metadata": {},
   "source": [
    "## 3) Read all HTML files \n",
    "To get total viviendas evaluadas por comuna y por tipo de evaluacion"
   ]
  },
  {
   "cell_type": "code",
   "execution_count": null,
   "id": "27024f7d",
   "metadata": {},
   "outputs": [],
   "source": [
    "for index, row in df.iterrows():\n",
    "    html_path = os.path.join(project_folder_path, 'data', 'raw', '1_total_evals_comuna', f\"{row['search_date'].strftime('%Y-%m-%d')}_{row['search_id']}\", 'html_files')\n",
    "    html_filename = row['html_filename']\n",
    "    html_file_path = os.path.join(html_path, html_filename)\n",
    "    parsed = html.parse(html_file_path)\n",
    "    df.loc[index, 'viewstate'] = parsed.xpath('//input[@name=\"__VIEWSTATE\"]/@value')[0]\n",
    "    \n",
    "    # Viviendas Precalificadas\n",
    "    message_viv_precal = parsed.xpath('//strong/span[@id=\"ContentPlaceHolder1_ResultadoGrillaPre\"]/descendant-or-self::*/text()')\n",
    "    nbr_viv_precal = int(message_viv_precal[1]) if message_viv_precal else 0\n",
    "    df.loc[index, 'total_viviendas_precalificadas'] = str(nbr_viv_precal)\n",
    "    df.loc[index, 'total_paginas_viviendas_precalificadas'] = str(math.ceil(int(nbr_viv_precal)/10))\n",
    "    \n",
    "    # Viviendas Calificadas Number\n",
    "    message_viv_cal = parsed.xpath('//strong/span[@id=\"ContentPlaceHolder1_ResultadoGrillaCal\"]/descendant-or-self::*/text()')\n",
    "    nbr_viv_cal = int(message_viv_cal[1]) if message_viv_cal else 0\n",
    "    df.loc[index, 'total_viviendas_calificadas'] = str(nbr_viv_cal)    \n",
    "    df.loc[index, 'total_paginas_viviendas_calificadas'] = str(math.ceil(int(nbr_viv_cal)/10))\n",
    "df.head()"
   ]
  },
  {
   "cell_type": "markdown",
   "id": "070032a0",
   "metadata": {},
   "source": [
    "### Viviendas Pre Calificadas"
   ]
  },
  {
   "cell_type": "code",
   "execution_count": null,
   "id": "4097f1cb",
   "metadata": {},
   "outputs": [],
   "source": [
    "precal_df = pd.DataFrame()\n",
    "for index, row in df.iterrows():\n",
    "    for page in range(1, int(row['total_paginas_viviendas_precalificadas']) + 1):\n",
    "        precal_df_i = pd.DataFrame()\n",
    "        precal_df_i.loc[0, 'comuna_id'] = str(row['comuna_id'])\n",
    "        precal_df_i.loc[0, 'region_id'] = str(row['region_id'])       \n",
    "        precal_df_i.loc[0, 'tipo_evaluacion'] = '1'\n",
    "        precal_df_i.loc[0, 'pagina'] = str(page)\n",
    "        precal_df_i.loc[0, 'search_id'] = row['search_id']\n",
    "        precal_df_i.loc[0, 'search_date'] = row['search_date']\n",
    "        precal_df_i.loc[0, 'eventtarget'] = str('ctl00$ContentPlaceHolder1$grdViviendasPre')\n",
    "        precal_df_i.loc[0, 'viewstate'] = row['viewstate']\n",
    "        precal_df_i.loc[0, 'eventargument'] = 'Page$' + str(page)\n",
    "        precal_df_i.loc[0, 'total_evals'] = str(row['total_viviendas_precalificadas'])\n",
    "        precal_df_i.loc[0, 'total_pages'] = str(row['total_paginas_viviendas_precalificadas'])\n",
    "        \n",
    "        precal_df = pd.concat([precal_df, precal_df_i])\n",
    "precal_df = precal_df.reset_index(drop=True) \n",
    "precal_df.head()"
   ]
  },
  {
   "cell_type": "markdown",
   "id": "84892563",
   "metadata": {},
   "source": [
    "### Viviendas Calificadas"
   ]
  },
  {
   "cell_type": "code",
   "execution_count": null,
   "id": "57a8b7a1",
   "metadata": {},
   "outputs": [],
   "source": [
    "cal_df = pd.DataFrame()\n",
    "for index, row in df.iterrows():\n",
    "    for page in range(1, int(row['total_paginas_viviendas_calificadas']) + 1):\n",
    "        cal_df_i = pd.DataFrame()\n",
    "        cal_df_i.loc[0, 'comuna_id'] = str(row['comuna_id'])\n",
    "        cal_df_i.loc[0, 'region_id'] = str(row['region_id'])     \n",
    "        cal_df_i.loc[0, 'tipo_evaluacion'] = '2'\n",
    "        cal_df_i.loc[0, 'pagina'] = str(page)\n",
    "        cal_df_i.loc[0, 'search_id'] = row['search_id']\n",
    "        cal_df_i.loc[0, 'search_date'] = row['search_date']           \n",
    "        cal_df_i.loc[0, 'eventtarget'] = str('ctl00$ContentPlaceHolder1$grdViviendasCal')\n",
    "        cal_df_i.loc[0, 'viewstate'] = row['viewstate']\n",
    "        cal_df_i.loc[0, 'eventargument'] = 'Page$' + str(page)\n",
    "        cal_df_i.loc[0, 'total_evals'] = str(row['total_viviendas_calificadas'])\n",
    "        cal_df_i.loc[0, 'total_pages'] = str(row['total_paginas_viviendas_calificadas'])\n",
    "        \n",
    "        cal_df = pd.concat([cal_df, cal_df_i])\n",
    "cal_df = cal_df.reset_index(drop=True) \n",
    "cal_df.head()"
   ]
  },
  {
   "cell_type": "markdown",
   "id": "d46416b5",
   "metadata": {},
   "source": [
    "## Dataframe to save into Database"
   ]
  },
  {
   "cell_type": "code",
   "execution_count": null,
   "id": "d1b71ff9",
   "metadata": {},
   "outputs": [],
   "source": [
    "out_df = pd.DataFrame()\n",
    "out_df = pd.concat([precal_df, cal_df]).reset_index(drop=True)\n",
    "out_df.head()"
   ]
  },
  {
   "cell_type": "code",
   "execution_count": null,
   "id": "11a6a649",
   "metadata": {},
   "outputs": [],
   "source": [
    "out_df.dtypes"
   ]
  },
  {
   "cell_type": "code",
   "execution_count": null,
   "id": "aaf510b7",
   "metadata": {},
   "outputs": [],
   "source": [
    "out_df['comuna_id'] = out_df['comuna_id'].astype(int)\n",
    "out_df['region_id'] = out_df['region_id'].astype(int)\n",
    "out_df['tipo_evaluacion'] = out_df['tipo_evaluacion'].astype(int)\n",
    "out_df['pagina'] = out_df['pagina'].astype(int)\n",
    "out_df['search_date'] = out_df['search_date'].dt.strftime('%Y-%m-%d')\n",
    "out_df['total_evals'] = out_df['total_evals'].astype(int)\n",
    "out_df['total_pages'] = out_df['total_pages'].astype(int)"
   ]
  },
  {
   "cell_type": "code",
   "execution_count": null,
   "id": "48b1387e",
   "metadata": {},
   "outputs": [],
   "source": [
    "out_df.shape"
   ]
  },
  {
   "cell_type": "markdown",
   "id": "0375fed4",
   "metadata": {},
   "source": [
    "### Save to database\n",
    "Save only those records that are not yet there."
   ]
  },
  {
   "cell_type": "code",
   "execution_count": null,
   "id": "782da6c7",
   "metadata": {},
   "outputs": [],
   "source": [
    "insert_unique_rows_from_dataframe(db_file_path, 'evals_html_download_coordinates', out_df, unique_columns=['comuna_id', 'region_id', 'tipo_evaluacion', 'pagina', 'search_id'])"
   ]
  }
 ],
 "metadata": {
  "kernelspec": {
   "display_name": "Python 3 (ipykernel)",
   "language": "python",
   "name": "python3"
  },
  "language_info": {
   "codemirror_mode": {
    "name": "ipython",
    "version": 3
   },
   "file_extension": ".py",
   "mimetype": "text/x-python",
   "name": "python",
   "nbconvert_exporter": "python",
   "pygments_lexer": "ipython3",
   "version": "3.12.3"
  }
 },
 "nbformat": 4,
 "nbformat_minor": 5
}
