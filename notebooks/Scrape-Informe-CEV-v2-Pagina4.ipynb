{
 "cells": [
  {
   "cell_type": "markdown",
   "metadata": {},
   "source": [
    "# Informe CEV (v.2) - Page 4"
   ]
  },
  {
   "cell_type": "markdown",
   "metadata": {},
   "source": [
    "### Import `PyMuPDF`"
   ]
  },
  {
   "cell_type": "code",
   "execution_count": null,
   "metadata": {
    "execution": {
     "iopub.execute_input": "2022-07-18T14:47:50.653979Z",
     "iopub.status.busy": "2022-07-18T14:47:50.653590Z",
     "iopub.status.idle": "2022-07-18T14:47:50.688352Z",
     "shell.execute_reply": "2022-07-18T14:47:50.688022Z"
    },
    "scrolled": true
   },
   "outputs": [],
   "source": [
    "import pandas as pd\n",
    "import re\n",
    "import pytesseract\n",
    "import fitz  # PyMuPDF\n"
   ]
  },
  {
   "cell_type": "markdown",
   "metadata": {},
   "source": [
    "### Load the PDF"
   ]
  },
  {
   "cell_type": "code",
   "execution_count": null,
   "metadata": {
    "execution": {
     "iopub.execute_input": "2022-07-18T14:47:50.690282Z",
     "iopub.status.busy": "2022-07-18T14:47:50.690148Z",
     "iopub.status.idle": "2022-07-18T14:47:50.693123Z",
     "shell.execute_reply": "2022-07-18T14:47:50.692800Z"
    }
   },
   "outputs": [],
   "source": [
    "pdf_file_path = '/mnt/c/Users/rober/OneDrive/8_DEVELOPMENT/cev-database-reports/data/raw/9/pdf_files/9_195_1_aa1400a4dbe6c3177ff044edce8b5585fb846445.pdf'\n",
    "pdf_file_path = './1_5_1_c9cbda772da622dd1667027eef1b862a7d7209c8.pdf'\n",
    "pdf_file_path = './1_113_2_0da232073435d32084842b8fd244ecdf37be7c25.pdf'\n",
    "pdf_file_path = './Informe_CEV_v2.pdf'\n",
    "pdf_file_path = '/mnt/c/Users/rober/OneDrive/8_DEVELOPMENT/cev-database-reports/data/raw/1/pdf_files/1_113_1_0da70885817e546d34080a742d6bb2d99dff8091.pdf'\n",
    "pdf_report = fitz.open(pdf_file_path)\n",
    "page_number = 3  # Page number (starting from 0)\n",
    "page = pdf_report[page_number]"
   ]
  },
  {
   "cell_type": "markdown",
   "metadata": {},
   "source": [
    "## Pagina 2"
   ]
  },
  {
   "cell_type": "code",
   "execution_count": null,
   "metadata": {},
   "outputs": [],
   "source": [
    "def extract_text_from_area(page, area):\n",
    "    \"\"\"\n",
    "    Extract text from a specific area of a PDF page.\n",
    "\n",
    "    Args:\n",
    "    - page (fitz.Page): Page object from which to extract text.\n",
    "    - area (tuple): Tuple containing (x1, y1, x2, y2) coordinates of the area to extract text from.\n",
    "\n",
    "    Returns:\n",
    "    - extracted_text (str): Text extracted from the specified area.\n",
    "    \"\"\"\n",
    "    extracted_text = \"\"\n",
    "    try:\n",
    "        # Clean the page contents to avoid misplaced item insertions\n",
    "        page.clean_contents()\n",
    "\n",
    "        # Pdf Report Dimensions\n",
    "        report_width = 215.9  # mm\n",
    "        report_height = 330.0  # mm\n",
    "\n",
    "        # Get page dimensions\n",
    "        width = page.rect.width\n",
    "        height = page.rect.height\n",
    "\n",
    "        # Normalize the coordinates\n",
    "        x1, y1, x2, y2 = area\n",
    "        rx1, ry1, rx2, ry2 = x1 / report_width, y1 / report_height, x2 / report_width, y2 / report_height\n",
    "\n",
    "        # Define the rectangle area to extract text from\n",
    "        rect = fitz.Rect(rx1 * width, ry1 * height, rx2 * width, ry2 * height)\n",
    "\n",
    "        # Extract text from the specified area\n",
    "        extracted_text = page.get_textbox(rect)\n",
    "    except Exception as e:\n",
    "        print(f\"Error: {e}\")\n",
    "\n",
    "    return extracted_text"
   ]
  },
  {
   "cell_type": "code",
   "execution_count": null,
   "metadata": {},
   "outputs": [],
   "source": [
    "area_coordinates = (62.3, 30.7, 88.1, 35.1)  # Coordinates of the area to extract text from: (x1, y1, x2, y2)\n",
    "extracted_text = extract_text_from_area(page, area_coordinates)\n",
    "codigo_evaluacion = extracted_text\n",
    "codigo_evaluacion"
   ]
  },
  {
   "cell_type": "code",
   "execution_count": null,
   "metadata": {},
   "outputs": [],
   "source": [
    "# Create DataFrame\n",
    "df = pd.DataFrame(data=[codigo_evaluacion] * 12, columns=['codigo_evaluacion'])\n",
    "df['mes_id'] = range(1, 13)\n",
    "df"
   ]
  },
  {
   "cell_type": "markdown",
   "metadata": {},
   "source": [
    "### Seccion: Demanda Calefaccion"
   ]
  },
  {
   "cell_type": "markdown",
   "metadata": {},
   "source": [
    "#### Vivienda evaluada"
   ]
  },
  {
   "cell_type": "code",
   "execution_count": null,
   "metadata": {},
   "outputs": [],
   "source": [
    "area_coordinates = (41.7, 139.1, 203.4, 143.9)  # Coordinates of the area to extract text from: (x1, y1, x2, y2)\n",
    "extracted_text = extract_text_from_area(page, area_coordinates)\n",
    "demanda_calef_viv_eval_kwh = extracted_text.splitlines()\n",
    "demanda_calef_viv_eval_kwh = [float(item.replace(',', '.')) for item in demanda_calef_viv_eval_kwh]\n",
    "\n",
    "# Store a comment column based on length of demanda_calef_viv_eval_kwh\n",
    "if len(demanda_calef_viv_eval_kwh) == 12:\n",
    "    demanda_calef_viv_eval_comment = 'OK'\n",
    "else:\n",
    "    demanda_calef_viv_eval_comment = 'Check!'\n",
    "\n",
    "while len(demanda_calef_viv_eval_kwh) < 12:\n",
    "    demanda_calef_viv_eval_kwh.append(0)\n",
    "df['demanda_calef_viv_eval_kwh'] = demanda_calef_viv_eval_kwh\n",
    "df['demanda_calef_viv_eval_comment'] = demanda_calef_viv_eval_comment\n",
    "\n",
    "df"
   ]
  },
  {
   "cell_type": "markdown",
   "metadata": {},
   "source": [
    "#### Vivienda de referencia"
   ]
  },
  {
   "cell_type": "code",
   "execution_count": null,
   "metadata": {},
   "outputs": [],
   "source": [
    "area_coordinates = (41.7, 144.1, 203.4, 148.2)  # Coordinates of the area to extract text from: (x1, y1, x2, y2)\n",
    "extracted_text = extract_text_from_area(page, area_coordinates)\n",
    "demanda_calef_viv_ref_kwh = extracted_text.splitlines()\n",
    "demanda_calef_viv_ref_kwh = [float(item.replace(',', '.')) for item in demanda_calef_viv_ref_kwh]\n",
    "\n",
    "# Store a comment column based on length of demanda_calef_viv_ref_kwh\n",
    "if len(demanda_calef_viv_ref_kwh) == 12:\n",
    "    demanda_calef_viv_ref_comment = 'OK'\n",
    "else:\n",
    "    demanda_calef_viv_ref_comment = 'Check!'\n",
    "\n",
    "while len(demanda_calef_viv_ref_kwh) < 12:\n",
    "    demanda_calef_viv_ref_kwh.append(0)\n",
    "df['demanda_calef_viv_ref_kwh'] = demanda_calef_viv_ref_kwh\n",
    "df['demanda_calef_viv_ref_comment'] = demanda_calef_viv_ref_comment\n",
    "\n",
    "df"
   ]
  },
  {
   "cell_type": "markdown",
   "metadata": {},
   "source": [
    "### Seccion: Demanda Enfriamiento"
   ]
  },
  {
   "cell_type": "code",
   "execution_count": null,
   "metadata": {},
   "outputs": [],
   "source": [
    "# Vivienda Evaluada\n",
    "area_coordinates = (41.7, 161.1, 203.4, 165.9)  # Coordinates of the area to extract text from: (x1, y1, x2, y2)\n",
    "extracted_text = extract_text_from_area(page, area_coordinates)\n",
    "demanda_enfri_viv_eval_kwh = extracted_text.splitlines()\n",
    "demanda_enfri_viv_eval_kwh = [float(item.replace(',', '.')) for item in demanda_enfri_viv_eval_kwh]\n",
    "\n",
    "# Store a comment column based on length of demanda_enfri_viv_eval_kwh\n",
    "if len(demanda_enfri_viv_eval_kwh) == 12:\n",
    "    demanda_enfri_viv_eval_comment = 'OK'\n",
    "else:\n",
    "    demanda_enfri_viv_eval_comment = 'Check!'\n",
    "\n",
    "while len(demanda_enfri_viv_eval_kwh) < 12:\n",
    "    demanda_enfri_viv_eval_kwh.append(0)\n",
    "df['demanda_enfri_viv_eval_kwh'] = demanda_enfri_viv_eval_kwh\n",
    "df['demanda_enfri_viv_eval_comment'] = demanda_enfri_viv_eval_comment\n",
    "df"
   ]
  },
  {
   "cell_type": "code",
   "execution_count": null,
   "metadata": {},
   "outputs": [],
   "source": [
    "# Vivienda Referencia\n",
    "area_coordinates = (41.7, 166.2, 203.4, 170.3)  # Coordinates of the area to extract text from: (x1, y1, x2, y2)\n",
    "extracted_text = extract_text_from_area(page, area_coordinates)\n",
    "demanda_enfri_viv_ref_kwh = extracted_text.splitlines()\n",
    "demanda_enfri_viv_ref_kwh = [float(item.replace(',', '.')) for item in demanda_enfri_viv_ref_kwh]\n",
    "\n",
    "# Store a comment column based on length of demanda_enfri_viv_ref_kwh\n",
    "if len(demanda_enfri_viv_ref_kwh) == 12:\n",
    "    demanda_enfri_viv_ref_comment = 'OK'\n",
    "else:\n",
    "    demanda_enfri_viv_ref_comment = 'Check!'\n",
    "\n",
    "while len(demanda_enfri_viv_ref_kwh) < 12:\n",
    "    demanda_enfri_viv_ref_kwh.append(0)\n",
    "df['demanda_enfri_viv_ref_kwh'] = demanda_enfri_viv_ref_kwh\n",
    "df['demanda_enfri_viv_ref_comment'] = demanda_enfri_viv_ref_comment\n",
    "df"
   ]
  },
  {
   "cell_type": "markdown",
   "metadata": {},
   "source": [
    "### Seccion: Sobrecalentamiento"
   ]
  },
  {
   "cell_type": "code",
   "execution_count": null,
   "metadata": {},
   "outputs": [],
   "source": [
    "# Vivienda Evaluada\n",
    "area_coordinates = (41.7, 254.9, 203.4, 258.9)  # Coordinates of the area to extract text from: (x1, y1, x2, y2)\n",
    "extracted_text = extract_text_from_area(page, area_coordinates)\n",
    "sobrecalentamiento_viv_eval_hr = extracted_text.splitlines()\n",
    "sobrecalentamiento_viv_eval_hr = [float(item.replace(',', '.')) for item in sobrecalentamiento_viv_eval_hr]\n",
    "\n",
    "# Store a comment column based on length of sobrecalentamiento_viv_eval_hr\n",
    "if len(sobrecalentamiento_viv_eval_hr) == 12:\n",
    "    sobrecalentamiento_viv_eval_comment = 'OK'\n",
    "else:\n",
    "    sobrecalentamiento_viv_eval_comment = 'Check!'\n",
    "\n",
    "while len(sobrecalentamiento_viv_eval_hr) < 12:\n",
    "    sobrecalentamiento_viv_eval_hr.append(0)\n",
    "df['sobrecalentamiento_viv_eval_hr'] = sobrecalentamiento_viv_eval_hr\n",
    "df['sobrecalentamiento_viv_eval_comment'] = sobrecalentamiento_viv_eval_comment\n",
    "df"
   ]
  },
  {
   "cell_type": "code",
   "execution_count": null,
   "metadata": {},
   "outputs": [],
   "source": [
    "# Vivienda Referencia\n",
    "area_coordinates = (41.7, 259.0, 203.4, 262.9)  # Coordinates of the area to extract text from: (x1, y1, x2, y2)\n",
    "extracted_text = extract_text_from_area(page, area_coordinates)\n",
    "sobrecalentamiento_viv_ref_hr = extracted_text.splitlines()\n",
    "sobrecalentamiento_viv_ref_hr = [float(item.replace(',', '.')) for item in sobrecalentamiento_viv_ref_hr]\n",
    "\n",
    "# Store a comment column based on length of sobrecalentamiento_viv_ref_hr\n",
    "if len(sobrecalentamiento_viv_ref_hr) == 12:\n",
    "    sobrecalentamiento_viv_ref_comment = 'OK'\n",
    "else:\n",
    "    sobrecalentamiento_viv_ref_comment = 'Check!'\n",
    "\n",
    "while len(sobrecalentamiento_viv_ref_hr) < 12:\n",
    "    sobrecalentamiento_viv_ref_hr.append(0)\n",
    "df['sobrecalentamiento_viv_ref_hr'] = sobrecalentamiento_viv_ref_hr\n",
    "df['sobrecalentamiento_viv_ref_comment'] = sobrecalentamiento_viv_ref_comment\n",
    "df"
   ]
  },
  {
   "cell_type": "markdown",
   "metadata": {},
   "source": [
    "### Seccion: Sobreenfriamiento"
   ]
  },
  {
   "cell_type": "code",
   "execution_count": null,
   "metadata": {},
   "outputs": [],
   "source": [
    "# Vivienda Evaluada\n",
    "area_coordinates = (41.7, 275.0, 203.4, 278.6)  # Coordinates of the area to extract text from: (x1, y1, x2, y2)\n",
    "extracted_text = extract_text_from_area(page, area_coordinates)\n",
    "sobreenfriamiento_viv_eval_hr = extracted_text.splitlines()\n",
    "sobreenfriamiento_viv_eval_hr = [float(item.replace(',', '.')) for item in sobreenfriamiento_viv_eval_hr]\n",
    "\n",
    "# Store a comment column based on length of sobreenfriamiento_viv_eval_hr\n",
    "if len(sobreenfriamiento_viv_eval_hr) == 12:\n",
    "    sobreenfriamiento_viv_eval_comment = 'OK'\n",
    "else:\n",
    "    sobreenfriamiento_viv_eval_comment = 'Check!'\n",
    "\n",
    "while len(sobreenfriamiento_viv_eval_hr) < 12:\n",
    "    sobreenfriamiento_viv_eval_hr.append(0)\n",
    "df['sobreenfriamiento_viv_eval_hr'] = sobreenfriamiento_viv_eval_hr\n",
    "df['sobreenfriamiento_viv_eval_comment'] = sobreenfriamiento_viv_eval_comment\n",
    "df"
   ]
  },
  {
   "cell_type": "code",
   "execution_count": null,
   "metadata": {},
   "outputs": [],
   "source": [
    "# Vivienda Referencia\n",
    "area_coordinates = (41.7, 279.0, 203.4, 282.9)  # Coordinates of the area to extract text from: (x1, y1, x2, y2)\n",
    "extracted_text = extract_text_from_area(page, area_coordinates)\n",
    "sobreenfriamiento_viv_ref_hr = extracted_text.splitlines()\n",
    "sobreenfriamiento_viv_ref_hr = [float(item.replace(',', '.')) for item in sobreenfriamiento_viv_ref_hr]\n",
    "\n",
    "# Store a comment column based on length of sobreenfriamiento_viv_ref_hr\n",
    "if len(sobreenfriamiento_viv_ref_hr) == 12:\n",
    "    sobreenfriamiento_viv_ref_comment = 'OK'\n",
    "else:\n",
    "    sobreenfriamiento_viv_ref_comment = 'Check!'\n",
    "\n",
    "while len(sobreenfriamiento_viv_ref_hr) < 12:\n",
    "    sobreenfriamiento_viv_ref_hr.append(0)\n",
    "df['sobreenfriamiento_viv_ref_hr'] = sobreenfriamiento_viv_ref_hr\n",
    "df['sobreenfriamiento_viv_ref_comment'] = sobreenfriamiento_viv_ref_comment\n",
    "df"
   ]
  },
  {
   "cell_type": "code",
   "execution_count": null,
   "metadata": {},
   "outputs": [],
   "source": [
    "# Close the PDF document\n",
    "pdf_report.close()"
   ]
  },
  {
   "cell_type": "code",
   "execution_count": null,
   "metadata": {},
   "outputs": [],
   "source": []
  }
 ],
 "metadata": {
  "kernelspec": {
   "display_name": "Python 3 (ipykernel)",
   "language": "python",
   "name": "python3"
  },
  "language_info": {
   "codemirror_mode": {
    "name": "ipython",
    "version": 3
   },
   "file_extension": ".py",
   "mimetype": "text/x-python",
   "name": "python",
   "nbconvert_exporter": "python",
   "pygments_lexer": "ipython3",
   "version": "3.9.7"
  }
 },
 "nbformat": 4,
 "nbformat_minor": 1
}
