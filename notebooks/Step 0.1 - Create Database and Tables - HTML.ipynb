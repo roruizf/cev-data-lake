{
 "cells": [
  {
   "cell_type": "code",
   "execution_count": null,
   "id": "704245b5",
   "metadata": {},
   "outputs": [],
   "source": [
    "import requests\n",
    "import time\n",
    "import datetime\n",
    "import pandas as pd\n",
    "import os\n",
    "import json\n",
    "import uuid\n",
    "import sqlite3\n",
    "import sys\n",
    "from dotenv import load_dotenv\n",
    "# Load the .env file\n",
    "load_dotenv()\n",
    "# Access the environment variables\n",
    "project_folder_path = os.getenv('PROJECT_FOLDER_PATH')\n",
    "print(project_folder_path)\n",
    "sys.path.append(project_folder_path)\n",
    "from utils.db_functs import *"
   ]
  },
  {
   "cell_type": "markdown",
   "id": "7523e5ca",
   "metadata": {},
   "source": [
    "## 1) Create Database"
   ]
  },
  {
   "cell_type": "markdown",
   "id": "15fa469c",
   "metadata": {},
   "source": [
    "### 1.1) Set Database file parameters\n",
    "Database file is a sqlite .db file"
   ]
  },
  {
   "cell_type": "code",
   "execution_count": null,
   "id": "5c902422",
   "metadata": {},
   "outputs": [],
   "source": [
    "version = 'v1'\n",
    "db_file_name = f'cev-database-coordinates-{version}.db'\n",
    "print(db_file_name)\n",
    "db_file_path = os.path.join(project_folder_path, 'data', 'sqlite', db_file_name)\n",
    "db_file_path"
   ]
  },
  {
   "cell_type": "markdown",
   "id": "601b3305",
   "metadata": {},
   "source": [
    "### 1.2) Create sqlite database file"
   ]
  },
  {
   "cell_type": "code",
   "execution_count": null,
   "id": "6ce01b19",
   "metadata": {},
   "outputs": [],
   "source": [
    "create_database(db_file_path)"
   ]
  },
  {
   "cell_type": "code",
   "execution_count": null,
   "id": "b4cedfee-fa86-41fa-9e55-f58fdd395eec",
   "metadata": {},
   "outputs": [],
   "source": [
    "os.path.split(db_file_path)"
   ]
  },
  {
   "cell_type": "markdown",
   "id": "8ad5d98c",
   "metadata": {},
   "source": [
    "## 2) Create Tables\n",
    "Database tables are:\n",
    "* `regiones`\n",
    "* `comunas`\n",
    "* `viewstate_region`\n",
    "* `html_files_by_comuna_and_search`\n",
    "* `html_files_by_comuna_page_and_search`"
   ]
  },
  {
   "cell_type": "markdown",
   "id": "af6f85f4",
   "metadata": {},
   "source": [
    "### 2.1) Define all tables in a dicitonary\n",
    "1. Dictionay key are the tables' names\n",
    "2. Dictionary values are the tables queries"
   ]
  },
  {
   "cell_type": "code",
   "execution_count": null,
   "id": "52d98111",
   "metadata": {},
   "outputs": [],
   "source": [
    "table_queries = {\n",
    "    'regiones': \"\"\"\n",
    "        CREATE TABLE regiones (\n",
    "            region_id INTEGER PRIMARY KEY,\n",
    "            region_name TEXT,\n",
    "            UNIQUE (region_id, region_name)\n",
    "        )\n",
    "    \"\"\",\n",
    "    'comunas': \"\"\"\n",
    "        CREATE TABLE comunas (\n",
    "            comuna_id INTEGER PRIMARY KEY,\n",
    "            comuna_name TEXT,\n",
    "            region_id INTEGER,\n",
    "            FOREIGN KEY(region_id) REFERENCES regiones(region_id),\n",
    "            UNIQUE(comuna_id, comuna_name, region_id)\n",
    "        )\n",
    "    \"\"\",\n",
    "    'viewstate_region': \"\"\"\n",
    "        CREATE TABLE viewstate_region (\n",
    "            region_id INTEGER PRIMARY KEY,\n",
    "            viewstate TEXT,\n",
    "            UNIQUE(region_id, viewstate)\n",
    "        )\n",
    "    \"\"\",\n",
    "    'html_files_by_comuna_and_search': \"\"\"\n",
    "        CREATE TABLE html_files_by_comuna_and_search (\n",
    "            id INTEGER PRIMARY KEY AUTOINCREMENT,\n",
    "            comuna_id INTEGER,\n",
    "            region_id INTEGER,\n",
    "            search_id TEXT,\n",
    "            search_date TEXT,\n",
    "            status TEXT,\n",
    "            html_filename TEXT,\n",
    "            downloaded_at TEXT,\n",
    "            FOREIGN KEY(comuna_id) REFERENCES comunas(comuna_id),\n",
    "            FOREIGN KEY(region_id) REFERENCES regiones(region_id),\n",
    "            UNIQUE(comuna_id, region_id, search_id)\n",
    "        )\n",
    "    \"\"\",    \n",
    "    'evals_html_download_coordinates': \"\"\"\n",
    "        CREATE TABLE evals_html_download_coordinates (\n",
    "            id INTEGER PRIMARY KEY AUTOINCREMENT,\n",
    "            comuna_id INTEGER,\n",
    "            region_id INTEGER,\n",
    "            tipo_evaluacion INTEGER,\n",
    "            pagina INTEGER,\n",
    "            search_id TEXT,\n",
    "            search_date TEXT,\n",
    "            eventtarget TEXT,\n",
    "            viewstate TEXT,\n",
    "            eventargument TEXT,\n",
    "            total_evals INTEGER,\n",
    "            total_pages INTEGER,            \n",
    "            FOREIGN KEY(comuna_id) REFERENCES comunas(comuna_id),\n",
    "            FOREIGN KEY(region_id) REFERENCES regiones(region_id),\n",
    "            UNIQUE(comuna_id, region_id, tipo_evaluacion, pagina, search_id)\n",
    "        )\n",
    "    \"\"\",\n",
    "    'evals_html_downloaded_files': \"\"\"\n",
    "        CREATE TABLE evals_html_downloaded_files (\n",
    "            id INTEGER PRIMARY KEY AUTOINCREMENT,\n",
    "            comuna_id INTEGER,\n",
    "            region_id INTEGER,\n",
    "            tipo_evaluacion INTEGER,\n",
    "            pagina INTEGER,\n",
    "            search_id TEXT,\n",
    "            search_date TEXT,\n",
    "            total_pages INTEGER,\n",
    "            status TEXT,\n",
    "            html_filename TEXT,\n",
    "            downloaded_at TEXT,\n",
    "            FOREIGN KEY(comuna_id) REFERENCES comunas(comuna_id),\n",
    "            FOREIGN KEY(region_id) REFERENCES regiones(region_id),\n",
    "            UNIQUE(comuna_id, region_id, tipo_evaluacion, pagina, search_id)\n",
    "        )\n",
    "    \"\"\",\n",
    "    'evals_summary': \"\"\"\n",
    "        CREATE TABLE evals_summary (\n",
    "            eval_id TEXT PRIMARY KEY,\n",
    "            comuna_id INTEGER,\n",
    "            region_id INTEGER,\n",
    "            tipo_evaluacion INTEGER,\n",
    "            identificacion_vivienda TEXT,\n",
    "            tipologia TEXT,\n",
    "            comuna TEXT,\n",
    "            proyecto TEXT,\n",
    "            CE TEXT,\n",
    "            CEE TEXT,                      \n",
    "            FOREIGN KEY(comuna_id) REFERENCES comunas(comuna_id),\n",
    "            FOREIGN KEY(region_id) REFERENCES regiones(region_id)\n",
    "        )\n",
    "    \"\"\",\n",
    "    'evals_pdf_reports_download_coordinates': \"\"\"\n",
    "        CREATE TABLE evals_pdf_reports_download_coordinates (\n",
    "            id INTEGER PRIMARY KEY AUTOINCREMENT,\n",
    "            comuna_id INTEGER,\n",
    "            region_id INTEGER,\n",
    "            tipo_evaluacion INTEGER,\n",
    "            eval_number INTEGER,\n",
    "            pagina INTEGER,\n",
    "            eval_number_pagina INTEGER,\n",
    "            search_id TEXT,\n",
    "            search_date TEXT,\n",
    "            eval_id TEXT,\n",
    "            codigo_informe TEXT,\n",
    "            codigo_etiqueta TEXT,\n",
    "            viewstate TEXT,    \n",
    "            eventargument TEXT,\n",
    "            FOREIGN KEY(comuna_id) REFERENCES comunas(comuna_id),\n",
    "            FOREIGN KEY(region_id) REFERENCES regiones(region_id),\n",
    "            FOREIGN KEY(eval_id) REFERENCES evals_summary(eval_id),\n",
    "            UNIQUE(comuna_id, region_id, tipo_evaluacion, eval_number, search_id)\n",
    "        )\n",
    "    \"\"\"\n",
    "}\n"
   ]
  },
  {
   "cell_type": "markdown",
   "id": "eb526bd0",
   "metadata": {},
   "source": [
    "### 2.2) Create Tables"
   ]
  },
  {
   "cell_type": "code",
   "execution_count": null,
   "id": "06a1c699",
   "metadata": {},
   "outputs": [],
   "source": [
    "create_tables(db_file_path, table_queries)"
   ]
  },
  {
   "cell_type": "markdown",
   "id": "1ee42b02",
   "metadata": {},
   "source": [
    "### 2.3) Populating Tables"
   ]
  },
  {
   "cell_type": "markdown",
   "id": "f085151c",
   "metadata": {},
   "source": [
    "#### 2.3.1) Tabla `Regiones`"
   ]
  },
  {
   "cell_type": "code",
   "execution_count": null,
   "id": "a2acd4d4",
   "metadata": {},
   "outputs": [],
   "source": [
    "# Region names and corresponding Ids    \n",
    "with open(os.path.join(project_folder_path, 'utils/json_files/region_name__region_id.json')) as json_file:\n",
    "    region_name__region_id_dict = json.load(json_file)\n",
    "    \n",
    "# Invert the dictionary\n",
    "region_id__region_name_dict = {value: key for key, value in region_name__region_id_dict.items()}\n",
    "\n",
    "# Create dataframe from dictionary\n",
    "regiones_df = pd.DataFrame(list(region_id__region_name_dict.items()), columns=['region_id', 'region_name'])\n",
    "regiones_df['region_id'] = regiones_df['region_id'].astype(int)"
   ]
  },
  {
   "cell_type": "code",
   "execution_count": null,
   "id": "4b1003c9",
   "metadata": {},
   "outputs": [],
   "source": [
    "# Fill table Regiones\n",
    "fill_table_from_dataframe(db_file_path, 'regiones', regiones_df)"
   ]
  },
  {
   "cell_type": "markdown",
   "id": "4c3b9958",
   "metadata": {},
   "source": [
    "#### 2.3.2) Tabla `Comunas`"
   ]
  },
  {
   "cell_type": "code",
   "execution_count": null,
   "id": "ec74713d",
   "metadata": {},
   "outputs": [],
   "source": [
    "# Commune Id and corresponding Commune Name       \n",
    "with open(os.path.join(project_folder_path, 'utils/json_files/commune_id__commune_name.json')) as json_file:\n",
    "    commune_id__commune_name_dict = json.load(json_file)\n",
    "# Create dataframe from dictionary\n",
    "comunas_df = pd.DataFrame(list(commune_id__commune_name_dict.items()), columns=['comuna_id', 'comuna_name'])\n",
    "comunas_df['comuna_id'] = comunas_df['comuna_id'].astype(int)\n",
    "comunas_df.head()  "
   ]
  },
  {
   "cell_type": "code",
   "execution_count": null,
   "id": "4a46726f",
   "metadata": {},
   "outputs": [],
   "source": [
    "# Region Id and corresponding Communes Ids       \n",
    "with open(os.path.join(project_folder_path, 'utils/json_files/region_id__commune_id.json')) as json_file:\n",
    "    region_id__commune_id_dict = json.load(json_file)\n",
    "# Transform the dictionary 'region_id__commune_id_dict' into a list of dictionaries\n",
    "data_list = []\n",
    "for key, values in region_id__commune_id_dict.items():\n",
    "    for value in values:\n",
    "        data_list.append({'comuna_id': value, 'region_id': key})\n",
    "# Create a DataFrame from the list of dictionaries\n",
    "comuna_region_df = pd.DataFrame(data_list)\n",
    "comuna_region_df['comuna_id'] = comuna_region_df['comuna_id'].astype(int)\n",
    "comuna_region_df['region_id'] = comuna_region_df['region_id'].astype(int)\n",
    "# Add region_id column to dataframe\n",
    "comunas_df = pd.merge(comunas_df, comuna_region_df, on='comuna_id', how='left')\n",
    "comunas_df.head()"
   ]
  },
  {
   "cell_type": "code",
   "execution_count": null,
   "id": "a708e25c",
   "metadata": {},
   "outputs": [],
   "source": [
    "# Fill table Comunas\n",
    "fill_table_from_dataframe(db_file_path, 'comunas', comunas_df)"
   ]
  },
  {
   "cell_type": "markdown",
   "id": "ffbce729",
   "metadata": {},
   "source": [
    "#### 2.3.3) Tabla `viewstate_region`"
   ]
  },
  {
   "cell_type": "code",
   "execution_count": null,
   "id": "6da6c86f",
   "metadata": {},
   "outputs": [],
   "source": [
    "# Region id and corresponding Viewstate argument       \n",
    "with open(os.path.join(project_folder_path, 'utils/json_files/viewstate.json')) as json_file:\n",
    "    region_id__viewstate_arg_dict = json.load(json_file)\n",
    "    \n",
    "# Create a DataFrame from the list of dictionaries\n",
    "viewstate_region_df = pd.DataFrame(list(region_id__viewstate_arg_dict.items()), columns=['region_id', 'viewstate'])\n",
    "viewstate_region_df = viewstate_region_df[viewstate_region_df['region_id'] != '-1'].reset_index(drop=True)\n",
    "viewstate_region_df['region_id'] = viewstate_region_df['region_id'].astype(int)\n",
    "viewstate_region_df.head()"
   ]
  },
  {
   "cell_type": "code",
   "execution_count": null,
   "id": "96f1fa88",
   "metadata": {},
   "outputs": [],
   "source": [
    "# Fill table viewstate_region\n",
    "fill_table_from_dataframe(db_file_path, 'viewstate_region', viewstate_region_df)"
   ]
  },
  {
   "cell_type": "markdown",
   "id": "3849c47e",
   "metadata": {},
   "source": [
    "**Remaining tables are filled in next steps !!!**"
   ]
  },
  {
   "cell_type": "markdown",
   "id": "87da89ba",
   "metadata": {},
   "source": [
    "## END"
   ]
  }
 ],
 "metadata": {
  "kernelspec": {
   "display_name": "Python 3 (ipykernel)",
   "language": "python",
   "name": "python3"
  },
  "language_info": {
   "codemirror_mode": {
    "name": "ipython",
    "version": 3
   },
   "file_extension": ".py",
   "mimetype": "text/x-python",
   "name": "python",
   "nbconvert_exporter": "python",
   "pygments_lexer": "ipython3",
   "version": "3.11.9"
  }
 },
 "nbformat": 4,
 "nbformat_minor": 5
}
