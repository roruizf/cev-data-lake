{
 "cells": [
  {
   "cell_type": "code",
   "execution_count": 1,
   "id": "704245b5",
   "metadata": {},
   "outputs": [
    {
     "name": "stderr",
     "output_type": "stream",
     "text": [
      "/home/roruizf/anaconda3/envs/data_env/lib/python3.9/site-packages/pandas/core/computation/expressions.py:21: UserWarning: Pandas requires version '2.8.0' or newer of 'numexpr' (version '2.7.3' currently installed).\n",
      "  from pandas.core.computation.check import NUMEXPR_INSTALLED\n",
      "/home/roruizf/anaconda3/envs/data_env/lib/python3.9/site-packages/pandas/core/arrays/masked.py:62: UserWarning: Pandas requires version '1.3.4' or newer of 'bottleneck' (version '1.3.2' currently installed).\n",
      "  from pandas.core import (\n"
     ]
    },
    {
     "name": "stdout",
     "output_type": "stream",
     "text": [
      "/mnt/c/Users/rober/OneDrive/8_DEVELOPMENT/cev-data-lake\n"
     ]
    }
   ],
   "source": [
    "import requests\n",
    "import time\n",
    "from datetime import datetime\n",
    "import pandas as pd\n",
    "import os\n",
    "import json\n",
    "import uuid\n",
    "import sqlite3\n",
    "import sys\n",
    "from dotenv import load_dotenv\n",
    "# Load the .env file\n",
    "load_dotenv()\n",
    "# Access the environment variables\n",
    "project_folder_path = os.getenv('PROJECT_FOLDER_PATH')\n",
    "print(project_folder_path)\n",
    "sys.path.append(project_folder_path)\n",
    "from utils.db_functs import *\n",
    "from utils.requests_functs import *"
   ]
  },
  {
   "cell_type": "markdown",
   "id": "8f08a9ff",
   "metadata": {},
   "source": [
    "### Database and directories"
   ]
  },
  {
   "cell_type": "code",
   "execution_count": 2,
   "id": "cea50e71",
   "metadata": {},
   "outputs": [],
   "source": [
    "db_file_name = 'cev-database-coordinates-v1.db'\n",
    "db_file_path = os.path.join(project_folder_path, 'data', 'sqlite', db_file_name)"
   ]
  },
  {
   "cell_type": "markdown",
   "id": "bb084b1c",
   "metadata": {},
   "source": [
    "## 1) Define parameters to run a `search`\n",
    "This can be a new search or retake a previous one"
   ]
  },
  {
   "cell_type": "markdown",
   "id": "40c1871f",
   "metadata": {},
   "source": [
    "#### 1.1) New search"
   ]
  },
  {
   "cell_type": "markdown",
   "id": "98af8f94",
   "metadata": {},
   "source": [
    "search_id = uuid.uuid4()\n",
    "search_date = datetime.now().strftime(\"%Y-%m-%d\")"
   ]
  },
  {
   "cell_type": "markdown",
   "id": "e3d70094",
   "metadata": {},
   "source": [
    "#### 1.2) Previous `search`"
   ]
  },
  {
   "cell_type": "code",
   "execution_count": 3,
   "id": "d24f1b4b",
   "metadata": {},
   "outputs": [],
   "source": [
    "search_id = '4bd70bab-b20c-4e27-b514-92ff6fa70351'\n",
    "#search_id = '010576e8-90f1-42c4-88bc-3965b5c4c238'\n",
    "search_date = '2024-05-02'\n",
    "#search_date = '2024-04-21'"
   ]
  },
  {
   "cell_type": "markdown",
   "id": "f9025cf2",
   "metadata": {},
   "source": [
    "## 2) Define a dataframe with download coordinates\n",
    "The dataframe must contain 1 row per `comuna` meaning 348 rows in total."
   ]
  },
  {
   "cell_type": "code",
   "execution_count": 4,
   "id": "17892519",
   "metadata": {},
   "outputs": [],
   "source": [
    "query = \"\"\"\n",
    "        SELECT c.comuna_id, c.comuna_name, r.region_id, r.region_name, v.viewstate\n",
    "        FROM comunas AS c\n",
    "        LEFT JOIN regiones AS r ON c.region_id = r.region_id\n",
    "        LEFT JOIN viewstate_region AS v ON r.region_id = v.region_id\n",
    "        ORDER BY r.region_id ASC, c.comuna_id ASC;\n",
    "        \"\"\""
   ]
  },
  {
   "cell_type": "code",
   "execution_count": 5,
   "id": "2f8e3707",
   "metadata": {},
   "outputs": [
    {
     "data": {
      "text/html": [
       "<div>\n",
       "<style scoped>\n",
       "    .dataframe tbody tr th:only-of-type {\n",
       "        vertical-align: middle;\n",
       "    }\n",
       "\n",
       "    .dataframe tbody tr th {\n",
       "        vertical-align: top;\n",
       "    }\n",
       "\n",
       "    .dataframe thead th {\n",
       "        text-align: right;\n",
       "    }\n",
       "</style>\n",
       "<table border=\"1\" class=\"dataframe\">\n",
       "  <thead>\n",
       "    <tr style=\"text-align: right;\">\n",
       "      <th></th>\n",
       "      <th>comuna_id</th>\n",
       "      <th>comuna_name</th>\n",
       "      <th>region_id</th>\n",
       "      <th>region_name</th>\n",
       "      <th>viewstate</th>\n",
       "    </tr>\n",
       "  </thead>\n",
       "  <tbody>\n",
       "    <tr>\n",
       "      <th>0</th>\n",
       "      <td>5</td>\n",
       "      <td>Alto Hospicio</td>\n",
       "      <td>1</td>\n",
       "      <td>Región de Tarapacá</td>\n",
       "      <td>ds+vjgdHrGUwuQ7Wtfp/As3TijOJzWl4Am50L+MDzxvCmr...</td>\n",
       "    </tr>\n",
       "    <tr>\n",
       "      <th>1</th>\n",
       "      <td>26</td>\n",
       "      <td>Camiña</td>\n",
       "      <td>1</td>\n",
       "      <td>Región de Tarapacá</td>\n",
       "      <td>ds+vjgdHrGUwuQ7Wtfp/As3TijOJzWl4Am50L+MDzxvCmr...</td>\n",
       "    </tr>\n",
       "    <tr>\n",
       "      <th>2</th>\n",
       "      <td>57</td>\n",
       "      <td>Colchane</td>\n",
       "      <td>1</td>\n",
       "      <td>Región de Tarapacá</td>\n",
       "      <td>ds+vjgdHrGUwuQ7Wtfp/As3TijOJzWl4Am50L+MDzxvCmr...</td>\n",
       "    </tr>\n",
       "    <tr>\n",
       "      <th>3</th>\n",
       "      <td>108</td>\n",
       "      <td>Huara</td>\n",
       "      <td>1</td>\n",
       "      <td>Región de Tarapacá</td>\n",
       "      <td>ds+vjgdHrGUwuQ7Wtfp/As3TijOJzWl4Am50L+MDzxvCmr...</td>\n",
       "    </tr>\n",
       "    <tr>\n",
       "      <th>4</th>\n",
       "      <td>113</td>\n",
       "      <td>Iquique</td>\n",
       "      <td>1</td>\n",
       "      <td>Región de Tarapacá</td>\n",
       "      <td>ds+vjgdHrGUwuQ7Wtfp/As3TijOJzWl4Am50L+MDzxvCmr...</td>\n",
       "    </tr>\n",
       "  </tbody>\n",
       "</table>\n",
       "</div>"
      ],
      "text/plain": [
       "   comuna_id    comuna_name  region_id         region_name  \\\n",
       "0          5  Alto Hospicio          1  Región de Tarapacá   \n",
       "1         26         Camiña          1  Región de Tarapacá   \n",
       "2         57       Colchane          1  Región de Tarapacá   \n",
       "3        108          Huara          1  Región de Tarapacá   \n",
       "4        113        Iquique          1  Región de Tarapacá   \n",
       "\n",
       "                                           viewstate  \n",
       "0  ds+vjgdHrGUwuQ7Wtfp/As3TijOJzWl4Am50L+MDzxvCmr...  \n",
       "1  ds+vjgdHrGUwuQ7Wtfp/As3TijOJzWl4Am50L+MDzxvCmr...  \n",
       "2  ds+vjgdHrGUwuQ7Wtfp/As3TijOJzWl4Am50L+MDzxvCmr...  \n",
       "3  ds+vjgdHrGUwuQ7Wtfp/As3TijOJzWl4Am50L+MDzxvCmr...  \n",
       "4  ds+vjgdHrGUwuQ7Wtfp/As3TijOJzWl4Am50L+MDzxvCmr...  "
      ]
     },
     "execution_count": 5,
     "metadata": {},
     "output_type": "execute_result"
    }
   ],
   "source": [
    "df = create_dataframe_from_query(db_file_path, query)\n",
    "df.head()"
   ]
  },
  {
   "cell_type": "markdown",
   "id": "89fdaf47",
   "metadata": {},
   "source": [
    "Set additional features to track the status of downloads as well as times and file names"
   ]
  },
  {
   "cell_type": "code",
   "execution_count": 6,
   "id": "b81f76dc",
   "metadata": {},
   "outputs": [
    {
     "data": {
      "text/html": [
       "<div>\n",
       "<style scoped>\n",
       "    .dataframe tbody tr th:only-of-type {\n",
       "        vertical-align: middle;\n",
       "    }\n",
       "\n",
       "    .dataframe tbody tr th {\n",
       "        vertical-align: top;\n",
       "    }\n",
       "\n",
       "    .dataframe thead th {\n",
       "        text-align: right;\n",
       "    }\n",
       "</style>\n",
       "<table border=\"1\" class=\"dataframe\">\n",
       "  <thead>\n",
       "    <tr style=\"text-align: right;\">\n",
       "      <th></th>\n",
       "      <th>comuna_id</th>\n",
       "      <th>comuna_name</th>\n",
       "      <th>region_id</th>\n",
       "      <th>region_name</th>\n",
       "      <th>viewstate</th>\n",
       "      <th>search_id</th>\n",
       "      <th>search_date</th>\n",
       "      <th>status</th>\n",
       "      <th>html_filename</th>\n",
       "      <th>downloaded_at</th>\n",
       "    </tr>\n",
       "  </thead>\n",
       "  <tbody>\n",
       "    <tr>\n",
       "      <th>0</th>\n",
       "      <td>5</td>\n",
       "      <td>Alto Hospicio</td>\n",
       "      <td>1</td>\n",
       "      <td>Región de Tarapacá</td>\n",
       "      <td>ds+vjgdHrGUwuQ7Wtfp/As3TijOJzWl4Am50L+MDzxvCmr...</td>\n",
       "      <td>4bd70bab-b20c-4e27-b514-92ff6fa70351</td>\n",
       "      <td>2024-05-02</td>\n",
       "      <td>None</td>\n",
       "      <td>None</td>\n",
       "      <td>None</td>\n",
       "    </tr>\n",
       "    <tr>\n",
       "      <th>1</th>\n",
       "      <td>26</td>\n",
       "      <td>Camiña</td>\n",
       "      <td>1</td>\n",
       "      <td>Región de Tarapacá</td>\n",
       "      <td>ds+vjgdHrGUwuQ7Wtfp/As3TijOJzWl4Am50L+MDzxvCmr...</td>\n",
       "      <td>4bd70bab-b20c-4e27-b514-92ff6fa70351</td>\n",
       "      <td>2024-05-02</td>\n",
       "      <td>None</td>\n",
       "      <td>None</td>\n",
       "      <td>None</td>\n",
       "    </tr>\n",
       "    <tr>\n",
       "      <th>2</th>\n",
       "      <td>57</td>\n",
       "      <td>Colchane</td>\n",
       "      <td>1</td>\n",
       "      <td>Región de Tarapacá</td>\n",
       "      <td>ds+vjgdHrGUwuQ7Wtfp/As3TijOJzWl4Am50L+MDzxvCmr...</td>\n",
       "      <td>4bd70bab-b20c-4e27-b514-92ff6fa70351</td>\n",
       "      <td>2024-05-02</td>\n",
       "      <td>None</td>\n",
       "      <td>None</td>\n",
       "      <td>None</td>\n",
       "    </tr>\n",
       "    <tr>\n",
       "      <th>3</th>\n",
       "      <td>108</td>\n",
       "      <td>Huara</td>\n",
       "      <td>1</td>\n",
       "      <td>Región de Tarapacá</td>\n",
       "      <td>ds+vjgdHrGUwuQ7Wtfp/As3TijOJzWl4Am50L+MDzxvCmr...</td>\n",
       "      <td>4bd70bab-b20c-4e27-b514-92ff6fa70351</td>\n",
       "      <td>2024-05-02</td>\n",
       "      <td>None</td>\n",
       "      <td>None</td>\n",
       "      <td>None</td>\n",
       "    </tr>\n",
       "    <tr>\n",
       "      <th>4</th>\n",
       "      <td>113</td>\n",
       "      <td>Iquique</td>\n",
       "      <td>1</td>\n",
       "      <td>Región de Tarapacá</td>\n",
       "      <td>ds+vjgdHrGUwuQ7Wtfp/As3TijOJzWl4Am50L+MDzxvCmr...</td>\n",
       "      <td>4bd70bab-b20c-4e27-b514-92ff6fa70351</td>\n",
       "      <td>2024-05-02</td>\n",
       "      <td>None</td>\n",
       "      <td>None</td>\n",
       "      <td>None</td>\n",
       "    </tr>\n",
       "  </tbody>\n",
       "</table>\n",
       "</div>"
      ],
      "text/plain": [
       "   comuna_id    comuna_name  region_id         region_name  \\\n",
       "0          5  Alto Hospicio          1  Región de Tarapacá   \n",
       "1         26         Camiña          1  Región de Tarapacá   \n",
       "2         57       Colchane          1  Región de Tarapacá   \n",
       "3        108          Huara          1  Región de Tarapacá   \n",
       "4        113        Iquique          1  Región de Tarapacá   \n",
       "\n",
       "                                           viewstate  \\\n",
       "0  ds+vjgdHrGUwuQ7Wtfp/As3TijOJzWl4Am50L+MDzxvCmr...   \n",
       "1  ds+vjgdHrGUwuQ7Wtfp/As3TijOJzWl4Am50L+MDzxvCmr...   \n",
       "2  ds+vjgdHrGUwuQ7Wtfp/As3TijOJzWl4Am50L+MDzxvCmr...   \n",
       "3  ds+vjgdHrGUwuQ7Wtfp/As3TijOJzWl4Am50L+MDzxvCmr...   \n",
       "4  ds+vjgdHrGUwuQ7Wtfp/As3TijOJzWl4Am50L+MDzxvCmr...   \n",
       "\n",
       "                              search_id search_date status html_filename  \\\n",
       "0  4bd70bab-b20c-4e27-b514-92ff6fa70351  2024-05-02   None          None   \n",
       "1  4bd70bab-b20c-4e27-b514-92ff6fa70351  2024-05-02   None          None   \n",
       "2  4bd70bab-b20c-4e27-b514-92ff6fa70351  2024-05-02   None          None   \n",
       "3  4bd70bab-b20c-4e27-b514-92ff6fa70351  2024-05-02   None          None   \n",
       "4  4bd70bab-b20c-4e27-b514-92ff6fa70351  2024-05-02   None          None   \n",
       "\n",
       "  downloaded_at  \n",
       "0          None  \n",
       "1          None  \n",
       "2          None  \n",
       "3          None  \n",
       "4          None  "
      ]
     },
     "execution_count": 6,
     "metadata": {},
     "output_type": "execute_result"
    }
   ],
   "source": [
    "df['search_id'] = search_id\n",
    "df['search_date'] = search_date\n",
    "df['status'] = None\n",
    "df['html_filename'] = None\n",
    "df['downloaded_at'] = None\n",
    "df.head()"
   ]
  },
  {
   "cell_type": "markdown",
   "id": "61155037",
   "metadata": {},
   "source": [
    "## 3) Check first if any html files has been downloaded\n",
    "This is useful in case a seach has been run and has not completed"
   ]
  },
  {
   "cell_type": "markdown",
   "id": "0a0a302f",
   "metadata": {},
   "source": [
    "### 3.1) Read all html files for the corresponding `search_date` and `search_id`"
   ]
  },
  {
   "cell_type": "code",
   "execution_count": 7,
   "id": "8928eba4",
   "metadata": {},
   "outputs": [
    {
     "name": "stdout",
     "output_type": "stream",
     "text": [
      "The directory: /mnt/c/Users/rober/OneDrive/8_DEVELOPMENT/cev-data-lake/data/raw/1_total_evals_comuna/2024-05-02_4bd70bab-b20c-4e27-b514-92ff6fa70351/html_files contains 348 out of 348\n"
     ]
    }
   ],
   "source": [
    "# Define the directory path\n",
    "html_files_dir = os.path.join(project_folder_path, 'data', 'raw', '1_total_evals_comuna', f'{search_date}_{search_id}', 'html_files')\n",
    "\n",
    "# Check if the directory exists\n",
    "if not os.path.exists(html_files_dir):\n",
    "    # If it doesn't exist, create the directory\n",
    "    os.makedirs(html_files_dir)\n",
    "    print(f\"Directory '{html_files_dir}' created.\")\n",
    "\n",
    "# List all files in the directory\n",
    "html_files = os.listdir(html_files_dir)\n",
    "print(f'The directory: {html_files_dir} contains {len(html_files)} out of {df.shape[0]}')"
   ]
  },
  {
   "cell_type": "markdown",
   "id": "af9c3748",
   "metadata": {},
   "source": [
    "### 3.2) Fill on dataframe all those rows corresponding to files already donwloaded"
   ]
  },
  {
   "cell_type": "code",
   "execution_count": 8,
   "id": "552eaca1",
   "metadata": {},
   "outputs": [
    {
     "data": {
      "text/html": [
       "<div>\n",
       "<style scoped>\n",
       "    .dataframe tbody tr th:only-of-type {\n",
       "        vertical-align: middle;\n",
       "    }\n",
       "\n",
       "    .dataframe tbody tr th {\n",
       "        vertical-align: top;\n",
       "    }\n",
       "\n",
       "    .dataframe thead th {\n",
       "        text-align: right;\n",
       "    }\n",
       "</style>\n",
       "<table border=\"1\" class=\"dataframe\">\n",
       "  <thead>\n",
       "    <tr style=\"text-align: right;\">\n",
       "      <th></th>\n",
       "      <th>comuna_id</th>\n",
       "      <th>comuna_name</th>\n",
       "      <th>region_id</th>\n",
       "      <th>region_name</th>\n",
       "      <th>viewstate</th>\n",
       "      <th>search_id</th>\n",
       "      <th>search_date</th>\n",
       "      <th>status</th>\n",
       "      <th>html_filename</th>\n",
       "      <th>downloaded_at</th>\n",
       "    </tr>\n",
       "  </thead>\n",
       "  <tbody>\n",
       "    <tr>\n",
       "      <th>0</th>\n",
       "      <td>5</td>\n",
       "      <td>Alto Hospicio</td>\n",
       "      <td>1</td>\n",
       "      <td>Región de Tarapacá</td>\n",
       "      <td>ds+vjgdHrGUwuQ7Wtfp/As3TijOJzWl4Am50L+MDzxvCmr...</td>\n",
       "      <td>4bd70bab-b20c-4e27-b514-92ff6fa70351</td>\n",
       "      <td>2024-05-02</td>\n",
       "      <td>Successful</td>\n",
       "      <td>1_5_2024-05-02_15-30-05.html</td>\n",
       "      <td>2024-05-02 15:30:05</td>\n",
       "    </tr>\n",
       "    <tr>\n",
       "      <th>1</th>\n",
       "      <td>26</td>\n",
       "      <td>Camiña</td>\n",
       "      <td>1</td>\n",
       "      <td>Región de Tarapacá</td>\n",
       "      <td>ds+vjgdHrGUwuQ7Wtfp/As3TijOJzWl4Am50L+MDzxvCmr...</td>\n",
       "      <td>4bd70bab-b20c-4e27-b514-92ff6fa70351</td>\n",
       "      <td>2024-05-02</td>\n",
       "      <td>Successful</td>\n",
       "      <td>1_26_2024-05-02_15-30-07.html</td>\n",
       "      <td>2024-05-02 15:30:07</td>\n",
       "    </tr>\n",
       "    <tr>\n",
       "      <th>2</th>\n",
       "      <td>57</td>\n",
       "      <td>Colchane</td>\n",
       "      <td>1</td>\n",
       "      <td>Región de Tarapacá</td>\n",
       "      <td>ds+vjgdHrGUwuQ7Wtfp/As3TijOJzWl4Am50L+MDzxvCmr...</td>\n",
       "      <td>4bd70bab-b20c-4e27-b514-92ff6fa70351</td>\n",
       "      <td>2024-05-02</td>\n",
       "      <td>Successful</td>\n",
       "      <td>1_57_2024-05-02_15-30-09.html</td>\n",
       "      <td>2024-05-02 15:30:09</td>\n",
       "    </tr>\n",
       "    <tr>\n",
       "      <th>3</th>\n",
       "      <td>108</td>\n",
       "      <td>Huara</td>\n",
       "      <td>1</td>\n",
       "      <td>Región de Tarapacá</td>\n",
       "      <td>ds+vjgdHrGUwuQ7Wtfp/As3TijOJzWl4Am50L+MDzxvCmr...</td>\n",
       "      <td>4bd70bab-b20c-4e27-b514-92ff6fa70351</td>\n",
       "      <td>2024-05-02</td>\n",
       "      <td>Successful</td>\n",
       "      <td>1_108_2024-05-02_15-30-11.html</td>\n",
       "      <td>2024-05-02 15:30:11</td>\n",
       "    </tr>\n",
       "    <tr>\n",
       "      <th>4</th>\n",
       "      <td>113</td>\n",
       "      <td>Iquique</td>\n",
       "      <td>1</td>\n",
       "      <td>Región de Tarapacá</td>\n",
       "      <td>ds+vjgdHrGUwuQ7Wtfp/As3TijOJzWl4Am50L+MDzxvCmr...</td>\n",
       "      <td>4bd70bab-b20c-4e27-b514-92ff6fa70351</td>\n",
       "      <td>2024-05-02</td>\n",
       "      <td>Successful</td>\n",
       "      <td>1_113_2024-05-02_15-30-16.html</td>\n",
       "      <td>2024-05-02 15:30:16</td>\n",
       "    </tr>\n",
       "  </tbody>\n",
       "</table>\n",
       "</div>"
      ],
      "text/plain": [
       "   comuna_id    comuna_name  region_id         region_name  \\\n",
       "0          5  Alto Hospicio          1  Región de Tarapacá   \n",
       "1         26         Camiña          1  Región de Tarapacá   \n",
       "2         57       Colchane          1  Región de Tarapacá   \n",
       "3        108          Huara          1  Región de Tarapacá   \n",
       "4        113        Iquique          1  Región de Tarapacá   \n",
       "\n",
       "                                           viewstate  \\\n",
       "0  ds+vjgdHrGUwuQ7Wtfp/As3TijOJzWl4Am50L+MDzxvCmr...   \n",
       "1  ds+vjgdHrGUwuQ7Wtfp/As3TijOJzWl4Am50L+MDzxvCmr...   \n",
       "2  ds+vjgdHrGUwuQ7Wtfp/As3TijOJzWl4Am50L+MDzxvCmr...   \n",
       "3  ds+vjgdHrGUwuQ7Wtfp/As3TijOJzWl4Am50L+MDzxvCmr...   \n",
       "4  ds+vjgdHrGUwuQ7Wtfp/As3TijOJzWl4Am50L+MDzxvCmr...   \n",
       "\n",
       "                              search_id search_date      status  \\\n",
       "0  4bd70bab-b20c-4e27-b514-92ff6fa70351  2024-05-02  Successful   \n",
       "1  4bd70bab-b20c-4e27-b514-92ff6fa70351  2024-05-02  Successful   \n",
       "2  4bd70bab-b20c-4e27-b514-92ff6fa70351  2024-05-02  Successful   \n",
       "3  4bd70bab-b20c-4e27-b514-92ff6fa70351  2024-05-02  Successful   \n",
       "4  4bd70bab-b20c-4e27-b514-92ff6fa70351  2024-05-02  Successful   \n",
       "\n",
       "                    html_filename        downloaded_at  \n",
       "0    1_5_2024-05-02_15-30-05.html  2024-05-02 15:30:05  \n",
       "1   1_26_2024-05-02_15-30-07.html  2024-05-02 15:30:07  \n",
       "2   1_57_2024-05-02_15-30-09.html  2024-05-02 15:30:09  \n",
       "3  1_108_2024-05-02_15-30-11.html  2024-05-02 15:30:11  \n",
       "4  1_113_2024-05-02_15-30-16.html  2024-05-02 15:30:16  "
      ]
     },
     "execution_count": 8,
     "metadata": {},
     "output_type": "execute_result"
    }
   ],
   "source": [
    "# Assuming df is your DataFrame\n",
    "df['combined_key'] = df['region_id'].astype(str) + '_' + df['comuna_id'].astype(str)\n",
    "\n",
    "for html_file in html_files:\n",
    "    html_file_list = html_file.split('_')\n",
    "    region_id = int(html_file_list[0])\n",
    "    comuna_id = int(html_file_list[1])\n",
    "    date = html_file_list[2]\n",
    "    time = html_file_list[3].split('.')[0].replace('-', ':')\n",
    "    date_time = date + ' ' + time\n",
    "    #row = df[df['region_id'].astype(str) + '_' + df['comuna_id'].astype(str) == str(region_id) + '_' + str(comuna_id)]\n",
    "    combined_key = f\"{region_id}_{comuna_id}\"    \n",
    "    row_index = df.index[df['combined_key'] == combined_key]\n",
    "\n",
    "    if not row_index.empty:\n",
    "        df.loc[row_index, 'status'] = 'Successful'\n",
    "        df.loc[row_index, 'html_filename'] = html_file\n",
    "        df.loc[row_index, 'downloaded_at'] = date_time\n",
    "    \n",
    "# Drop the combined_key column at the end\n",
    "df.drop(columns=['combined_key'], inplace=True)\n",
    "\n",
    "df.head()\n",
    "#df['status'].value_counts(dropna=False)"
   ]
  },
  {
   "cell_type": "markdown",
   "id": "b66ac473",
   "metadata": {},
   "source": [
    "## 3) Download HTML files per Comuna: Only those that have not been downloaded yet\n",
    "For a new run, all files must be downloaded"
   ]
  },
  {
   "cell_type": "code",
   "execution_count": 9,
   "id": "57bed82d",
   "metadata": {},
   "outputs": [],
   "source": [
    "HOME_URL = 'http://calificacionenergeticaweb.minvu.cl/Publico/BusquedaVivienda.aspx'"
   ]
  },
  {
   "cell_type": "code",
   "execution_count": 10,
   "id": "9920ea5c",
   "metadata": {},
   "outputs": [
    {
     "name": "stdout",
     "output_type": "stream",
     "text": [
      "Attempt 1 of 5: 0 communes to process\n"
     ]
    }
   ],
   "source": [
    "MAX_ATTEMPTS = 5\n",
    "DELAY_BETWEEN_ATTEMPTS = 15\n",
    "\n",
    "attempts = 0\n",
    "while attempts < MAX_ATTEMPTS:\n",
    "    all_successful = True  # Flag to track if all rows are successful in this attempt\n",
    "    communes_to_process = df[df['status'] != 'Successful'].shape[0]\n",
    "    print(f\"Attempt {attempts + 1} of {MAX_ATTEMPTS}: {communes_to_process} communes to process\")\n",
    "\n",
    "    for index, row in df.iterrows():\n",
    "        if df.loc[index, 'status'] != 'Successful':\n",
    "            region_id = row['region_id']\n",
    "            comuna_id = row['comuna_id']\n",
    "            rating_type = '-1'\n",
    "            viewstate = row['viewstate']\n",
    "            form_data = form_data_consulta(region_id, comuna_id, rating_type, viewstate)\n",
    "            \n",
    "            print(f\" * Processing {row['region_name']}, {row['comuna_name']} / file {index + 1} out of {communes_to_process}\")\n",
    "           \n",
    "            try:\n",
    "                response = requests.post(HOME_URL, data=form_data)\n",
    "\n",
    "                if response.status_code == 200:\n",
    "                    # Record the current time after making the request\n",
    "                    request_time = datetime.now()\n",
    "                    downloaded_on = request_time.strftime(\"%Y-%m-%d\")\n",
    "                    downloaded_at = request_time.strftime(\"%Y-%m-%d %H:%M:%S\")\n",
    "                    \n",
    "                    df.loc[index, 'status'] = 'Successful'\n",
    "                    \n",
    "                    # Saving html data into a local folder\n",
    "                    html_path = html_files_dir\n",
    "                   \n",
    "                    if not os.path.exists(html_path):\n",
    "                        os.makedirs(html_path)\n",
    "\n",
    "                    html_filename = str(region_id) + \"_\" + str(comuna_id) + \"_\" + request_time.strftime(\"%Y-%m-%d_%H-%M-%S\") + '.html'\n",
    "\n",
    "                    with open(os.path.join(html_path, html_filename), \"wb\") as f:\n",
    "                        f.write(response.content)                    \n",
    "                    \n",
    "                    df.loc[index, 'html_filename'] = html_filename\n",
    "                    df.loc[index, 'downloaded_at'] = downloaded_at\n",
    "                else:\n",
    "                    df.loc[index, 'status'] = 'Failed'\n",
    "                    print(f\"Request failed for region {row['region_name']}, commune {row['comuna_name']}. Skipping to the next row.\")\n",
    "                    continue  # Skip to the next iteration of the loop\n",
    "                #df.loc[index, 'status_code'] = response.status_code\n",
    "            \n",
    "            except Exception as e:\n",
    "                print(f\"An error occurred for region {row['region_name']}, commune {row['comuna_name']}: {str(e)}\")\n",
    "                df.loc[index, 'status'] = 'Failed'\n",
    "                continue  # Skip to the next iteration of the loop\n",
    "            \n",
    "    \n",
    "    all_successful = all_successful and (df['status'] == 'Successful').all()\n",
    "\n",
    "    if all_successful:\n",
    "        break  # Exit the loop if all rows are successful\n",
    "    else:\n",
    "        attempts += 1\n",
    "        time.sleep(DELAY_BETWEEN_ATTEMPTS)  # Delay between attempts\n"
   ]
  },
  {
   "cell_type": "code",
   "execution_count": 11,
   "id": "67ea6334",
   "metadata": {},
   "outputs": [
    {
     "data": {
      "text/html": [
       "<div>\n",
       "<style scoped>\n",
       "    .dataframe tbody tr th:only-of-type {\n",
       "        vertical-align: middle;\n",
       "    }\n",
       "\n",
       "    .dataframe tbody tr th {\n",
       "        vertical-align: top;\n",
       "    }\n",
       "\n",
       "    .dataframe thead th {\n",
       "        text-align: right;\n",
       "    }\n",
       "</style>\n",
       "<table border=\"1\" class=\"dataframe\">\n",
       "  <thead>\n",
       "    <tr style=\"text-align: right;\">\n",
       "      <th></th>\n",
       "      <th>comuna_id</th>\n",
       "      <th>region_id</th>\n",
       "      <th>search_id</th>\n",
       "      <th>search_date</th>\n",
       "      <th>status</th>\n",
       "      <th>html_filename</th>\n",
       "      <th>downloaded_at</th>\n",
       "    </tr>\n",
       "  </thead>\n",
       "  <tbody>\n",
       "    <tr>\n",
       "      <th>0</th>\n",
       "      <td>5</td>\n",
       "      <td>1</td>\n",
       "      <td>4bd70bab-b20c-4e27-b514-92ff6fa70351</td>\n",
       "      <td>2024-05-02</td>\n",
       "      <td>Successful</td>\n",
       "      <td>1_5_2024-05-02_15-30-05.html</td>\n",
       "      <td>2024-05-02 15:30:05</td>\n",
       "    </tr>\n",
       "    <tr>\n",
       "      <th>1</th>\n",
       "      <td>26</td>\n",
       "      <td>1</td>\n",
       "      <td>4bd70bab-b20c-4e27-b514-92ff6fa70351</td>\n",
       "      <td>2024-05-02</td>\n",
       "      <td>Successful</td>\n",
       "      <td>1_26_2024-05-02_15-30-07.html</td>\n",
       "      <td>2024-05-02 15:30:07</td>\n",
       "    </tr>\n",
       "    <tr>\n",
       "      <th>2</th>\n",
       "      <td>57</td>\n",
       "      <td>1</td>\n",
       "      <td>4bd70bab-b20c-4e27-b514-92ff6fa70351</td>\n",
       "      <td>2024-05-02</td>\n",
       "      <td>Successful</td>\n",
       "      <td>1_57_2024-05-02_15-30-09.html</td>\n",
       "      <td>2024-05-02 15:30:09</td>\n",
       "    </tr>\n",
       "    <tr>\n",
       "      <th>3</th>\n",
       "      <td>108</td>\n",
       "      <td>1</td>\n",
       "      <td>4bd70bab-b20c-4e27-b514-92ff6fa70351</td>\n",
       "      <td>2024-05-02</td>\n",
       "      <td>Successful</td>\n",
       "      <td>1_108_2024-05-02_15-30-11.html</td>\n",
       "      <td>2024-05-02 15:30:11</td>\n",
       "    </tr>\n",
       "    <tr>\n",
       "      <th>4</th>\n",
       "      <td>113</td>\n",
       "      <td>1</td>\n",
       "      <td>4bd70bab-b20c-4e27-b514-92ff6fa70351</td>\n",
       "      <td>2024-05-02</td>\n",
       "      <td>Successful</td>\n",
       "      <td>1_113_2024-05-02_15-30-16.html</td>\n",
       "      <td>2024-05-02 15:30:16</td>\n",
       "    </tr>\n",
       "  </tbody>\n",
       "</table>\n",
       "</div>"
      ],
      "text/plain": [
       "   comuna_id  region_id                             search_id search_date  \\\n",
       "0          5          1  4bd70bab-b20c-4e27-b514-92ff6fa70351  2024-05-02   \n",
       "1         26          1  4bd70bab-b20c-4e27-b514-92ff6fa70351  2024-05-02   \n",
       "2         57          1  4bd70bab-b20c-4e27-b514-92ff6fa70351  2024-05-02   \n",
       "3        108          1  4bd70bab-b20c-4e27-b514-92ff6fa70351  2024-05-02   \n",
       "4        113          1  4bd70bab-b20c-4e27-b514-92ff6fa70351  2024-05-02   \n",
       "\n",
       "       status                   html_filename        downloaded_at  \n",
       "0  Successful    1_5_2024-05-02_15-30-05.html  2024-05-02 15:30:05  \n",
       "1  Successful   1_26_2024-05-02_15-30-07.html  2024-05-02 15:30:07  \n",
       "2  Successful   1_57_2024-05-02_15-30-09.html  2024-05-02 15:30:09  \n",
       "3  Successful  1_108_2024-05-02_15-30-11.html  2024-05-02 15:30:11  \n",
       "4  Successful  1_113_2024-05-02_15-30-16.html  2024-05-02 15:30:16  "
      ]
     },
     "execution_count": 11,
     "metadata": {},
     "output_type": "execute_result"
    }
   ],
   "source": [
    "# Drop specified columns\n",
    "columns_to_drop = ['region_name', 'comuna_name', 'viewstate']\n",
    "df = df.drop(columns=columns_to_drop)\n",
    "df.head()"
   ]
  },
  {
   "cell_type": "markdown",
   "id": "6aff4a49",
   "metadata": {},
   "source": [
    "### Save to database\n",
    "Save only those records that are not yet there."
   ]
  },
  {
   "cell_type": "code",
   "execution_count": 12,
   "id": "bc52f33c",
   "metadata": {},
   "outputs": [
    {
     "name": "stdout",
     "output_type": "stream",
     "text": [
      "Rows inserted into table 'html_files_by_comuna_and_search' successfully.\n"
     ]
    }
   ],
   "source": [
    "insert_unique_rows_from_dataframe(db_file_path, 'html_files_by_comuna_and_search', df, unique_columns=['comuna_id', 'region_id', 'search_id'])"
   ]
  },
  {
   "cell_type": "markdown",
   "id": "4e9aaf76",
   "metadata": {},
   "source": [
    "### END"
   ]
  }
 ],
 "metadata": {
  "kernelspec": {
   "display_name": "Python 3 (ipykernel)",
   "language": "python",
   "name": "python3"
  },
  "language_info": {
   "codemirror_mode": {
    "name": "ipython",
    "version": 3
   },
   "file_extension": ".py",
   "mimetype": "text/x-python",
   "name": "python",
   "nbconvert_exporter": "python",
   "pygments_lexer": "ipython3",
   "version": "3.9.7"
  }
 },
 "nbformat": 4,
 "nbformat_minor": 5
}
